{
  "nbformat": 4,
  "nbformat_minor": 0,
  "metadata": {
    "colab": {
      "name": "modelo bernoulli",
      "provenance": [],
      "authorship_tag": "ABX9TyPg9S3irInIWhX0mrlDDD3G",
      "include_colab_link": true
    },
    "kernelspec": {
      "name": "python3",
      "display_name": "Python 3"
    }
  },
  "cells": [
    {
      "cell_type": "markdown",
      "metadata": {
        "id": "view-in-github",
        "colab_type": "text"
      },
      "source": [
        "<a href=\"https://colab.research.google.com/github/CastanharoA/_projetos/blob/master/modelo_bernoulli.ipynb\" target=\"_parent\"><img src=\"https://colab.research.google.com/assets/colab-badge.svg\" alt=\"Open In Colab\"/></a>"
      ]
    },
    {
      "cell_type": "code",
      "metadata": {
        "id": "9lkJ4O8JNpkw"
      },
      "source": [
        "from random import seed\r\n",
        "from matplotlib import pyplot as plt\r\n",
        "import numpy as np\r\n",
        "from scipy.stats import binom\r\n",
        "\r\n",
        "import math"
      ],
      "execution_count": 1,
      "outputs": []
    },
    {
      "cell_type": "code",
      "metadata": {
        "colab": {
          "base_uri": "https://localhost:8080/",
          "height": 391
        },
        "id": "K84dnvegOelk",
        "outputId": "074dfacc-68b5-4c69-95da-5c2e84e51c87"
      },
      "source": [
        "seed(100) # semente do gerador de números aleatórios\r\n",
        "\r\n",
        "n = 100 # numero de lançamentos\r\n",
        "p = 0.3 # probabilidade de sair cara\r\n",
        "Pk = np.zeros(n)\r\n",
        "vk = np.arange(0,n)\r\n",
        "ns = 1000 # numero de simulacoes\r\n",
        "\r\n",
        "for j in range(0,ns): # faça para ns simulacoes\r\n",
        "    S = 0 # numero de sucessos\r\n",
        "    for i in range(0,n): # faça para n experimentos\r\n",
        "        r = np.random.uniform() #\r\n",
        "        if(r <= p): # se o sucesso\r\n",
        "            S = S + 1\r\n",
        "    Pk[S] = Pk[S] + 1\r\n",
        "Pk=Pk/sum(Pk) # normaliza a distribuição de probabilidade\r\n",
        "#plt.plot(vk, Pk, 'ro')\r\n",
        "plt.figure(figsize=(10,6))\r\n",
        "plt.xlim(0.8*np.min(vk[Pk>0]),1.2*np.max(vk[Pk>0]))\r\n",
        "plt.bar(vk, Pk, label='Simulacao')"
      ],
      "execution_count": 3,
      "outputs": [
        {
          "output_type": "execute_result",
          "data": {
            "text/plain": [
              "<BarContainer object of 100 artists>"
            ]
          },
          "metadata": {
            "tags": []
          },
          "execution_count": 3
        },
        {
          "output_type": "display_data",
          "data": {
            "image/png": "[encoded data removed]",
            "text/plain": [
              "<Figure size 720x432 with 1 Axes>"
            ]
          },
          "metadata": {
            "tags": [],
            "needs_background": "light"
          }
        }
      ]
    },
    {
      "cell_type": "code",
      "metadata": {
        "colab": {
          "base_uri": "https://localhost:8080/",
          "height": 284
        },
        "id": "uYs4NhjXPUlU",
        "outputId": "5d53b2d5-a664-44fa-fe4b-2e4fe78eeee3"
      },
      "source": [
        "# curva teórica\r\n",
        "Pkt = np.zeros(n+1) # valores teóricos da probabilidade\r\n",
        "vkt = np.arange(0,n+1) # variação em k\r\n",
        "for k in range(0,n+1): # varia de 0 até n\r\n",
        "    Pkt[k] = (math.factorial(n)/(math.factorial(n-k)*math.factorial(k)))*(p**k)*(1-p)**(n-k)\r\n",
        "plt.plot(vkt, Pkt, 'r--', label='Prob. Teórica')\r\n",
        "\r\n",
        "plt.xlabel('k', fontsize = 15)\r\n",
        "plt.ylabel('P(k)',fontsize = 15)\r\n",
        "plt.legend()\r\n",
        "plt.show(True)"
      ],
      "execution_count": 4,
      "outputs": [
        {
          "output_type": "display_data",
          "data": {
            "image/png": "[encoded data removed]",
            "text/plain": [
              "<Figure size 432x288 with 1 Axes>"
            ]
          },
          "metadata": {
            "tags": [],
            "needs_background": "light"
          }
        }
      ]
    }
  ]
}
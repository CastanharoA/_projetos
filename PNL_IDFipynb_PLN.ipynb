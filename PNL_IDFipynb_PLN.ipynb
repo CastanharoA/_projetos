{
  "nbformat": 4,
  "nbformat_minor": 0,
  "metadata": {
    "colab": {
      "provenance": [],
      "include_colab_link": true
    },
    "kernelspec": {
      "name": "python3",
      "display_name": "Python 3"
    },
    "language_info": {
      "name": "python"
    }
  },
  "cells": [
    {
      "cell_type": "markdown",
      "metadata": {
        "id": "view-in-github",
        "colab_type": "text"
      },
      "source": [
        "<a href=\"https://colab.research.google.com/github/CastanharoA/_projetos/blob/master/PNL_IDFipynb_PLN.ipynb\" target=\"_parent\"><img src=\"https://colab.research.google.com/assets/colab-badge.svg\" alt=\"Open In Colab\"/></a>"
      ]
    },
    {
      "cell_type": "code",
      "execution_count": null,
      "metadata": {
        "id": "EItlAscazOjW"
      },
      "outputs": [],
      "source": [
        "#Andreia Mesquita Fonseca Castanharo\n",
        "\n",
        "texto = '''No meio do caminho tinha uma pedra\n",
        "Tinha uma pedra no meio do caminho\n",
        "Tinha uma pedra\n",
        "No meio do caminho tinha uma pedra\n",
        "Nunca me esquecerei desse acontecimento\n",
        "Na vida de minhas retinas tão fatigadas\n",
        "Nunca me esquecerei que no meio do caminho\n",
        "Tinha uma pedra\n",
        "Tinha uma pedra no meio do caminho\n",
        "No meio do caminho tinha uma pedra'''"
      ]
    },
    {
      "cell_type": "code",
      "source": [
        "#tokenização\n",
        "import nltk\n",
        "nltk.download('punkt')\n",
        "from nltk.tokenize import word_tokenize"
      ],
      "metadata": {
        "colab": {
          "base_uri": "https://localhost:8080/"
        },
        "id": "sOaOsbir2fLh",
        "outputId": "890809e0-ee6b-45c8-c995-bd11d7f0d2cb"
      },
      "execution_count": null,
      "outputs": [
        {
          "output_type": "stream",
          "name": "stderr",
          "text": [
            "[nltk_data] Downloading package punkt to /root/nltk_data...\n",
            "[nltk_data]   Unzipping tokenizers/punkt.zip.\n"
          ]
        }
      ]
    },
    {
      "cell_type": "code",
      "source": [
        "tokens = word_tokenize(texto)\n",
        "tokens"
      ],
      "metadata": {
        "colab": {
          "base_uri": "https://localhost:8080/"
        },
        "id": "Z6-ewI7J2vlU",
        "outputId": "d2d1e0ba-9021-4f01-ed94-b2dd54e143d6"
      },
      "execution_count": null,
      "outputs": [
        {
          "output_type": "execute_result",
          "data": {
            "text/plain": [
              "['No',\n",
              " 'meio',\n",
              " 'do',\n",
              " 'caminho',\n",
              " 'tinha',\n",
              " 'uma',\n",
              " 'pedra',\n",
              " 'Tinha',\n",
              " 'uma',\n",
              " 'pedra',\n",
              " 'no',\n",
              " 'meio',\n",
              " 'do',\n",
              " 'caminho',\n",
              " 'Tinha',\n",
              " 'uma',\n",
              " 'pedra',\n",
              " 'No',\n",
              " 'meio',\n",
              " 'do',\n",
              " 'caminho',\n",
              " 'tinha',\n",
              " 'uma',\n",
              " 'pedra',\n",
              " 'Nunca',\n",
              " 'me',\n",
              " 'esquecerei',\n",
              " 'desse',\n",
              " 'acontecimento',\n",
              " 'Na',\n",
              " 'vida',\n",
              " 'de',\n",
              " 'minhas',\n",
              " 'retinas',\n",
              " 'tão',\n",
              " 'fatigadas',\n",
              " 'Nunca',\n",
              " 'me',\n",
              " 'esquecerei',\n",
              " 'que',\n",
              " 'no',\n",
              " 'meio',\n",
              " 'do',\n",
              " 'caminho',\n",
              " 'Tinha',\n",
              " 'uma',\n",
              " 'pedra',\n",
              " 'Tinha',\n",
              " 'uma',\n",
              " 'pedra',\n",
              " 'no',\n",
              " 'meio',\n",
              " 'do',\n",
              " 'caminho',\n",
              " 'No',\n",
              " 'meio',\n",
              " 'do',\n",
              " 'caminho',\n",
              " 'tinha',\n",
              " 'uma',\n",
              " 'pedra']"
            ]
          },
          "metadata": {},
          "execution_count": 4
        }
      ]
    },
    {
      "cell_type": "code",
      "source": [
        "#deixar as letras em minusculo\n",
        "\n",
        "texto_min = texto.lower()\n",
        "texto_min"
      ],
      "metadata": {
        "colab": {
          "base_uri": "https://localhost:8080/",
          "height": 52
        },
        "id": "quuCscko3YnX",
        "outputId": "a1abbcb5-f3c4-4f26-fca2-fdccffd0718d"
      },
      "execution_count": null,
      "outputs": [
        {
          "output_type": "execute_result",
          "data": {
            "text/plain": [
              "'no meio do caminho tinha uma pedra\\ntinha uma pedra no meio do caminho\\ntinha uma pedra\\nno meio do caminho tinha uma pedra\\nnunca me esquecerei desse acontecimento\\nna vida de minhas retinas tão fatigadas\\nnunca me esquecerei que no meio do caminho\\ntinha uma pedra\\ntinha uma pedra no meio do caminho\\nno meio do caminho tinha uma pedra'"
            ],
            "application/vnd.google.colaboratory.intrinsic+json": {
              "type": "string"
            }
          },
          "metadata": {},
          "execution_count": 5
        }
      ]
    },
    {
      "cell_type": "code",
      "source": [
        "import re\n",
        "letras = re.findall(r'\\b[A-zÀ-úü]+\\b', texto_min)\n",
        "letras"
      ],
      "metadata": {
        "colab": {
          "base_uri": "https://localhost:8080/"
        },
        "id": "tZv2-y-03mW2",
        "outputId": "5a997df9-64a4-4ef9-ac69-8d7f07c80b5f"
      },
      "execution_count": null,
      "outputs": [
        {
          "output_type": "execute_result",
          "data": {
            "text/plain": [
              "['no',\n",
              " 'meio',\n",
              " 'do',\n",
              " 'caminho',\n",
              " 'tinha',\n",
              " 'uma',\n",
              " 'pedra',\n",
              " 'tinha',\n",
              " 'uma',\n",
              " 'pedra',\n",
              " 'no',\n",
              " 'meio',\n",
              " 'do',\n",
              " 'caminho',\n",
              " 'tinha',\n",
              " 'uma',\n",
              " 'pedra',\n",
              " 'no',\n",
              " 'meio',\n",
              " 'do',\n",
              " 'caminho',\n",
              " 'tinha',\n",
              " 'uma',\n",
              " 'pedra',\n",
              " 'nunca',\n",
              " 'me',\n",
              " 'esquecerei',\n",
              " 'desse',\n",
              " 'acontecimento',\n",
              " 'na',\n",
              " 'vida',\n",
              " 'de',\n",
              " 'minhas',\n",
              " 'retinas',\n",
              " 'tão',\n",
              " 'fatigadas',\n",
              " 'nunca',\n",
              " 'me',\n",
              " 'esquecerei',\n",
              " 'que',\n",
              " 'no',\n",
              " 'meio',\n",
              " 'do',\n",
              " 'caminho',\n",
              " 'tinha',\n",
              " 'uma',\n",
              " 'pedra',\n",
              " 'tinha',\n",
              " 'uma',\n",
              " 'pedra',\n",
              " 'no',\n",
              " 'meio',\n",
              " 'do',\n",
              " 'caminho',\n",
              " 'no',\n",
              " 'meio',\n",
              " 'do',\n",
              " 'caminho',\n",
              " 'tinha',\n",
              " 'uma',\n",
              " 'pedra']"
            ]
          },
          "metadata": {},
          "execution_count": 6
        }
      ]
    },
    {
      "cell_type": "code",
      "source": [
        "#Stopwords\n",
        "\n",
        "nltk.download('stopwords')\n",
        "from nltk.corpus import stopwords\n",
        "stopwords = stopwords.words('portuguese')\n",
        "stopwords"
      ],
      "metadata": {
        "colab": {
          "base_uri": "https://localhost:8080/"
        },
        "id": "BLi_Zkci5Kxp",
        "outputId": "02e3fd8a-822f-45a8-cbc2-bec9a271a3a6"
      },
      "execution_count": null,
      "outputs": [
        {
          "output_type": "stream",
          "name": "stderr",
          "text": [
            "[nltk_data] Downloading package stopwords to /root/nltk_data...\n",
            "[nltk_data]   Unzipping corpora/stopwords.zip.\n"
          ]
        },
        {
          "output_type": "execute_result",
          "data": {
            "text/plain": [
              "['a',\n",
              " 'à',\n",
              " 'ao',\n",
              " 'aos',\n",
              " 'aquela',\n",
              " 'aquelas',\n",
              " 'aquele',\n",
              " 'aqueles',\n",
              " 'aquilo',\n",
              " 'as',\n",
              " 'às',\n",
              " 'até',\n",
              " 'com',\n",
              " 'como',\n",
              " 'da',\n",
              " 'das',\n",
              " 'de',\n",
              " 'dela',\n",
              " 'delas',\n",
              " 'dele',\n",
              " 'deles',\n",
              " 'depois',\n",
              " 'do',\n",
              " 'dos',\n",
              " 'e',\n",
              " 'é',\n",
              " 'ela',\n",
              " 'elas',\n",
              " 'ele',\n",
              " 'eles',\n",
              " 'em',\n",
              " 'entre',\n",
              " 'era',\n",
              " 'eram',\n",
              " 'éramos',\n",
              " 'essa',\n",
              " 'essas',\n",
              " 'esse',\n",
              " 'esses',\n",
              " 'esta',\n",
              " 'está',\n",
              " 'estamos',\n",
              " 'estão',\n",
              " 'estar',\n",
              " 'estas',\n",
              " 'estava',\n",
              " 'estavam',\n",
              " 'estávamos',\n",
              " 'este',\n",
              " 'esteja',\n",
              " 'estejam',\n",
              " 'estejamos',\n",
              " 'estes',\n",
              " 'esteve',\n",
              " 'estive',\n",
              " 'estivemos',\n",
              " 'estiver',\n",
              " 'estivera',\n",
              " 'estiveram',\n",
              " 'estivéramos',\n",
              " 'estiverem',\n",
              " 'estivermos',\n",
              " 'estivesse',\n",
              " 'estivessem',\n",
              " 'estivéssemos',\n",
              " 'estou',\n",
              " 'eu',\n",
              " 'foi',\n",
              " 'fomos',\n",
              " 'for',\n",
              " 'fora',\n",
              " 'foram',\n",
              " 'fôramos',\n",
              " 'forem',\n",
              " 'formos',\n",
              " 'fosse',\n",
              " 'fossem',\n",
              " 'fôssemos',\n",
              " 'fui',\n",
              " 'há',\n",
              " 'haja',\n",
              " 'hajam',\n",
              " 'hajamos',\n",
              " 'hão',\n",
              " 'havemos',\n",
              " 'haver',\n",
              " 'hei',\n",
              " 'houve',\n",
              " 'houvemos',\n",
              " 'houver',\n",
              " 'houvera',\n",
              " 'houverá',\n",
              " 'houveram',\n",
              " 'houvéramos',\n",
              " 'houverão',\n",
              " 'houverei',\n",
              " 'houverem',\n",
              " 'houveremos',\n",
              " 'houveria',\n",
              " 'houveriam',\n",
              " 'houveríamos',\n",
              " 'houvermos',\n",
              " 'houvesse',\n",
              " 'houvessem',\n",
              " 'houvéssemos',\n",
              " 'isso',\n",
              " 'isto',\n",
              " 'já',\n",
              " 'lhe',\n",
              " 'lhes',\n",
              " 'mais',\n",
              " 'mas',\n",
              " 'me',\n",
              " 'mesmo',\n",
              " 'meu',\n",
              " 'meus',\n",
              " 'minha',\n",
              " 'minhas',\n",
              " 'muito',\n",
              " 'na',\n",
              " 'não',\n",
              " 'nas',\n",
              " 'nem',\n",
              " 'no',\n",
              " 'nos',\n",
              " 'nós',\n",
              " 'nossa',\n",
              " 'nossas',\n",
              " 'nosso',\n",
              " 'nossos',\n",
              " 'num',\n",
              " 'numa',\n",
              " 'o',\n",
              " 'os',\n",
              " 'ou',\n",
              " 'para',\n",
              " 'pela',\n",
              " 'pelas',\n",
              " 'pelo',\n",
              " 'pelos',\n",
              " 'por',\n",
              " 'qual',\n",
              " 'quando',\n",
              " 'que',\n",
              " 'quem',\n",
              " 'são',\n",
              " 'se',\n",
              " 'seja',\n",
              " 'sejam',\n",
              " 'sejamos',\n",
              " 'sem',\n",
              " 'ser',\n",
              " 'será',\n",
              " 'serão',\n",
              " 'serei',\n",
              " 'seremos',\n",
              " 'seria',\n",
              " 'seriam',\n",
              " 'seríamos',\n",
              " 'seu',\n",
              " 'seus',\n",
              " 'só',\n",
              " 'somos',\n",
              " 'sou',\n",
              " 'sua',\n",
              " 'suas',\n",
              " 'também',\n",
              " 'te',\n",
              " 'tem',\n",
              " 'tém',\n",
              " 'temos',\n",
              " 'tenha',\n",
              " 'tenham',\n",
              " 'tenhamos',\n",
              " 'tenho',\n",
              " 'terá',\n",
              " 'terão',\n",
              " 'terei',\n",
              " 'teremos',\n",
              " 'teria',\n",
              " 'teriam',\n",
              " 'teríamos',\n",
              " 'teu',\n",
              " 'teus',\n",
              " 'teve',\n",
              " 'tinha',\n",
              " 'tinham',\n",
              " 'tínhamos',\n",
              " 'tive',\n",
              " 'tivemos',\n",
              " 'tiver',\n",
              " 'tivera',\n",
              " 'tiveram',\n",
              " 'tivéramos',\n",
              " 'tiverem',\n",
              " 'tivermos',\n",
              " 'tivesse',\n",
              " 'tivessem',\n",
              " 'tivéssemos',\n",
              " 'tu',\n",
              " 'tua',\n",
              " 'tuas',\n",
              " 'um',\n",
              " 'uma',\n",
              " 'você',\n",
              " 'vocês',\n",
              " 'vos']"
            ]
          },
          "metadata": {},
          "execution_count": 7
        }
      ]
    },
    {
      "cell_type": "code",
      "source": [
        "sem_stopwords = [palavra for palavra in letras if palavra not in stopwords]\n",
        "palavras_importantes = \" \".join(sem_stopwords)\n",
        "palavras_importantes"
      ],
      "metadata": {
        "colab": {
          "base_uri": "https://localhost:8080/",
          "height": 35
        },
        "id": "4KOZB__G7NdK",
        "outputId": "46096e86-8bfc-4c59-8666-b5d0ac19d94a"
      },
      "execution_count": null,
      "outputs": [
        {
          "output_type": "execute_result",
          "data": {
            "text/plain": [
              "'meio caminho pedra pedra meio caminho pedra meio caminho pedra nunca esquecerei desse acontecimento vida retinas tão fatigadas nunca esquecerei meio caminho pedra pedra meio caminho meio caminho pedra'"
            ],
            "application/vnd.google.colaboratory.intrinsic+json": {
              "type": "string"
            }
          },
          "metadata": {},
          "execution_count": 8
        }
      ]
    },
    {
      "cell_type": "code",
      "source": [
        "#Lematização\n",
        "\n",
        "!python3 -m spacy download pt\n",
        "import spacy"
      ],
      "metadata": {
        "colab": {
          "base_uri": "https://localhost:8080/"
        },
        "id": "uDZRSfIQ7-8l",
        "outputId": "6444f3fd-3b7a-4039-ca55-b06110689675"
      },
      "execution_count": null,
      "outputs": [
        {
          "output_type": "stream",
          "name": "stdout",
          "text": [
            "2023-10-11 23:43:28.316079: I tensorflow/core/platform/cpu_feature_guard.cc:182] This TensorFlow binary is optimized to use available CPU instructions in performance-critical operations.\n",
            "To enable the following instructions: AVX2 FMA, in other operations, rebuild TensorFlow with the appropriate compiler flags.\n",
            "2023-10-11 23:43:29.475674: W tensorflow/compiler/tf2tensorrt/utils/py_utils.cc:38] TF-TRT Warning: Could not find TensorRT\n",
            "\u001b[38;5;3m⚠ As of spaCy v3.0, shortcuts like 'pt' are deprecated. Please use the\n",
            "full pipeline package name 'pt_core_news_sm' instead.\u001b[0m\n",
            "Collecting pt-core-news-sm==3.6.0\n",
            "  Downloading https://github.com/explosion/spacy-models/releases/download/pt_core_news_sm-3.6.0/pt_core_news_sm-3.6.0-py3-none-any.whl (13.0 MB)\n",
            "\u001b[2K     \u001b[90m━━━━━━━━━━━━━━━━━━━━━━━━━━━━━━━━━━━━━━━━\u001b[0m \u001b[32m13.0/13.0 MB\u001b[0m \u001b[31m44.7 MB/s\u001b[0m eta \u001b[36m0:00:00\u001b[0m\n",
            "\u001b[?25hRequirement already satisfied: spacy<3.7.0,>=3.6.0 in /usr/local/lib/python3.10/dist-packages (from pt-core-news-sm==3.6.0) (3.6.1)\n",
            "Requirement already satisfied: spacy-legacy<3.1.0,>=3.0.11 in /usr/local/lib/python3.10/dist-packages (from spacy<3.7.0,>=3.6.0->pt-core-news-sm==3.6.0) (3.0.12)\n",
            "Requirement already satisfied: spacy-loggers<2.0.0,>=1.0.0 in /usr/local/lib/python3.10/dist-packages (from spacy<3.7.0,>=3.6.0->pt-core-news-sm==3.6.0) (1.0.5)\n",
            "Requirement already satisfied: murmurhash<1.1.0,>=0.28.0 in /usr/local/lib/python3.10/dist-packages (from spacy<3.7.0,>=3.6.0->pt-core-news-sm==3.6.0) (1.0.10)\n",
            "Requirement already satisfied: cymem<2.1.0,>=2.0.2 in /usr/local/lib/python3.10/dist-packages (from spacy<3.7.0,>=3.6.0->pt-core-news-sm==3.6.0) (2.0.8)\n",
            "Requirement already satisfied: preshed<3.1.0,>=3.0.2 in /usr/local/lib/python3.10/dist-packages (from spacy<3.7.0,>=3.6.0->pt-core-news-sm==3.6.0) (3.0.9)\n",
            "Requirement already satisfied: thinc<8.2.0,>=8.1.8 in /usr/local/lib/python3.10/dist-packages (from spacy<3.7.0,>=3.6.0->pt-core-news-sm==3.6.0) (8.1.12)\n",
            "Requirement already satisfied: wasabi<1.2.0,>=0.9.1 in /usr/local/lib/python3.10/dist-packages (from spacy<3.7.0,>=3.6.0->pt-core-news-sm==3.6.0) (1.1.2)\n",
            "Requirement already satisfied: srsly<3.0.0,>=2.4.3 in /usr/local/lib/python3.10/dist-packages (from spacy<3.7.0,>=3.6.0->pt-core-news-sm==3.6.0) (2.4.8)\n",
            "Requirement already satisfied: catalogue<2.1.0,>=2.0.6 in /usr/local/lib/python3.10/dist-packages (from spacy<3.7.0,>=3.6.0->pt-core-news-sm==3.6.0) (2.0.10)\n",
            "Requirement already satisfied: typer<0.10.0,>=0.3.0 in /usr/local/lib/python3.10/dist-packages (from spacy<3.7.0,>=3.6.0->pt-core-news-sm==3.6.0) (0.9.0)\n",
            "Requirement already satisfied: pathy>=0.10.0 in /usr/local/lib/python3.10/dist-packages (from spacy<3.7.0,>=3.6.0->pt-core-news-sm==3.6.0) (0.10.2)\n",
            "Requirement already satisfied: smart-open<7.0.0,>=5.2.1 in /usr/local/lib/python3.10/dist-packages (from spacy<3.7.0,>=3.6.0->pt-core-news-sm==3.6.0) (6.4.0)\n",
            "Requirement already satisfied: tqdm<5.0.0,>=4.38.0 in /usr/local/lib/python3.10/dist-packages (from spacy<3.7.0,>=3.6.0->pt-core-news-sm==3.6.0) (4.66.1)\n",
            "Requirement already satisfied: numpy>=1.15.0 in /usr/local/lib/python3.10/dist-packages (from spacy<3.7.0,>=3.6.0->pt-core-news-sm==3.6.0) (1.23.5)\n",
            "Requirement already satisfied: requests<3.0.0,>=2.13.0 in /usr/local/lib/python3.10/dist-packages (from spacy<3.7.0,>=3.6.0->pt-core-news-sm==3.6.0) (2.31.0)\n",
            "Requirement already satisfied: pydantic!=1.8,!=1.8.1,<3.0.0,>=1.7.4 in /usr/local/lib/python3.10/dist-packages (from spacy<3.7.0,>=3.6.0->pt-core-news-sm==3.6.0) (1.10.13)\n",
            "Requirement already satisfied: jinja2 in /usr/local/lib/python3.10/dist-packages (from spacy<3.7.0,>=3.6.0->pt-core-news-sm==3.6.0) (3.1.2)\n",
            "Requirement already satisfied: setuptools in /usr/local/lib/python3.10/dist-packages (from spacy<3.7.0,>=3.6.0->pt-core-news-sm==3.6.0) (67.7.2)\n",
            "Requirement already satisfied: packaging>=20.0 in /usr/local/lib/python3.10/dist-packages (from spacy<3.7.0,>=3.6.0->pt-core-news-sm==3.6.0) (23.2)\n",
            "Requirement already satisfied: langcodes<4.0.0,>=3.2.0 in /usr/local/lib/python3.10/dist-packages (from spacy<3.7.0,>=3.6.0->pt-core-news-sm==3.6.0) (3.3.0)\n",
            "Requirement already satisfied: typing-extensions>=4.2.0 in /usr/local/lib/python3.10/dist-packages (from pydantic!=1.8,!=1.8.1,<3.0.0,>=1.7.4->spacy<3.7.0,>=3.6.0->pt-core-news-sm==3.6.0) (4.5.0)\n",
            "Requirement already satisfied: charset-normalizer<4,>=2 in /usr/local/lib/python3.10/dist-packages (from requests<3.0.0,>=2.13.0->spacy<3.7.0,>=3.6.0->pt-core-news-sm==3.6.0) (3.3.0)\n",
            "Requirement already satisfied: idna<4,>=2.5 in /usr/local/lib/python3.10/dist-packages (from requests<3.0.0,>=2.13.0->spacy<3.7.0,>=3.6.0->pt-core-news-sm==3.6.0) (3.4)\n",
            "Requirement already satisfied: urllib3<3,>=1.21.1 in /usr/local/lib/python3.10/dist-packages (from requests<3.0.0,>=2.13.0->spacy<3.7.0,>=3.6.0->pt-core-news-sm==3.6.0) (2.0.6)\n",
            "Requirement already satisfied: certifi>=2017.4.17 in /usr/local/lib/python3.10/dist-packages (from requests<3.0.0,>=2.13.0->spacy<3.7.0,>=3.6.0->pt-core-news-sm==3.6.0) (2023.7.22)\n",
            "Requirement already satisfied: blis<0.8.0,>=0.7.8 in /usr/local/lib/python3.10/dist-packages (from thinc<8.2.0,>=8.1.8->spacy<3.7.0,>=3.6.0->pt-core-news-sm==3.6.0) (0.7.11)\n",
            "Requirement already satisfied: confection<1.0.0,>=0.0.1 in /usr/local/lib/python3.10/dist-packages (from thinc<8.2.0,>=8.1.8->spacy<3.7.0,>=3.6.0->pt-core-news-sm==3.6.0) (0.1.3)\n",
            "Requirement already satisfied: click<9.0.0,>=7.1.1 in /usr/local/lib/python3.10/dist-packages (from typer<0.10.0,>=0.3.0->spacy<3.7.0,>=3.6.0->pt-core-news-sm==3.6.0) (8.1.7)\n",
            "Requirement already satisfied: MarkupSafe>=2.0 in /usr/local/lib/python3.10/dist-packages (from jinja2->spacy<3.7.0,>=3.6.0->pt-core-news-sm==3.6.0) (2.1.3)\n",
            "Installing collected packages: pt-core-news-sm\n",
            "Successfully installed pt-core-news-sm-3.6.0\n",
            "\u001b[38;5;2m✔ Download and installation successful\u001b[0m\n",
            "You can now load the package via spacy.load('pt_core_news_sm')\n"
          ]
        }
      ]
    },
    {
      "cell_type": "code",
      "source": [
        "spc_pt = spacy.load('pt_core_news_sm')"
      ],
      "metadata": {
        "id": "IegIhmX39dz5"
      },
      "execution_count": null,
      "outputs": []
    },
    {
      "cell_type": "code",
      "source": [
        "spc_letras = spc_pt(palavras_importantes)\n",
        "lemmas = [token.lemma_ if token.pos_ == 'VERB' else str(token) for token in spc_letras]\n",
        "texto_limpo = \" \".join(lemmas)\n",
        "texto_limpo"
      ],
      "metadata": {
        "colab": {
          "base_uri": "https://localhost:8080/",
          "height": 35
        },
        "id": "5e07p7ox-IwH",
        "outputId": "2ef61eb2-df1f-4125-b700-40d39898511a"
      },
      "execution_count": null,
      "outputs": [
        {
          "output_type": "execute_result",
          "data": {
            "text/plain": [
              "'meio caminho pedra pedra meio caminho pedra meio caminho pedra nunca esquecerar desse acontecimento vidar retinas tão fatigadas nunca esquecerar meio caminho pedra pedra meio caminho meio caminho pedra'"
            ],
            "application/vnd.google.colaboratory.intrinsic+json": {
              "type": "string"
            }
          },
          "metadata": {},
          "execution_count": 11
        }
      ]
    },
    {
      "cell_type": "code",
      "source": [
        "#bags of words\n",
        "Vocab = []\n",
        "for token in letras:\n",
        "  if token not in Vocab:\n",
        "    Vocab.append(token)\n",
        "\n",
        "print(Vocab, \"\\n\",len(Vocab))"
      ],
      "metadata": {
        "colab": {
          "base_uri": "https://localhost:8080/"
        },
        "id": "5bJo-HG2-rQ2",
        "outputId": "dd3008f4-61a1-4327-ce53-3febbdf294ad"
      },
      "execution_count": null,
      "outputs": [
        {
          "output_type": "stream",
          "name": "stdout",
          "text": [
            "['no', 'meio', 'do', 'caminho', 'tinha', 'uma', 'pedra', 'nunca', 'me', 'esquecerei', 'desse', 'acontecimento', 'na', 'vida', 'de', 'minhas', 'retinas', 'tão', 'fatigadas', 'que'] \n",
            " 20\n"
          ]
        }
      ]
    },
    {
      "cell_type": "code",
      "source": [
        "#Formando vetor de documento\n",
        "\n",
        "import numpy as np\n",
        "\n",
        "def cria_vetor_documento(documento, Vocab):\n",
        "  vetor = []\n",
        "  for palavra in vocab:\n",
        "    if palavra in documento:\n",
        "      vetor.append(1)\n",
        "\n",
        "    else:\n",
        "      vetor.append(0)\n",
        "\n",
        "  return np.array(vetor)"
      ],
      "metadata": {
        "id": "82PE4BjG-tEY"
      },
      "execution_count": null,
      "outputs": []
    },
    {
      "cell_type": "code",
      "source": [
        "from sklearn.feature_extraction.text import CountVectorizer\n",
        "\n",
        "count_vectorizer = CountVectorizer()\n",
        "X = count_vectorizer.fit_transform(tokens)"
      ],
      "metadata": {
        "id": "GdWPFSC7BW00"
      },
      "execution_count": null,
      "outputs": []
    },
    {
      "cell_type": "code",
      "source": [
        "count_vectorizer.get_feature_names_out()"
      ],
      "metadata": {
        "colab": {
          "base_uri": "https://localhost:8080/"
        },
        "id": "zUYGKhcCCNra",
        "outputId": "9f269c62-c376-4bd0-9b0d-97cf8f146734"
      },
      "execution_count": null,
      "outputs": [
        {
          "output_type": "execute_result",
          "data": {
            "text/plain": [
              "array(['acontecimento', 'caminho', 'de', 'desse', 'do', 'esquecerei',\n",
              "       'fatigadas', 'me', 'meio', 'minhas', 'na', 'no', 'nunca', 'pedra',\n",
              "       'que', 'retinas', 'tinha', 'tão', 'uma', 'vida'], dtype=object)"
            ]
          },
          "metadata": {},
          "execution_count": 15
        }
      ]
    },
    {
      "cell_type": "code",
      "source": [
        "#TFDF\n",
        "\n",
        "estrofe1 = \"\"\"no meio do caminho tinha uma pedra tinha uma pedra no meio do caminho tinha uma pedra no meio do caminho tinha uma pedra\"\"\"\n",
        "\n",
        "estrofe2 = \"\"\"nunca me esquecerei desse acontecimento na vida de minhas retinas tão fatigadas nunca me esquecerei que no meio do caminho tinha uma pedra tinha uma pedra no meio do caminho no meio do caminho tinha uma pedra\"\"\""
      ],
      "metadata": {
        "id": "prJ_ON7BCZQZ"
      },
      "execution_count": 1,
      "outputs": []
    },
    {
      "cell_type": "code",
      "source": [
        "e1_tokens = estrofe1.split()\n",
        "e2_tokens = estrofe2.split()"
      ],
      "metadata": {
        "id": "JAcM162FDq5T"
      },
      "execution_count": 2,
      "outputs": []
    },
    {
      "cell_type": "code",
      "source": [
        "def dicionario_de_contagem(vocab, documento):\n",
        "  ''' Recebe uma lista com o vocabulario e uma lista de tokens de um documento.\n",
        "  Retorna um dicionario com o numero de vezes que cada palavra do vocabulario\n",
        "  ocorre no documento'''\n",
        "  dic = dict.fromkeys(vocab, 0)\n",
        "  for palavra in documento:\n",
        "    dic[palavra] += 1\n",
        "    return dic"
      ],
      "metadata": {
        "id": "L_glp_w3EGZB"
      },
      "execution_count": 18,
      "outputs": []
    },
    {
      "cell_type": "code",
      "source": [
        "e1_dic_cont = dicionario_de_contagem(vocab, e1_tokens)\n",
        "e2_dic_cont = dicionario_de_contagem(vocab, e2_tokens)"
      ],
      "metadata": {
        "id": "REyCSgKMEtfp",
        "colab": {
          "base_uri": "https://localhost:8080/",
          "height": 193
        },
        "outputId": "bf00cf98-6915-4caf-9802-93ff3b327072"
      },
      "execution_count": 19,
      "outputs": [
        {
          "output_type": "error",
          "ename": "NameError",
          "evalue": "ignored",
          "traceback": [
            "\u001b[0;31m---------------------------------------------------------------------------\u001b[0m",
            "\u001b[0;31mNameError\u001b[0m                                 Traceback (most recent call last)",
            "\u001b[0;32m<ipython-input-19-99eef976b315>\u001b[0m in \u001b[0;36m<cell line: 1>\u001b[0;34m()\u001b[0m\n\u001b[0;32m----> 1\u001b[0;31m \u001b[0me1_dic_cont\u001b[0m \u001b[0;34m=\u001b[0m \u001b[0mdicionario_de_contagem\u001b[0m\u001b[0;34m(\u001b[0m\u001b[0mvocab\u001b[0m\u001b[0;34m,\u001b[0m \u001b[0me1_tokens\u001b[0m\u001b[0;34m)\u001b[0m\u001b[0;34m\u001b[0m\u001b[0;34m\u001b[0m\u001b[0m\n\u001b[0m\u001b[1;32m      2\u001b[0m \u001b[0me2_dic_cont\u001b[0m \u001b[0;34m=\u001b[0m \u001b[0mdicionario_de_contagem\u001b[0m\u001b[0;34m(\u001b[0m\u001b[0mvocab\u001b[0m\u001b[0;34m,\u001b[0m \u001b[0me2_tokens\u001b[0m\u001b[0;34m)\u001b[0m\u001b[0;34m\u001b[0m\u001b[0;34m\u001b[0m\u001b[0m\n",
            "\u001b[0;31mNameError\u001b[0m: name 'vocab' is not defined"
          ]
        }
      ]
    },
    {
      "cell_type": "code",
      "source": [
        "print(e1_dic_cont, '\\n')\n",
        "print(e2_dic_cont)"
      ],
      "metadata": {
        "colab": {
          "base_uri": "https://localhost:8080/"
        },
        "id": "GK1U9ZHxFL8i",
        "outputId": "f993b1c9-7367-4f45-8a32-f48d1f87c081"
      },
      "execution_count": null,
      "outputs": [
        {
          "output_type": "stream",
          "name": "stdout",
          "text": [
            "{'no': 3, 'meio': 3, 'do': 3, 'caminho': 3, 'tinha': 4, 'uma': 4, 'pedra': 4, 'nunca': 0, 'me': 0, 'esquecerei': 0, 'desse': 0, 'acontecimento': 0, 'na': 0, 'vida': 0, 'de': 0, 'minhas': 0, 'retinas': 0, 'tão': 0, 'fatigadas': 0, 'que': 0} \n",
            "\n",
            "{'no': 3, 'meio': 3, 'do': 3, 'caminho': 3, 'tinha': 3, 'uma': 3, 'pedra': 3, 'nunca': 2, 'me': 2, 'esquecerei': 2, 'desse': 1, 'acontecimento': 1, 'na': 1, 'vida': 1, 'de': 1, 'minhas': 1, 'retinas': 1, 'tão': 1, 'fatigadas': 1, 'que': 1}\n"
          ]
        }
      ]
    },
    {
      "cell_type": "code",
      "source": [
        "#TF\n",
        "def calculaTF(dicionario_de_cont, doc):\n",
        "  tf_dic = {}\n",
        "  num_palavras_doc = len(doc)\n",
        "  for palavra, contagem in e1_dic_de_cont.items():\n",
        "    tf_dic[palavra] = contagem/float(num_palavras_doc)\n",
        "  return tf_dic"
      ],
      "metadata": {
        "id": "dmblypOGFcQ5"
      },
      "execution_count": null,
      "outputs": []
    },
    {
      "cell_type": "code",
      "source": [
        "#TF\n",
        "def calculaTF(dicionario_de_cont, doc):\n",
        "  tf_dic = {}\n",
        "  num_palavras_doc = len(doc)\n",
        "  for palavra, contagem in dic_de_cont.items():\n",
        "    tf_dic[palavra] = contagem/float(num_palavras_doc)\n",
        "  return tf_dic"
      ],
      "metadata": {
        "id": "MmoTnaXiOX2F"
      },
      "execution_count": null,
      "outputs": []
    },
    {
      "cell_type": "code",
      "source": [
        "#TF\n",
        "def calculaTF(dic_de_cont, doc):\n",
        "  tf_dic = {}\n",
        "  num_palavras_doc = len(doc)\n",
        "  for palavra, contagem in dic_de_cont.items():\n",
        "    tf_dic[palavra] = contagem/float(num_palavras_doc)\n",
        "  return tf_dic"
      ],
      "metadata": {
        "id": "eXe_kdMBOXuh"
      },
      "execution_count": null,
      "outputs": []
    },
    {
      "cell_type": "code",
      "source": [
        "e1_tf_bow = calculaTF(e1_dic_cont, e1_tokens)\n",
        "print(e1_tf_bow)\n"
      ],
      "metadata": {
        "id": "kd5325RWHA-q",
        "colab": {
          "base_uri": "https://localhost:8080/"
        },
        "outputId": "5331dc27-e9d7-4710-dfaa-292a9efee78c"
      },
      "execution_count": null,
      "outputs": [
        {
          "output_type": "stream",
          "name": "stdout",
          "text": [
            "{'no': 0.125, 'meio': 0.125, 'do': 0.125, 'caminho': 0.125, 'tinha': 0.16666666666666666, 'uma': 0.16666666666666666, 'pedra': 0.16666666666666666, 'nunca': 0.0, 'me': 0.0, 'esquecerei': 0.0, 'desse': 0.0, 'acontecimento': 0.0, 'na': 0.0, 'vida': 0.0, 'de': 0.0, 'minhas': 0.0, 'retinas': 0.0, 'tão': 0.0, 'fatigadas': 0.0, 'que': 0.0}\n"
          ]
        }
      ]
    },
    {
      "cell_type": "code",
      "source": [
        "e2_tf_bow = calculaTF(e2_dic_cont, e2_tokens)\n",
        "print(e2_tf_bow)"
      ],
      "metadata": {
        "colab": {
          "base_uri": "https://localhost:8080/"
        },
        "id": "R2aVFGazO0lI",
        "outputId": "ae050f01-06ed-4141-9277-3ea1f17697e6"
      },
      "execution_count": null,
      "outputs": [
        {
          "output_type": "stream",
          "name": "stdout",
          "text": [
            "{'no': 0.08108108108108109, 'meio': 0.08108108108108109, 'do': 0.08108108108108109, 'caminho': 0.08108108108108109, 'tinha': 0.08108108108108109, 'uma': 0.08108108108108109, 'pedra': 0.08108108108108109, 'nunca': 0.05405405405405406, 'me': 0.05405405405405406, 'esquecerei': 0.05405405405405406, 'desse': 0.02702702702702703, 'acontecimento': 0.02702702702702703, 'na': 0.02702702702702703, 'vida': 0.02702702702702703, 'de': 0.02702702702702703, 'minhas': 0.02702702702702703, 'retinas': 0.02702702702702703, 'tão': 0.02702702702702703, 'fatigadas': 0.02702702702702703, 'que': 0.02702702702702703}\n"
          ]
        }
      ]
    },
    {
      "cell_type": "code",
      "source": [
        "e1_tf_bow"
      ],
      "metadata": {
        "colab": {
          "base_uri": "https://localhost:8080/"
        },
        "id": "RS_LvggTIZGr",
        "outputId": "6fec845f-2a3e-46ac-9551-9072209ff287"
      },
      "execution_count": null,
      "outputs": [
        {
          "output_type": "execute_result",
          "data": {
            "text/plain": [
              "{'no': 0.125,\n",
              " 'meio': 0.125,\n",
              " 'do': 0.125,\n",
              " 'caminho': 0.125,\n",
              " 'tinha': 0.16666666666666666,\n",
              " 'uma': 0.16666666666666666,\n",
              " 'pedra': 0.16666666666666666,\n",
              " 'nunca': 0.0,\n",
              " 'me': 0.0,\n",
              " 'esquecerei': 0.0,\n",
              " 'desse': 0.0,\n",
              " 'acontecimento': 0.0,\n",
              " 'na': 0.0,\n",
              " 'vida': 0.0,\n",
              " 'de': 0.0,\n",
              " 'minhas': 0.0,\n",
              " 'retinas': 0.0,\n",
              " 'tão': 0.0,\n",
              " 'fatigadas': 0.0,\n",
              " 'que': 0.0}"
            ]
          },
          "metadata": {},
          "execution_count": 73
        }
      ]
    },
    {
      "cell_type": "code",
      "source": [
        "e2_tf_bow"
      ],
      "metadata": {
        "colab": {
          "base_uri": "https://localhost:8080/"
        },
        "id": "QVujzjyGIZBN",
        "outputId": "caffa646-69b1-469f-ae73-263b7b4de53e"
      },
      "execution_count": null,
      "outputs": [
        {
          "output_type": "execute_result",
          "data": {
            "text/plain": [
              "{'no': 0.08108108108108109,\n",
              " 'meio': 0.08108108108108109,\n",
              " 'do': 0.08108108108108109,\n",
              " 'caminho': 0.08108108108108109,\n",
              " 'tinha': 0.08108108108108109,\n",
              " 'uma': 0.08108108108108109,\n",
              " 'pedra': 0.08108108108108109,\n",
              " 'nunca': 0.05405405405405406,\n",
              " 'me': 0.05405405405405406,\n",
              " 'esquecerei': 0.05405405405405406,\n",
              " 'desse': 0.02702702702702703,\n",
              " 'acontecimento': 0.02702702702702703,\n",
              " 'na': 0.02702702702702703,\n",
              " 'vida': 0.02702702702702703,\n",
              " 'de': 0.02702702702702703,\n",
              " 'minhas': 0.02702702702702703,\n",
              " 'retinas': 0.02702702702702703,\n",
              " 'tão': 0.02702702702702703,\n",
              " 'fatigadas': 0.02702702702702703,\n",
              " 'que': 0.02702702702702703}"
            ]
          },
          "metadata": {},
          "execution_count": 74
        }
      ]
    },
    {
      "cell_type": "code",
      "source": [],
      "metadata": {
        "id": "9Ky13yMrIY5p"
      },
      "execution_count": null,
      "outputs": []
    },
    {
      "cell_type": "code",
      "source": [],
      "metadata": {
        "id": "SNBzVEr1IYvz"
      },
      "execution_count": null,
      "outputs": []
    },
    {
      "cell_type": "code",
      "source": [],
      "metadata": {
        "id": "ucMoRPu2Jh2k"
      },
      "execution_count": null,
      "outputs": []
    },
    {
      "cell_type": "code",
      "source": [
        "import math\n"
      ],
      "metadata": {
        "id": "6EnZZ1t-Jhyp"
      },
      "execution_count": 22,
      "outputs": []
    },
    {
      "cell_type": "code",
      "source": [
        "def computaIDF(lista_de_docs):\n",
        "  idf_dic={}\n",
        "  N = len(lista_de_docs)\n",
        "\n",
        "  for palavra in lista_de_docs[0]:\n",
        "    num_docs_aparece =0\n",
        "    for doc in lista_de_docs:\n",
        "      if doc[palavra]>0:\n",
        "        num_docs_aparece += 1\n",
        "\n",
        "    idf_dic[palavra] = math.log10(N/(num_docs_aparece))\n",
        "  return(idf_dic)"
      ],
      "metadata": {
        "id": "LPrfs66ZJjmB"
      },
      "execution_count": 23,
      "outputs": []
    },
    {
      "cell_type": "code",
      "source": [
        "import math\n",
        "\n",
        "def computaIDF(lista_de_docs):\n",
        "    idf_dic = {}\n",
        "    N = len(lista_de_docs)\n",
        "\n",
        "    for doc in lista_de_docs:\n",
        "        for palavra, contagem in doc.items():\n",
        "            if contagem > 0:\n",
        "                if palavra not in idf_dic:\n",
        "                    idf_dic[palavra] = 1\n",
        "                else:\n",
        "                    idf_dic[palavra] += 1\n",
        "\n",
        "    for palavra, num_docs_aparece in idf_dic.items():\n",
        "        idf_dic[palavra] = math.log10(N / (1 + num_docs_aparece))\n",
        "\n",
        "    return idf_dic\n",
        "\n"
      ],
      "metadata": {
        "id": "NK0Ik2oSH6JJ"
      },
      "execution_count": 10,
      "outputs": []
    },
    {
      "cell_type": "code",
      "source": [
        "e1_dic_cont = dicionario_de_contagem(vocab, e1_tokens)\n",
        "e2_dic_cont = dicionario_de_contagem(vocab, e2_tokens)"
      ],
      "metadata": {
        "colab": {
          "base_uri": "https://localhost:8080/",
          "height": 193
        },
        "id": "xS8aVeW9IYyF",
        "outputId": "6c031b17-3129-480b-f346-a6cbf7d3495d"
      },
      "execution_count": 21,
      "outputs": [
        {
          "output_type": "error",
          "ename": "NameError",
          "evalue": "ignored",
          "traceback": [
            "\u001b[0;31m---------------------------------------------------------------------------\u001b[0m",
            "\u001b[0;31mNameError\u001b[0m                                 Traceback (most recent call last)",
            "\u001b[0;32m<ipython-input-21-99eef976b315>\u001b[0m in \u001b[0;36m<cell line: 1>\u001b[0;34m()\u001b[0m\n\u001b[0;32m----> 1\u001b[0;31m \u001b[0me1_dic_cont\u001b[0m \u001b[0;34m=\u001b[0m \u001b[0mdicionario_de_contagem\u001b[0m\u001b[0;34m(\u001b[0m\u001b[0mvocab\u001b[0m\u001b[0;34m,\u001b[0m \u001b[0me1_tokens\u001b[0m\u001b[0;34m)\u001b[0m\u001b[0;34m\u001b[0m\u001b[0;34m\u001b[0m\u001b[0m\n\u001b[0m\u001b[1;32m      2\u001b[0m \u001b[0me2_dic_cont\u001b[0m \u001b[0;34m=\u001b[0m \u001b[0mdicionario_de_contagem\u001b[0m\u001b[0;34m(\u001b[0m\u001b[0mvocab\u001b[0m\u001b[0;34m,\u001b[0m \u001b[0me2_tokens\u001b[0m\u001b[0;34m)\u001b[0m\u001b[0;34m\u001b[0m\u001b[0;34m\u001b[0m\u001b[0m\n",
            "\u001b[0;31mNameError\u001b[0m: name 'vocab' is not defined"
          ]
        }
      ]
    },
    {
      "cell_type": "code",
      "source": [
        "estrofes_idf = computaIDF([e1_dic_cont, e2_dic_cont])"
      ],
      "metadata": {
        "id": "GR9ISdVcJji6",
        "colab": {
          "base_uri": "https://localhost:8080/",
          "height": 176
        },
        "outputId": "e21e7e39-a1d2-4cfe-8786-1aa9f84350e9"
      },
      "execution_count": 11,
      "outputs": [
        {
          "output_type": "error",
          "ename": "NameError",
          "evalue": "ignored",
          "traceback": [
            "\u001b[0;31m---------------------------------------------------------------------------\u001b[0m",
            "\u001b[0;31mNameError\u001b[0m                                 Traceback (most recent call last)",
            "\u001b[0;32m<ipython-input-11-2d11b8f0f458>\u001b[0m in \u001b[0;36m<cell line: 1>\u001b[0;34m()\u001b[0m\n\u001b[0;32m----> 1\u001b[0;31m \u001b[0mestrofes_idf\u001b[0m \u001b[0;34m=\u001b[0m \u001b[0mcomputaIDF\u001b[0m\u001b[0;34m(\u001b[0m\u001b[0;34m[\u001b[0m\u001b[0me1_dic_cont\u001b[0m\u001b[0;34m,\u001b[0m \u001b[0me2_dic_cont\u001b[0m\u001b[0;34m]\u001b[0m\u001b[0;34m)\u001b[0m\u001b[0;34m\u001b[0m\u001b[0;34m\u001b[0m\u001b[0m\n\u001b[0m",
            "\u001b[0;31mNameError\u001b[0m: name 'e1_dic_cont' is not defined"
          ]
        }
      ]
    },
    {
      "cell_type": "code",
      "source": [
        "estrofes_idf"
      ],
      "metadata": {
        "colab": {
          "base_uri": "https://localhost:8080/"
        },
        "id": "Y9d--vT1Jje_",
        "outputId": "e21041b6-0db1-41b9-f728-e7ab9b24506c"
      },
      "execution_count": null,
      "outputs": [
        {
          "output_type": "execute_result",
          "data": {
            "text/plain": [
              "{'no': 0.0,\n",
              " 'meio': 0.0,\n",
              " 'do': 0.0,\n",
              " 'caminho': 0.0,\n",
              " 'tinha': 0.0,\n",
              " 'uma': 0.0,\n",
              " 'pedra': 0.0,\n",
              " 'nunca': 0.3010299956639812,\n",
              " 'me': 0.3010299956639812,\n",
              " 'esquecerei': 0.3010299956639812,\n",
              " 'desse': 0.3010299956639812,\n",
              " 'acontecimento': 0.3010299956639812,\n",
              " 'na': 0.3010299956639812,\n",
              " 'vida': 0.3010299956639812,\n",
              " 'de': 0.3010299956639812,\n",
              " 'minhas': 0.3010299956639812,\n",
              " 'retinas': 0.3010299956639812,\n",
              " 'tão': 0.3010299956639812,\n",
              " 'fatigadas': 0.3010299956639812,\n",
              " 'que': 0.3010299956639812}"
            ]
          },
          "metadata": {},
          "execution_count": 41
        }
      ]
    },
    {
      "cell_type": "code",
      "source": [
        "import matplotlib.pyplot as plt\n",
        "import seaborn as sns\n",
        "import numpy as np"
      ],
      "metadata": {
        "id": "PojWPUrPLw72"
      },
      "execution_count": null,
      "outputs": []
    },
    {
      "cell_type": "code",
      "source": [
        "x = np.linspace(0,100,100)\n",
        "y = np.log10(100/x)\n",
        "\n",
        "sns.set_style('darkgrid')\n",
        "fig, ax = plt.subplots()\n",
        "\n",
        "ax.plot(x,y, label= \"log(N/df(t))\")\n",
        "ax.set_xlabel('df(t)')\n",
        "ax.set_ylabel('IDF(t)')\n",
        "\n",
        "\n",
        "plt.show()"
      ],
      "metadata": {
        "colab": {
          "base_uri": "https://localhost:8080/",
          "height": 484
        },
        "id": "5JxIXW44Lw4N",
        "outputId": "190e7ddd-a085-4fee-c7b7-4c6170a75c43"
      },
      "execution_count": null,
      "outputs": [
        {
          "output_type": "stream",
          "name": "stderr",
          "text": [
            "<ipython-input-51-7c79356e4429>:2: RuntimeWarning: divide by zero encountered in divide\n",
            "  y = np.log10(100/x)\n"
          ]
        },
        {
          "output_type": "display_data",
          "data": {
            "text/plain": [
              "<Figure size 640x480 with 1 Axes>"
            ],
            "image/png": "[encoded data removed]"
          },
          "metadata": {}
        }
      ]
    },
    {
      "cell_type": "code",
      "source": [],
      "metadata": {
        "id": "NnW71wrELwzj"
      },
      "execution_count": null,
      "outputs": []
    },
    {
      "cell_type": "code",
      "source": [],
      "metadata": {
        "id": "Bpn-yDCBLwr_"
      },
      "execution_count": null,
      "outputs": []
    },
    {
      "cell_type": "code",
      "source": [
        "def computaTFIDF(tf_bow, idfs):\n",
        "  tfidf = {}\n",
        "\n",
        "  for palavra in tf_bow:\n",
        "    tf = tf_bow[palavra]\n",
        "    idef= idfs[palavra]\n",
        "    tfidf[palavra] =tf*idef\n",
        "\n",
        "  return(tfidf)"
      ],
      "metadata": {
        "id": "pcKzP9NzNNd6"
      },
      "execution_count": null,
      "outputs": []
    },
    {
      "cell_type": "code",
      "source": [
        "e1_tfidf = computaTFIDF(e1_tf_bow, estrofes_idf)\n",
        "e2_tfidf = computaTFIDF(e2_tf_bow, estrofes_idf)\n"
      ],
      "metadata": {
        "id": "q1mzCgoLN_R9"
      },
      "execution_count": null,
      "outputs": []
    },
    {
      "cell_type": "code",
      "source": [
        "e1_tfidf"
      ],
      "metadata": {
        "colab": {
          "base_uri": "https://localhost:8080/"
        },
        "id": "-lTK7mDrNNZh",
        "outputId": "4c260683-b631-4b6e-b9f2-83fbd7c137ee"
      },
      "execution_count": null,
      "outputs": [
        {
          "output_type": "execute_result",
          "data": {
            "text/plain": [
              "{'no': 0.0,\n",
              " 'meio': 0.0,\n",
              " 'do': 0.0,\n",
              " 'caminho': 0.0,\n",
              " 'tinha': 0.0,\n",
              " 'uma': 0.0,\n",
              " 'pedra': 0.0,\n",
              " 'nunca': 0.0,\n",
              " 'me': 0.0,\n",
              " 'esquecerei': 0.0,\n",
              " 'desse': 0.0,\n",
              " 'acontecimento': 0.0,\n",
              " 'na': 0.0,\n",
              " 'vida': 0.0,\n",
              " 'de': 0.0,\n",
              " 'minhas': 0.0,\n",
              " 'retinas': 0.0,\n",
              " 'tão': 0.0,\n",
              " 'fatigadas': 0.0,\n",
              " 'que': 0.0}"
            ]
          },
          "metadata": {},
          "execution_count": 80
        }
      ]
    },
    {
      "cell_type": "code",
      "source": [
        "e2_tfidf"
      ],
      "metadata": {
        "colab": {
          "base_uri": "https://localhost:8080/"
        },
        "id": "ACrwgOVFNNWH",
        "outputId": "e62a4cd1-5037-475f-e7e5-ffc19cb133ba"
      },
      "execution_count": null,
      "outputs": [
        {
          "output_type": "execute_result",
          "data": {
            "text/plain": [
              "{'no': 0.0,\n",
              " 'meio': 0.0,\n",
              " 'do': 0.0,\n",
              " 'caminho': 0.0,\n",
              " 'tinha': 0.0,\n",
              " 'uma': 0.0,\n",
              " 'pedra': 0.0,\n",
              " 'nunca': 0.0162718916575125,\n",
              " 'me': 0.0162718916575125,\n",
              " 'esquecerei': 0.0162718916575125,\n",
              " 'desse': 0.00813594582875625,\n",
              " 'acontecimento': 0.00813594582875625,\n",
              " 'na': 0.00813594582875625,\n",
              " 'vida': 0.00813594582875625,\n",
              " 'de': 0.00813594582875625,\n",
              " 'minhas': 0.00813594582875625,\n",
              " 'retinas': 0.00813594582875625,\n",
              " 'tão': 0.00813594582875625,\n",
              " 'fatigadas': 0.00813594582875625,\n",
              " 'que': 0.00813594582875625}"
            ]
          },
          "metadata": {},
          "execution_count": 81
        }
      ]
    },
    {
      "cell_type": "code",
      "source": [
        "import pandas as pd\n"
      ],
      "metadata": {
        "id": "9fJt42XANNSc"
      },
      "execution_count": null,
      "outputs": []
    },
    {
      "cell_type": "code",
      "source": [
        "tfidf_dataframe = pd.DataFrame([e1_tfidf, e2_tfidf])\n",
        "tfidf_dataframe[\"Estrofes\"] = ['estrofe 1' , 'estrofe 2']\n",
        "tfidf_dataframe.reset_index(inplace=True)\n",
        "tfidf_dataframe.drop('index', 1, inplace = True)\n",
        "tfidf_dataframe.set_index('Estrofes', inplace = True)\n",
        "tfidf_dataframe.index.name = None\n",
        "\n",
        "tfidf_dataframe\n"
      ],
      "metadata": {
        "colab": {
          "base_uri": "https://localhost:8080/",
          "height": 146
        },
        "id": "JBLvK05kNNOC",
        "outputId": "2d143085-b401-43ff-9a0e-92e9efdf060c"
      },
      "execution_count": null,
      "outputs": [
        {
          "output_type": "stream",
          "name": "stderr",
          "text": [
            "<ipython-input-85-c9d0a8ad694a>:4: FutureWarning: In a future version of pandas all arguments of DataFrame.drop except for the argument 'labels' will be keyword-only.\n",
            "  tfidf_dataframe.drop('index', 1, inplace = True)\n"
          ]
        },
        {
          "output_type": "execute_result",
          "data": {
            "text/plain": [
              "            no  meio   do  caminho  tinha  uma  pedra     nunca        me  \\\n",
              "estrofe 1  0.0   0.0  0.0      0.0    0.0  0.0    0.0  0.000000  0.000000   \n",
              "estrofe 2  0.0   0.0  0.0      0.0    0.0  0.0    0.0  0.016272  0.016272   \n",
              "\n",
              "           esquecerei     desse  acontecimento        na      vida        de  \\\n",
              "estrofe 1    0.000000  0.000000       0.000000  0.000000  0.000000  0.000000   \n",
              "estrofe 2    0.016272  0.008136       0.008136  0.008136  0.008136  0.008136   \n",
              "\n",
              "             minhas   retinas       tão  fatigadas       que  \n",
              "estrofe 1  0.000000  0.000000  0.000000   0.000000  0.000000  \n",
              "estrofe 2  0.008136  0.008136  0.008136   0.008136  0.008136  "
            ],
            "text/html": [
              "\n",
              "  <div id=\"df-c9d934f5-93a2-468f-82e6-302b0ca4cf2b\" class=\"colab-df-container\">\n",
              "    <div>\n",
              "<style scoped>\n",
              "    .dataframe tbody tr th:only-of-type {\n",
              "        vertical-align: middle;\n",
              "    }\n",
              "\n",
              "    .dataframe tbody tr th {\n",
              "        vertical-align: top;\n",
              "    }\n",
              "\n",
              "    .dataframe thead th {\n",
              "        text-align: right;\n",
              "    }\n",
              "</style>\n",
              "<table border=\"1\" class=\"dataframe\">\n",
              "  <thead>\n",
              "    <tr style=\"text-align: right;\">\n",
              "      <th></th>\n",
              "      <th>no</th>\n",
              "      <th>meio</th>\n",
              "      <th>do</th>\n",
              "      <th>caminho</th>\n",
              "      <th>tinha</th>\n",
              "      <th>uma</th>\n",
              "      <th>pedra</th>\n",
              "      <th>nunca</th>\n",
              "      <th>me</th>\n",
              "      <th>esquecerei</th>\n",
              "      <th>desse</th>\n",
              "      <th>acontecimento</th>\n",
              "      <th>na</th>\n",
              "      <th>vida</th>\n",
              "      <th>de</th>\n",
              "      <th>minhas</th>\n",
              "      <th>retinas</th>\n",
              "      <th>tão</th>\n",
              "      <th>fatigadas</th>\n",
              "      <th>que</th>\n",
              "    </tr>\n",
              "  </thead>\n",
              "  <tbody>\n",
              "    <tr>\n",
              "      <th>estrofe 1</th>\n",
              "      <td>0.0</td>\n",
              "      <td>0.0</td>\n",
              "      <td>0.0</td>\n",
              "      <td>0.0</td>\n",
              "      <td>0.0</td>\n",
              "      <td>0.0</td>\n",
              "      <td>0.0</td>\n",
              "      <td>0.000000</td>\n",
              "      <td>0.000000</td>\n",
              "      <td>0.000000</td>\n",
              "      <td>0.000000</td>\n",
              "      <td>0.000000</td>\n",
              "      <td>0.000000</td>\n",
              "      <td>0.000000</td>\n",
              "      <td>0.000000</td>\n",
              "      <td>0.000000</td>\n",
              "      <td>0.000000</td>\n",
              "      <td>0.000000</td>\n",
              "      <td>0.000000</td>\n",
              "      <td>0.000000</td>\n",
              "    </tr>\n",
              "    <tr>\n",
              "      <th>estrofe 2</th>\n",
              "      <td>0.0</td>\n",
              "      <td>0.0</td>\n",
              "      <td>0.0</td>\n",
              "      <td>0.0</td>\n",
              "      <td>0.0</td>\n",
              "      <td>0.0</td>\n",
              "      <td>0.0</td>\n",
              "      <td>0.016272</td>\n",
              "      <td>0.016272</td>\n",
              "      <td>0.016272</td>\n",
              "      <td>0.008136</td>\n",
              "      <td>0.008136</td>\n",
              "      <td>0.008136</td>\n",
              "      <td>0.008136</td>\n",
              "      <td>0.008136</td>\n",
              "      <td>0.008136</td>\n",
              "      <td>0.008136</td>\n",
              "      <td>0.008136</td>\n",
              "      <td>0.008136</td>\n",
              "      <td>0.008136</td>\n",
              "    </tr>\n",
              "  </tbody>\n",
              "</table>\n",
              "</div>\n",
              "    <div class=\"colab-df-buttons\">\n",
              "\n",
              "  <div class=\"colab-df-container\">\n",
              "    <button class=\"colab-df-convert\" onclick=\"convertToInteractive('df-c9d934f5-93a2-468f-82e6-302b0ca4cf2b')\"\n",
              "            title=\"Convert this dataframe to an interactive table.\"\n",
              "            style=\"display:none;\">\n",
              "\n",
              "  <svg xmlns=\"http://www.w3.org/2000/svg\" height=\"24px\" viewBox=\"0 -960 960 960\">\n",
              "    <path d=\"M120-120v-720h720v720H120Zm60-500h600v-160H180v160Zm220 220h160v-160H400v160Zm0 220h160v-160H400v160ZM180-400h160v-160H180v160Zm440 0h160v-160H620v160ZM180-180h160v-160H180v160Zm440 0h160v-160H620v160Z\"/>\n",
              "  </svg>\n",
              "    </button>\n",
              "\n",
              "  <style>\n",
              "    .colab-df-container {\n",
              "      display:flex;\n",
              "      gap: 12px;\n",
              "    }\n",
              "\n",
              "    .colab-df-convert {\n",
              "      background-color: #E8F0FE;\n",
              "      border: none;\n",
              "      border-radius: 50%;\n",
              "      cursor: pointer;\n",
              "      display: none;\n",
              "      fill: #1967D2;\n",
              "      height: 32px;\n",
              "      padding: 0 0 0 0;\n",
              "      width: 32px;\n",
              "    }\n",
              "\n",
              "    .colab-df-convert:hover {\n",
              "      background-color: #E2EBFA;\n",
              "      box-shadow: 0px 1px 2px rgba(60, 64, 67, 0.3), 0px 1px 3px 1px rgba(60, 64, 67, 0.15);\n",
              "      fill: #174EA6;\n",
              "    }\n",
              "\n",
              "    .colab-df-buttons div {\n",
              "      margin-bottom: 4px;\n",
              "    }\n",
              "\n",
              "    [theme=dark] .colab-df-convert {\n",
              "      background-color: #3B4455;\n",
              "      fill: #D2E3FC;\n",
              "    }\n",
              "\n",
              "    [theme=dark] .colab-df-convert:hover {\n",
              "      background-color: #434B5C;\n",
              "      box-shadow: 0px 1px 3px 1px rgba(0, 0, 0, 0.15);\n",
              "      filter: drop-shadow(0px 1px 2px rgba(0, 0, 0, 0.3));\n",
              "      fill: #FFFFFF;\n",
              "    }\n",
              "  </style>\n",
              "\n",
              "    <script>\n",
              "      const buttonEl =\n",
              "        document.querySelector('#df-c9d934f5-93a2-468f-82e6-302b0ca4cf2b button.colab-df-convert');\n",
              "      buttonEl.style.display =\n",
              "        google.colab.kernel.accessAllowed ? 'block' : 'none';\n",
              "\n",
              "      async function convertToInteractive(key) {\n",
              "        const element = document.querySelector('#df-c9d934f5-93a2-468f-82e6-302b0ca4cf2b');\n",
              "        const dataTable =\n",
              "          await google.colab.kernel.invokeFunction('convertToInteractive',\n",
              "                                                    [key], {});\n",
              "        if (!dataTable) return;\n",
              "\n",
              "        const docLinkHtml = 'Like what you see? Visit the ' +\n",
              "          '<a target=\"_blank\" href=https://colab.research.google.com/notebooks/data_table.ipynb>data table notebook</a>'\n",
              "          + ' to learn more about interactive tables.';\n",
              "        element.innerHTML = '';\n",
              "        dataTable['output_type'] = 'display_data';\n",
              "        await google.colab.output.renderOutput(dataTable, element);\n",
              "        const docLink = document.createElement('div');\n",
              "        docLink.innerHTML = docLinkHtml;\n",
              "        element.appendChild(docLink);\n",
              "      }\n",
              "    </script>\n",
              "  </div>\n",
              "\n",
              "\n",
              "<div id=\"df-e895b2d2-a83a-4d08-a53e-fc2fa17e1b48\">\n",
              "  <button class=\"colab-df-quickchart\" onclick=\"quickchart('df-e895b2d2-a83a-4d08-a53e-fc2fa17e1b48')\"\n",
              "            title=\"Suggest charts.\"\n",
              "            style=\"display:none;\">\n",
              "\n",
              "<svg xmlns=\"http://www.w3.org/2000/svg\" height=\"24px\"viewBox=\"0 0 24 24\"\n",
              "     width=\"24px\">\n",
              "    <g>\n",
              "        <path d=\"M19 3H5c-1.1 0-2 .9-2 2v14c0 1.1.9 2 2 2h14c1.1 0 2-.9 2-2V5c0-1.1-.9-2-2-2zM9 17H7v-7h2v7zm4 0h-2V7h2v10zm4 0h-2v-4h2v4z\"/>\n",
              "    </g>\n",
              "</svg>\n",
              "  </button>\n",
              "\n",
              "<style>\n",
              "  .colab-df-quickchart {\n",
              "      --bg-color: #E8F0FE;\n",
              "      --fill-color: #1967D2;\n",
              "      --hover-bg-color: #E2EBFA;\n",
              "      --hover-fill-color: #174EA6;\n",
              "      --disabled-fill-color: #AAA;\n",
              "      --disabled-bg-color: #DDD;\n",
              "  }\n",
              "\n",
              "  [theme=dark] .colab-df-quickchart {\n",
              "      --bg-color: #3B4455;\n",
              "      --fill-color: #D2E3FC;\n",
              "      --hover-bg-color: #434B5C;\n",
              "      --hover-fill-color: #FFFFFF;\n",
              "      --disabled-bg-color: #3B4455;\n",
              "      --disabled-fill-color: #666;\n",
              "  }\n",
              "\n",
              "  .colab-df-quickchart {\n",
              "    background-color: var(--bg-color);\n",
              "    border: none;\n",
              "    border-radius: 50%;\n",
              "    cursor: pointer;\n",
              "    display: none;\n",
              "    fill: var(--fill-color);\n",
              "    height: 32px;\n",
              "    padding: 0;\n",
              "    width: 32px;\n",
              "  }\n",
              "\n",
              "  .colab-df-quickchart:hover {\n",
              "    background-color: var(--hover-bg-color);\n",
              "    box-shadow: 0 1px 2px rgba(60, 64, 67, 0.3), 0 1px 3px 1px rgba(60, 64, 67, 0.15);\n",
              "    fill: var(--button-hover-fill-color);\n",
              "  }\n",
              "\n",
              "  .colab-df-quickchart-complete:disabled,\n",
              "  .colab-df-quickchart-complete:disabled:hover {\n",
              "    background-color: var(--disabled-bg-color);\n",
              "    fill: var(--disabled-fill-color);\n",
              "    box-shadow: none;\n",
              "  }\n",
              "\n",
              "  .colab-df-spinner {\n",
              "    border: 2px solid var(--fill-color);\n",
              "    border-color: transparent;\n",
              "    border-bottom-color: var(--fill-color);\n",
              "    animation:\n",
              "      spin 1s steps(1) infinite;\n",
              "  }\n",
              "\n",
              "  @keyframes spin {\n",
              "    0% {\n",
              "      border-color: transparent;\n",
              "      border-bottom-color: var(--fill-color);\n",
              "      border-left-color: var(--fill-color);\n",
              "    }\n",
              "    20% {\n",
              "      border-color: transparent;\n",
              "      border-left-color: var(--fill-color);\n",
              "      border-top-color: var(--fill-color);\n",
              "    }\n",
              "    30% {\n",
              "      border-color: transparent;\n",
              "      border-left-color: var(--fill-color);\n",
              "      border-top-color: var(--fill-color);\n",
              "      border-right-color: var(--fill-color);\n",
              "    }\n",
              "    40% {\n",
              "      border-color: transparent;\n",
              "      border-right-color: var(--fill-color);\n",
              "      border-top-color: var(--fill-color);\n",
              "    }\n",
              "    60% {\n",
              "      border-color: transparent;\n",
              "      border-right-color: var(--fill-color);\n",
              "    }\n",
              "    80% {\n",
              "      border-color: transparent;\n",
              "      border-right-color: var(--fill-color);\n",
              "      border-bottom-color: var(--fill-color);\n",
              "    }\n",
              "    90% {\n",
              "      border-color: transparent;\n",
              "      border-bottom-color: var(--fill-color);\n",
              "    }\n",
              "  }\n",
              "</style>\n",
              "\n",
              "  <script>\n",
              "    async function quickchart(key) {\n",
              "      const quickchartButtonEl =\n",
              "        document.querySelector('#' + key + ' button');\n",
              "      quickchartButtonEl.disabled = true;  // To prevent multiple clicks.\n",
              "      quickchartButtonEl.classList.add('colab-df-spinner');\n",
              "      try {\n",
              "        const charts = await google.colab.kernel.invokeFunction(\n",
              "            'suggestCharts', [key], {});\n",
              "      } catch (error) {\n",
              "        console.error('Error during call to suggestCharts:', error);\n",
              "      }\n",
              "      quickchartButtonEl.classList.remove('colab-df-spinner');\n",
              "      quickchartButtonEl.classList.add('colab-df-quickchart-complete');\n",
              "    }\n",
              "    (() => {\n",
              "      let quickchartButtonEl =\n",
              "        document.querySelector('#df-e895b2d2-a83a-4d08-a53e-fc2fa17e1b48 button');\n",
              "      quickchartButtonEl.style.display =\n",
              "        google.colab.kernel.accessAllowed ? 'block' : 'none';\n",
              "    })();\n",
              "  </script>\n",
              "</div>\n",
              "    </div>\n",
              "  </div>\n"
            ]
          },
          "metadata": {},
          "execution_count": 85
        }
      ]
    },
    {
      "cell_type": "code",
      "source": [],
      "metadata": {
        "id": "-SwU92zTR5-c"
      },
      "execution_count": null,
      "outputs": []
    },
    {
      "cell_type": "code",
      "source": [],
      "metadata": {
        "id": "Lh39-2mDR51E"
      },
      "execution_count": null,
      "outputs": []
    }
  ]
}
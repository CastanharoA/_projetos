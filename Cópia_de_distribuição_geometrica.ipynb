{
  "nbformat": 4,
  "nbformat_minor": 0,
  "metadata": {
    "colab": {
      "name": "Cópia de distribuição geometrica ",
      "provenance": [],
      "authorship_tag": "ABX9TyNjrJ6Cb6HfzqkIupN9te3H",
      "include_colab_link": true
    },
    "kernelspec": {
      "name": "python3",
      "display_name": "Python 3"
    }
  },
  "cells": [
    {
      "cell_type": "markdown",
      "metadata": {
        "id": "view-in-github",
        "colab_type": "text"
      },
      "source": [
        "<a href=\"https://colab.research.google.com/github/CastanharoA/_projetos/blob/master/C%C3%B3pia_de_distribui%C3%A7%C3%A3o_geometrica.ipynb\" target=\"_parent\"><img src=\"https://colab.research.google.com/assets/colab-badge.svg\" alt=\"Open In Colab\"/></a>"
      ]
    },
    {
      "cell_type": "code",
      "metadata": {
        "colab": {
          "base_uri": "https://localhost:8080/",
          "height": 319
        },
        "id": "WixzcPR2tB8C",
        "outputId": "0a305d40-c035-4080-a73d-24983bed7729"
      },
      "source": [
        "import numpy as np\r\n",
        "import matplotlib.pyplot as plt\r\n",
        "\r\n",
        "p = 0.2 # probabilidade de sucesso\r\n",
        "n = 10000 # numero de pontos extraídos de uma distribuição de Geométrica\r\n",
        "X = np.random.geometric(p, size=n)\r\n",
        "k = np.arange(0, np.max(X))\r\n",
        "count, bins, ignored = plt.hist(X, bins=k, density=True, color='#0504aa',alpha=0.7, \r\n",
        "                                rwidth=0.9)\r\n",
        "plt.xlabel('k', fontsize = 15)\r\n",
        "plt.ylabel('P(k)',fontsize = 15)\r\n",
        "plt.show(True)\r\n",
        "print(\"Valor esperado Teórico:\", 1/p)\r\n",
        "print(\"Valor esperado pela simulação:\", np.sum(X)/len(X))"
      ],
      "execution_count": null,
      "outputs": [
        {
          "output_type": "display_data",
          "data": {
            "image/png": "[encoded data removed]",
            "text/plain": [
              "<Figure size 432x288 with 1 Axes>"
            ]
          },
          "metadata": {
            "tags": [],
            "needs_background": "light"
          }
        },
        {
          "output_type": "stream",
          "text": [
            "Valor esperado Teórico: 5.0\n",
            "Valor esperado pela simulação: 4.9548\n"
          ],
          "name": "stdout"
        }
      ]
    },
    {
      "cell_type": "code",
      "metadata": {
        "colab": {
          "base_uri": "https://localhost:8080/",
          "height": 284
        },
        "id": "01nW65KDtYRx",
        "outputId": "ff42a449-3ce9-45b1-e3b6-be809fb97f33"
      },
      "source": [
        "from random import seed\r\n",
        "from matplotlib import pyplot as plt\r\n",
        "import numpy as np\r\n",
        "\r\n",
        "p = 0.2 #chance de sucesso\r\n",
        "X = [] # Armazena o número de experimentos\r\n",
        "ns = 10000 # numero de simulacoes\r\n",
        "\r\n",
        "for i in range(0,ns):# para ns simulacoes\r\n",
        "    k = 0 # numero de experimentos\r\n",
        "    s = False # indica uma falha\r\n",
        "    while s == False: # enquanto nao sair um sucesso, faca\r\n",
        "        r = np.random.uniform() # sorteia um numero entre 0 e 1\r\n",
        "        if(r <= p): # se o sucesso\r\n",
        "            s = True # indica sucesso\r\n",
        "            k = k + 1 # incrementa o numero de experimentos\r\n",
        "        else: # caso falha\r\n",
        "            k = k + 1 # incrementa o numero de experimentos\r\n",
        "    X.append(k) # guarda o numero de experimentos\r\n",
        "\r\n",
        "k = np.arange(0, np.max(X))\r\n",
        "count, bins, ignored = plt.hist(X, bins=k, density=True, color='#0504aa',alpha=0.7, \r\n",
        "                                rwidth=0.9)\r\n",
        "plt.xlabel('k', fontsize = 15)\r\n",
        "plt.ylabel('P(k)',fontsize = 15)\r\n",
        "plt.show(True)"
      ],
      "execution_count": null,
      "outputs": [
        {
          "output_type": "display_data",
          "data": {
            "image/png": "[encoded data removed]",
            "text/plain": [
              "<Figure size 432x288 with 1 Axes>"
            ]
          },
          "metadata": {
            "tags": [],
            "needs_background": "light"
          }
        }
      ]
    },
    {
      "cell_type": "code",
      "metadata": {
        "colab": {
          "base_uri": "https://localhost:8080/"
        },
        "id": "-7yHx0jCtaHw",
        "outputId": "21481041-1bb4-4279-8e7a-12c1c03c0a36"
      },
      "source": [
        "print(\"Valor esperado:\", 1/p)"
      ],
      "execution_count": null,
      "outputs": [
        {
          "output_type": "stream",
          "text": [
            "Valor esperado: 5.0\n"
          ],
          "name": "stdout"
        }
      ]
    },
    {
      "cell_type": "code",
      "metadata": {
        "colab": {
          "base_uri": "https://localhost:8080/"
        },
        "id": "kY6kc0W6tcb4",
        "outputId": "25f1ad0a-67ac-4efa-c3cc-3254fb1e3c7b"
      },
      "source": [
        "print(\"Valor esperado pela simulação:\", np.sum(X)/len(X))"
      ],
      "execution_count": null,
      "outputs": [
        {
          "output_type": "stream",
          "text": [
            "Valor esperado pela simulação: 4.9593\n"
          ],
          "name": "stdout"
        }
      ]
    },
    {
      "cell_type": "code",
      "metadata": {
        "colab": {
          "base_uri": "https://localhost:8080/"
        },
        "id": "YMGeyMgwtfW3",
        "outputId": "2ecaf439-b533-49a7-f53d-6d473bb2765f"
      },
      "source": [
        "print(\"Variância teórica:\", (1-p)/p**2)"
      ],
      "execution_count": null,
      "outputs": [
        {
          "output_type": "stream",
          "text": [
            "Variância teórica: 19.999999999999996\n"
          ],
          "name": "stdout"
        }
      ]
    },
    {
      "cell_type": "code",
      "metadata": {
        "colab": {
          "base_uri": "https://localhost:8080/"
        },
        "id": "m_UGSf3rthY1",
        "outputId": "b202e7fd-6bce-4745-9134-ba1c472303c2"
      },
      "source": [
        "def Variance(X):\r\n",
        "    n = len(X)\r\n",
        "    E2 = 0\r\n",
        "    E = 0\r\n",
        "    for i in range(0,len(X)):\r\n",
        "        E2 = E2 + X[i]**2\r\n",
        "        E = E + X[i]\r\n",
        "    E2 = E2/n\r\n",
        "    E = E/n\r\n",
        "    V = E2 - (E)**2\r\n",
        "    return V\r\n",
        "    \r\n",
        "print(\"Variância calculada pela simulação:\", Variance(X))"
      ],
      "execution_count": null,
      "outputs": [
        {
          "output_type": "stream",
          "text": [
            "Variância calculada pela simulação: 19.890243510000005\n"
          ],
          "name": "stdout"
        }
      ]
    }
  ]
}
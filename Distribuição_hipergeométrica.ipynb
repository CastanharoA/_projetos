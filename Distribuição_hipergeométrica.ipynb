{
  "nbformat": 4,
  "nbformat_minor": 0,
  "metadata": {
    "colab": {
      "name": "Distribuição hipergeométrica ",
      "provenance": [],
      "authorship_tag": "ABX9TyMRcHV6vPFtbnC7kEwyxgSK",
      "include_colab_link": true
    },
    "kernelspec": {
      "name": "python3",
      "display_name": "Python 3"
    }
  },
  "cells": [
    {
      "cell_type": "markdown",
      "metadata": {
        "id": "view-in-github",
        "colab_type": "text"
      },
      "source": [
        "<a href=\"https://colab.research.google.com/github/CastanharoA/_projetos/blob/master/Distribui%C3%A7%C3%A3o_hipergeom%C3%A9trica.ipynb\" target=\"_parent\"><img src=\"https://colab.research.google.com/assets/colab-badge.svg\" alt=\"Open In Colab\"/></a>"
      ]
    },
    {
      "cell_type": "code",
      "metadata": {
        "colab": {
          "base_uri": "https://localhost:8080/",
          "height": 319
        },
        "id": "X1fXzWlhhvZC",
        "outputId": "2915e326-5164-474f-bf8f-6949fdeb1bfb"
      },
      "source": [
        "import numpy as np\r\n",
        "import matplotlib.pyplot as plt\r\n",
        "\r\n",
        "N1 = 4 # number de elementos do tipo I\r\n",
        "N2 = 21 # numero de elementos do tipo II\r\n",
        "r = 5 # numero de objetos selecionados sem reposicao\r\n",
        "n = 1000 # numero de pontos extraídos dessa distribuição hipergeométrica\r\n",
        "X = np.random.hypergeometric(N2, N1, r, 1000)\r\n",
        "k = np.arange(0, np.max(X))\r\n",
        "print(\"Valor esperado Teórico:\", N2*N1/(N1+N2))\r\n",
        "print(\"Valor esperado pela simulação:\", np.sum(X)/len(X))\r\n",
        "\r\n",
        "count, bins, ignored = plt.hist(X, bins=k, density=True, color='#0504aa',alpha=0.7, \r\n",
        "                                rwidth=0.9)\r\n",
        "plt.xlabel('k', fontsize = 15)\r\n",
        "plt.ylabel('P(k)',fontsize = 15)\r\n",
        "plt.show(True)"
      ],
      "execution_count": 2,
      "outputs": [
        {
          "output_type": "stream",
          "text": [
            "Valor esperado Teórico: 3.36\n",
            "Valor esperado pela simulação: 4.229\n"
          ],
          "name": "stdout"
        },
        {
          "output_type": "display_data",
          "data": {
            "image/png": "[encoded data removed]",
            "text/plain": [
              "<Figure size 432x288 with 1 Axes>"
            ]
          },
          "metadata": {
            "tags": [],
            "needs_background": "light"
          }
        }
      ]
    }
  ]
}
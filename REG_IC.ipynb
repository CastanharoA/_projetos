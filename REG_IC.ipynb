{
  "nbformat": 4,
  "nbformat_minor": 0,
  "metadata": {
    "colab": {
      "provenance": [],
      "authorship_tag": "ABX9TyPG2g64GKT10HXoXQ1dvKkG",
      "include_colab_link": true
    },
    "kernelspec": {
      "name": "python3",
      "display_name": "Python 3"
    },
    "language_info": {
      "name": "python"
    }
  },
  "cells": [
    {
      "cell_type": "markdown",
      "metadata": {
        "id": "view-in-github",
        "colab_type": "text"
      },
      "source": [
        "<a href=\"https://colab.research.google.com/github/CastanharoA/_projetos/blob/master/REG_IC.ipynb\" target=\"_parent\"><img src=\"https://colab.research.google.com/assets/colab-badge.svg\" alt=\"Open In Colab\"/></a>"
      ]
    },
    {
      "cell_type": "code",
      "execution_count": null,
      "metadata": {
        "id": "eLpjRy6Z4y7T"
      },
      "outputs": [],
      "source": [
        "import yfinance as yf\n",
        "import numpy as np\n",
        "import pandas as pd\n",
        "import matplotlib.pyplot as plt\n",
        "import seaborn as sns\n",
        "from sklearn.linear_model import LinearRegression\n",
        "\n",
        "# Baixar os dados do Yahoo Finance\n",
        "ativos = \"^BVSP USDBRL=X\"\n",
        "carteira = yf.download(ativos, start=\"2019-01-01\")[\"Close\"]\n",
        "carteira.columns = [\"Dolar\", \"IBOV\"]\n",
        "\n",
        "# Remover dados faltantes (NaN)\n",
        "carteira = carteira.dropna()\n",
        "\n",
        "# Divisão do IBOV pelo Dólar\n",
        "carteira[\"IBOV_DOLARIZADO\"] = carteira[\"IBOV\"] / carteira[\"Dolar\"]\n",
        "\n",
        "# Plot dos dados\n",
        "sns.set()\n",
        "carteira.plot(subplots=True, figsize=(22, 9))\n",
        "\n",
        "\n",
        "retornos = carteira.pct_change()[1:]\n",
        "retornos\n",
        "\n",
        "retornos.describe()\n",
        "\n",
        "\n",
        "\n",
        "# Regressão Linear\n",
        "X = carteira[\"Dolar\"].values.reshape(-1, 1)  # Dólar como variável independente (X)\n",
        "y = carteira[\"IBOV\"].values  # IBOV como variável dependente (y)\n",
        "\n",
        "regressor = LinearRegression()\n",
        "regressor.fit(X, y)\n",
        "\n",
        "# Coeficientes da regressão\n",
        "coef_angular = regressor.coef_[0]\n",
        "coef_linear = regressor.intercept_\n",
        "\n",
        "# Plot da reta de regressão\n",
        "plt.figure(figsize=(10, 6))\n",
        "plt.scatter(X, y, color='blue')\n",
        "plt.plot(X, regressor.predict(X), color='red', linewidth=2)\n",
        "plt.title(f'Regressão Linear entre Dolar e IBOV\\nCoeficiente Angular: {coef_angular:.4f}, Coeficiente Linear: {coef_linear:.4f}')\n",
        "plt.xlabel('Dolar')\n",
        "plt.ylabel('IBOV')\n",
        "plt.show()"
      ]
    }
  ]
}
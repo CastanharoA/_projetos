{
  "nbformat": 4,
  "nbformat_minor": 0,
  "metadata": {
    "colab": {
      "name": "Untitled0.ipynb",
      "provenance": [],
      "collapsed_sections": [],
      "authorship_tag": "ABX9TyPCAEtScnO5IvD/54px3i9W",
      "include_colab_link": true
    },
    "kernelspec": {
      "name": "python3",
      "display_name": "Python 3"
    }
  },
  "cells": [
    {
      "cell_type": "markdown",
      "metadata": {
        "id": "view-in-github",
        "colab_type": "text"
      },
      "source": [
        "<a href=\"https://colab.research.google.com/github/CastanharoA/_projetos/blob/master/Untitled0.ipynb\" target=\"_parent\"><img src=\"https://colab.research.google.com/assets/colab-badge.svg\" alt=\"Open In Colab\"/></a>"
      ]
    },
    {
      "cell_type": "code",
      "metadata": {
        "id": "dmCA7-0L79jL",
        "colab_type": "code",
        "colab": {}
      },
      "source": [
        "import numpy as np\n",
        "from matplotlib import pyplot as plt\n",
        "from sklearn.datasets import make_blobs\n",
        "from sklearn.cluster import KMeans"
      ],
      "execution_count": 25,
      "outputs": []
    },
    {
      "cell_type": "markdown",
      "metadata": {
        "id": "Lz8kU-pm8vr0",
        "colab_type": "text"
      },
      "source": [
        ""
      ]
    },
    {
      "cell_type": "code",
      "metadata": {
        "id": "Ze0mTGv68yYb",
        "colab_type": "code",
        "colab": {
          "base_uri": "https://localhost:8080/",
          "height": 269
        },
        "outputId": "7d49bb34-2784-4a4c-bfeb-af642a99baf1"
      },
      "source": [
        "dataset = np.array ([[1, 4], [2, 2], [2, 5], [3, 3], [3, 5], [4, 7], [5, 6], [6, 4], [6, 7], [7 ,6], [7, 9], [8, 7], [8, 9], [9, 4], [9, 8]])\n",
        "\n",
        "plt.scatter(dataset[:, 0], dataset[:, 1])\n",
        "plt.xlim (0, 10)\n",
        "plt.ylim (0, 10)\n",
        "plt.grid()\n"
      ],
      "execution_count": 8,
      "outputs": [
        {
          "output_type": "display_data",
          "data": {
            "image/png": "[encoded data removed]",
            "text/plain": [
              "<Figure size 432x288 with 1 Axes>"
            ]
          },
          "metadata": {
            "tags": [],
            "needs_background": "light"
          }
        }
      ]
    },
    {
      "cell_type": "markdown",
      "metadata": {
        "id": "qAH0ATyO-RcC",
        "colab_type": "text"
      },
      "source": [
        "definir k-means = ? ,  init = 'K-means++'  (para iniciar os centroides  init)\n",
        "\n",
        "+ n_init.\n",
        "\n"
      ]
    },
    {
      "cell_type": "code",
      "metadata": {
        "id": "qW5A8hCc-qVb",
        "colab_type": "code",
        "colab": {
          "base_uri": "https://localhost:8080/",
          "height": 269
        },
        "outputId": "7c6155a2-bfbb-4b61-cbbf-4c8e3c24af9e"
      },
      "source": [
        "kmeans=KMeans(n_clusters=3, init='k-means++', max_iter=300, n_init=10)\n",
        "pred_y = kmeans.fit_predict(dataset)\n",
        "                            \n",
        "plt.scatter(dataset[:, 0], dataset[:, 1])\n",
        "plt.xlim (0, 10)\n",
        "plt.ylim (0 ,10)\n",
        "plt.grid()\n",
        "\n",
        "plt.scatter(kmeans.cluster_centers_[:,0], kmeans.cluster_centers_[:,1], s=70, c='red')\n",
        "plt.show()"
      ],
      "execution_count": 29,
      "outputs": [
        {
          "output_type": "display_data",
          "data": {
            "image/png": "[encoded data removed]",
            "text/plain": [
              "<Figure size 432x288 with 1 Axes>"
            ]
          },
          "metadata": {
            "tags": [],
            "needs_background": "light"
          }
        }
      ]
    },
    {
      "cell_type": "code",
      "metadata": {
        "id": "3ltp70hdHPuS",
        "colab_type": "code",
        "colab": {
          "base_uri": "https://localhost:8080/",
          "height": 269
        },
        "outputId": "71e51a6b-edde-4826-90d2-59f0ae662a03"
      },
      "source": [
        "                         \n",
        "plt.scatter(dataset[:, 0], dataset[:, 1], c=pred_y)\n",
        "plt.xlim (0, 10)\n",
        "plt.ylim (0 ,10)\n",
        "plt.grid()\n",
        "\n",
        "plt.scatter(kmeans.cluster_centers_[:,0], kmeans.cluster_centers_[:,1], s=70, c='red')\n",
        "plt.show()"
      ],
      "execution_count": 31,
      "outputs": [
        {
          "output_type": "display_data",
          "data": {
            "image/png": "[encoded data removed]",
            "text/plain": [
              "<Figure size 432x288 with 1 Axes>"
            ]
          },
          "metadata": {
            "tags": [],
            "needs_background": "light"
          }
        }
      ]
    },
    {
      "cell_type": "code",
      "metadata": {
        "id": "kn8C4iCnIMZr",
        "colab_type": "code",
        "colab": {}
      },
      "source": [
        ""
      ],
      "execution_count": null,
      "outputs": []
    }
  ]
}
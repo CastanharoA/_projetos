{
  "nbformat": 4,
  "nbformat_minor": 0,
  "metadata": {
    "colab": {
      "name": "[IGTI] Bootcamp - Módulo 2.ipynb",
      "provenance": [],
      "collapsed_sections": [
        "IGa1ElkAlEha",
        "glXv_BQc-eKm",
        "769s_NzwDZII",
        "emFS9rYEJlwa",
        "dvkMMUaRMlsQ",
        "IQZaGV6jRRD5",
        "xbgWm1XGVdiq",
        "oIfWCzfoaSzL",
        "Jh3dR2mFfl9F",
        "4gU2Pi7crNNq",
        "D5RHAvSdsvws",
        "0sJc-R3uvEwU",
        "sjlWCwS_ycmt",
        "J8PmXTv0nnG9"
      ],
      "include_colab_link": true
    },
    "kernelspec": {
      "name": "python3",
      "display_name": "Python 3"
    }
  },
  "cells": [
    {
      "cell_type": "markdown",
      "metadata": {
        "id": "view-in-github",
        "colab_type": "text"
      },
      "source": [
        "<a href=\"https://colab.research.google.com/github/CastanharoA/_projetos/blob/master/%5BIGTI%5D_Bootcamp_M%C3%B3dulo_2.ipynb\" target=\"_parent\"><img src=\"https://colab.research.google.com/assets/colab-badge.svg\" alt=\"Open In Colab\"/></a>"
      ]
    },
    {
      "cell_type": "markdown",
      "metadata": {
        "id": "IGa1ElkAlEha"
      },
      "source": [
        "## **Numpy**"
      ]
    },
    {
      "cell_type": "code",
      "metadata": {
        "id": "aL0_UKQ-n8pg"
      },
      "source": [
        "# importando as bibliotecas\n",
        "import numpy as np"
      ],
      "execution_count": null,
      "outputs": []
    },
    {
      "cell_type": "markdown",
      "metadata": {
        "id": "glXv_BQc-eKm"
      },
      "source": [
        "### **Criação de arrays**"
      ]
    },
    {
      "cell_type": "code",
      "metadata": {
        "id": "JJDkzf_GcIPj"
      },
      "source": [
        "np.array?"
      ],
      "execution_count": null,
      "outputs": []
    },
    {
      "cell_type": "code",
      "metadata": {
        "id": "6fyF9yoT9VQ8",
        "outputId": "89f894cd-5dc8-491e-bd59-6e01e8b5103f",
        "colab": {
          "base_uri": "https://localhost:8080/",
          "height": 53
        }
      },
      "source": [
        "# criação de um array 1D: [1, 2, 3]\n",
        "l = [1, 2, 3]\n",
        "x = np.array(l)\n",
        "print(\"x:\", x)\n",
        "print(\"shape:\", x.shape)"
      ],
      "execution_count": null,
      "outputs": [
        {
          "output_type": "stream",
          "text": [
            "x: [1 2 3]\n",
            "shape: (3,)\n"
          ],
          "name": "stdout"
        }
      ]
    },
    {
      "cell_type": "code",
      "metadata": {
        "id": "3s3W1ZHLdzs_",
        "outputId": "2fe2bfd6-0acb-4759-a18a-f7cb5227b030",
        "colab": {
          "base_uri": "https://localhost:8080/",
          "height": 35
        }
      },
      "source": [
        "type(x)"
      ],
      "execution_count": null,
      "outputs": [
        {
          "output_type": "execute_result",
          "data": {
            "text/plain": [
              "numpy.ndarray"
            ]
          },
          "metadata": {
            "tags": []
          },
          "execution_count": 23
        }
      ]
    },
    {
      "cell_type": "code",
      "metadata": {
        "id": "Q2_U-rjj9iN3",
        "outputId": "57ea7aa2-a3a8-4418-dd1c-d84e81b8d504",
        "colab": {
          "base_uri": "https://localhost:8080/",
          "height": 89
        }
      },
      "source": [
        "# criação de um array 2D: listas aninhadas\n",
        "l = [[1, 2], [3, 4]]\n",
        "x = np.array(l)\n",
        "print(\"x:\\n\", x)\n",
        "print(\"shape:\", x.shape)"
      ],
      "execution_count": null,
      "outputs": [
        {
          "output_type": "stream",
          "text": [
            "x:\n",
            " [[1 2]\n",
            " [3 4]]\n",
            "shape: (2, 2)\n"
          ],
          "name": "stdout"
        }
      ]
    },
    {
      "cell_type": "code",
      "metadata": {
        "id": "45OpNTFPeO5D",
        "outputId": "89b97724-5802-4261-e9fe-92f3bdb316c6",
        "colab": {
          "base_uri": "https://localhost:8080/",
          "height": 35
        }
      },
      "source": [
        "type(x)"
      ],
      "execution_count": null,
      "outputs": [
        {
          "output_type": "execute_result",
          "data": {
            "text/plain": [
              "numpy.ndarray"
            ]
          },
          "metadata": {
            "tags": []
          },
          "execution_count": 26
        }
      ]
    },
    {
      "cell_type": "code",
      "metadata": {
        "id": "RYd7frOFeWyh",
        "outputId": "1548d847-5daa-45d3-9a06-90bc6e83a59d",
        "colab": {
          "base_uri": "https://localhost:8080/",
          "height": 953
        }
      },
      "source": [
        "help(np.zeros)"
      ],
      "execution_count": null,
      "outputs": [
        {
          "output_type": "stream",
          "text": [
            "Help on built-in function zeros in module numpy:\n",
            "\n",
            "zeros(...)\n",
            "    zeros(shape, dtype=float, order='C')\n",
            "    \n",
            "    Return a new array of given shape and type, filled with zeros.\n",
            "    \n",
            "    Parameters\n",
            "    ----------\n",
            "    shape : int or tuple of ints\n",
            "        Shape of the new array, e.g., ``(2, 3)`` or ``2``.\n",
            "    dtype : data-type, optional\n",
            "        The desired data-type for the array, e.g., `numpy.int8`.  Default is\n",
            "        `numpy.float64`.\n",
            "    order : {'C', 'F'}, optional, default: 'C'\n",
            "        Whether to store multi-dimensional data in row-major\n",
            "        (C-style) or column-major (Fortran-style) order in\n",
            "        memory.\n",
            "    \n",
            "    Returns\n",
            "    -------\n",
            "    out : ndarray\n",
            "        Array of zeros with the given shape, dtype, and order.\n",
            "    \n",
            "    See Also\n",
            "    --------\n",
            "    zeros_like : Return an array of zeros with shape and type of input.\n",
            "    empty : Return a new uninitialized array.\n",
            "    ones : Return a new array setting values to one.\n",
            "    full : Return a new array of given shape filled with value.\n",
            "    \n",
            "    Examples\n",
            "    --------\n",
            "    >>> np.zeros(5)\n",
            "    array([ 0.,  0.,  0.,  0.,  0.])\n",
            "    \n",
            "    >>> np.zeros((5,), dtype=int)\n",
            "    array([0, 0, 0, 0, 0])\n",
            "    \n",
            "    >>> np.zeros((2, 1))\n",
            "    array([[ 0.],\n",
            "           [ 0.]])\n",
            "    \n",
            "    >>> s = (2,2)\n",
            "    >>> np.zeros(s)\n",
            "    array([[ 0.,  0.],\n",
            "           [ 0.,  0.]])\n",
            "    \n",
            "    >>> np.zeros((2,), dtype=[('x', 'i4'), ('y', 'i4')]) # custom dtype\n",
            "    array([(0, 0), (0, 0)],\n",
            "          dtype=[('x', '<i4'), ('y', '<i4')])\n",
            "\n"
          ],
          "name": "stdout"
        }
      ]
    },
    {
      "cell_type": "code",
      "metadata": {
        "id": "XjnO6UaW9_rr",
        "outputId": "edf3eefe-2890-4bb6-c107-9967f77a7c63",
        "colab": {
          "base_uri": "https://localhost:8080/",
          "height": 89
        }
      },
      "source": [
        "# array contendo apenas 0's\n",
        "dim = (2, 2)  # (linhas, colunas)\n",
        "x = np.zeros(dim)\n",
        "print(\"x:\\n\", x)\n",
        "print(\"shape:\", x.shape)"
      ],
      "execution_count": null,
      "outputs": [
        {
          "output_type": "stream",
          "text": [
            "x:\n",
            " [[0. 0.]\n",
            " [0. 0.]]\n",
            "shape: (2, 2)\n"
          ],
          "name": "stdout"
        }
      ]
    },
    {
      "cell_type": "code",
      "metadata": {
        "id": "nPPcYGt4_fzU",
        "outputId": "ed3eff63-4d1b-4196-b4d2-7e12ed22c9c7",
        "colab": {
          "base_uri": "https://localhost:8080/",
          "height": 89
        }
      },
      "source": [
        "# array contendo apenas 1's\n",
        "size = (2, 2)  # (linhas, colunas)\n",
        "x = np.ones(size)\n",
        "print(\"x:\\n\", x)\n",
        "print(\"shape:\", x.shape)"
      ],
      "execution_count": null,
      "outputs": [
        {
          "output_type": "stream",
          "text": [
            "x:\n",
            " [[1. 1.]\n",
            " [1. 1.]]\n",
            "shape: (2, 2)\n"
          ],
          "name": "stdout"
        }
      ]
    },
    {
      "cell_type": "code",
      "metadata": {
        "id": "FD3QynDnfXyh"
      },
      "source": [
        "np.linspace?"
      ],
      "execution_count": null,
      "outputs": []
    },
    {
      "cell_type": "code",
      "metadata": {
        "id": "x8eiwDYp_u_E",
        "outputId": "04765c03-3570-4aeb-e506-bc33eb69cb3d",
        "colab": {
          "base_uri": "https://localhost:8080/",
          "height": 53
        }
      },
      "source": [
        "# criação de valores dentro de um intervalo\n",
        "# valores uniformes entre 5 e 15\n",
        "x_min, x_max = 5, 15\n",
        "x = np.linspace(start=x_min, stop=x_max, num=6)\n",
        "print(\"x:\", x)\n",
        "print(\"shape:\", x.shape)"
      ],
      "execution_count": null,
      "outputs": [
        {
          "output_type": "stream",
          "text": [
            "x: [ 5.  7.  9. 11. 13. 15.]\n",
            "shape: (6,)\n"
          ],
          "name": "stdout"
        }
      ]
    },
    {
      "cell_type": "code",
      "metadata": {
        "id": "AfLgXJBSAOYp",
        "outputId": "9c6cd8e3-d98e-4e63-e56e-e64155792a4d",
        "colab": {
          "base_uri": "https://localhost:8080/",
          "height": 125
        }
      },
      "source": [
        "# criação da matriz identidade\n",
        "n = 4\n",
        "x = np.eye(n)\n",
        "print(\"x:\\n\", x)\n",
        "print(\"shape:\", x.shape)"
      ],
      "execution_count": null,
      "outputs": [
        {
          "output_type": "stream",
          "text": [
            "x:\n",
            " [[1. 0. 0. 0.]\n",
            " [0. 1. 0. 0.]\n",
            " [0. 0. 1. 0.]\n",
            " [0. 0. 0. 1.]]\n",
            "shape: (4, 4)\n"
          ],
          "name": "stdout"
        }
      ]
    },
    {
      "cell_type": "code",
      "metadata": {
        "id": "3UOujghVgN7Z",
        "outputId": "56ae8910-8ead-4e06-a0cc-6c45bde20fa3",
        "colab": {
          "base_uri": "https://localhost:8080/",
          "height": 161
        }
      },
      "source": [
        "help(np.random.random)"
      ],
      "execution_count": null,
      "outputs": [
        {
          "output_type": "stream",
          "text": [
            "Help on built-in function random:\n",
            "\n",
            "random(...) method of numpy.random.mtrand.RandomState instance\n",
            "    random(size=None)\n",
            "    \n",
            "    Return random floats in the half-open interval [0.0, 1.0). Alias for\n",
            "    `random_sample` to ease forward-porting to the new random API.\n",
            "\n"
          ],
          "name": "stdout"
        }
      ]
    },
    {
      "cell_type": "code",
      "metadata": {
        "id": "A618d3pvCPsC",
        "outputId": "457c263d-b867-43c5-e718-c5fe8c6c6783",
        "colab": {
          "base_uri": "https://localhost:8080/",
          "height": 89
        }
      },
      "source": [
        "# criação de valores aleatórios\n",
        "# np.random.seed(10)\n",
        "x = np.random.random(size=(2, 3))\n",
        "print(\"x:\\n\", x)\n",
        "print(\"shape:\", x.shape)"
      ],
      "execution_count": null,
      "outputs": [
        {
          "output_type": "stream",
          "text": [
            "x:\n",
            " [[0.05715318 0.23796548 0.42237853]\n",
            " [0.39406318 0.97312892 0.57339494]]\n",
            "shape: (2, 3)\n"
          ],
          "name": "stdout"
        }
      ]
    },
    {
      "cell_type": "markdown",
      "metadata": {
        "id": "769s_NzwDZII"
      },
      "source": [
        "### **Indexação de arrays**"
      ]
    },
    {
      "cell_type": "code",
      "metadata": {
        "id": "lSSxZMAKCaEb",
        "outputId": "11c73a4d-0850-4984-9f47-e5b36319bb3b",
        "colab": {
          "base_uri": "https://localhost:8080/",
          "height": 53
        }
      },
      "source": [
        "# os índices no Python vão de 0 a n-1,\n",
        "# onde n é o tamanho da dimensão\n",
        "x = np.linspace(start=10, stop=100, num=10)\n",
        "print(\"x:\", x)\n",
        "print(\"shape:\", x.shape)"
      ],
      "execution_count": null,
      "outputs": [
        {
          "output_type": "stream",
          "text": [
            "x: [ 10.  20.  30.  40.  50.  60.  70.  80.  90. 100.]\n",
            "shape: (10,)\n"
          ],
          "name": "stdout"
        }
      ]
    },
    {
      "cell_type": "code",
      "metadata": {
        "id": "ql5HQ3KhDzVm",
        "outputId": "b2eda45c-4f16-4c49-d7cf-01528b113f0d",
        "colab": {
          "base_uri": "https://localhost:8080/",
          "height": 107
        }
      },
      "source": [
        "# extração de elementos\n",
        "print(\"x:\", x)\n",
        "print(\"primeiro elemento:\", x[0])\n",
        "print(\"segundo elemento:\", x[1])\n",
        "print(\"último elemento:\", x[9])\n",
        "print(\"último elemento:\", x[-1])"
      ],
      "execution_count": null,
      "outputs": [
        {
          "output_type": "stream",
          "text": [
            "x: [ 10.  20.  30.  40.  50.  60.  70.  80.  90. 100.]\n",
            "primeiro elemento: 10.0\n",
            "segundo elemento: 20.0\n",
            "último elemento: 100.0\n",
            "último elemento: 100.0\n"
          ],
          "name": "stdout"
        }
      ]
    },
    {
      "cell_type": "code",
      "metadata": {
        "id": "Ds3lSMhqqjIz",
        "outputId": "88799a7f-a67b-4f7c-e165-cf3318afaf7a",
        "colab": {
          "base_uri": "https://localhost:8080/",
          "height": 35
        }
      },
      "source": [
        "x[5]"
      ],
      "execution_count": null,
      "outputs": [
        {
          "output_type": "execute_result",
          "data": {
            "text/plain": [
              "60.0"
            ]
          },
          "metadata": {
            "tags": []
          },
          "execution_count": 58
        }
      ]
    },
    {
      "cell_type": "code",
      "metadata": {
        "id": "Kam3n9fJD4a1",
        "outputId": "ce8bf8bd-4c59-4f9c-c5b0-b13fa722eca6",
        "colab": {
          "base_uri": "https://localhost:8080/",
          "height": 89
        }
      },
      "source": [
        "# slicing: extração de subarrays: \n",
        "print(\"x:\", x)\n",
        "print(\"dois primeiros elementos:\", x[0:2])  # 2 é exclusivo\n",
        "print(\"dois primeiros elementos:\", x[:2])\n",
        "print(\"dois últimos elementos:\", x[-2:])"
      ],
      "execution_count": null,
      "outputs": [
        {
          "output_type": "stream",
          "text": [
            "x: [ 10.  20.  30.  40.  50.  60.  70.  80.  90. 100.]\n",
            "dois primeiros elementos: [10. 20.]\n",
            "dois primeiros elementos: [10. 20.]\n",
            "dois últimos elementos: [ 90. 100.]\n"
          ],
          "name": "stdout"
        }
      ]
    },
    {
      "cell_type": "code",
      "metadata": {
        "id": "14-JCNQBEg_4",
        "outputId": "6208c788-8d02-4139-aae3-19d8fba17fe8",
        "colab": {
          "base_uri": "https://localhost:8080/",
          "height": 71
        }
      },
      "source": [
        "# slicing em arrays 2D (matrizes)\n",
        "x = x.reshape(2, 5)  # reshape de x para 2 linhas e 5 colunas\n",
        "print(\"x:\\n\", x)"
      ],
      "execution_count": null,
      "outputs": [
        {
          "output_type": "stream",
          "text": [
            "x:\n",
            " [[ 10.  20.  30.  40.  50.]\n",
            " [ 60.  70.  80.  90. 100.]]\n"
          ],
          "name": "stdout"
        }
      ]
    },
    {
      "cell_type": "code",
      "metadata": {
        "id": "1_npwPKAGgu_",
        "outputId": "8f8a462a-2db4-4010-9fd3-9df826508573",
        "colab": {
          "base_uri": "https://localhost:8080/",
          "height": 89
        }
      },
      "source": [
        "# extração de elementos\n",
        "print(\"primeira linha, segunda coluna:\", x[0, 1])\n",
        "print(\"segunda linha, penúltima coluna:\", x[1, -2])\n",
        "print(\"última linha, última coluna:\", x[1, 4])\n",
        "print(\"última linha, última coluna:\", x[-1, -1])"
      ],
      "execution_count": null,
      "outputs": [
        {
          "output_type": "stream",
          "text": [
            "primeira linha, segunda coluna: 20.0\n",
            "segunda linha, penúltima coluna: 90.0\n",
            "última linha, última coluna: 100.0\n",
            "última linha, última coluna: 100.0\n"
          ],
          "name": "stdout"
        }
      ]
    },
    {
      "cell_type": "code",
      "metadata": {
        "id": "X19pfvbVHT3X",
        "outputId": "c87b5e50-8428-4ad8-86ff-7078d73f2be7",
        "colab": {
          "base_uri": "https://localhost:8080/",
          "height": 161
        }
      },
      "source": [
        "# slicing: extração de subarrays\n",
        "print(\"x:\\n\", x)\n",
        "print(\"primeira linha inteira: \", x[0, :])\n",
        "print(\"primeira linha, segunda a quarta coluna: \", x[0, 1:4])\n",
        "print(\"última coluna inteira:\\n\", x[:, [-1]])"
      ],
      "execution_count": null,
      "outputs": [
        {
          "output_type": "stream",
          "text": [
            "x:\n",
            " [[ 10.  20.  30.  40.  50.]\n",
            " [ 60.  70.  80.  90. 100.]]\n",
            "primeira linha inteira:  [10. 20. 30. 40. 50.]\n",
            "primeira linha, segunda a quarta coluna:  [20. 30. 40.]\n",
            "última coluna inteira:\n",
            " [[ 50.]\n",
            " [100.]]\n"
          ],
          "name": "stdout"
        }
      ]
    },
    {
      "cell_type": "code",
      "metadata": {
        "id": "l320gP9OH6dq",
        "outputId": "9f677915-72c9-4b90-b5d5-6dc0f900c84a",
        "colab": {
          "base_uri": "https://localhost:8080/",
          "height": 53
        }
      },
      "source": [
        "# atenção com compartilhamento de memória em subarrays!!\n",
        "x = np.array([1, 2, 3])\n",
        "print(\"x antes:\", x)\n",
        "y = x[:2]\n",
        "y[0] = -100  # alteração do valor em y altera o valor de x\n",
        "print(\"x depois:\", x)"
      ],
      "execution_count": null,
      "outputs": [
        {
          "output_type": "stream",
          "text": [
            "x antes: [1 2 3]\n",
            "x depois: [-100    2    3]\n"
          ],
          "name": "stdout"
        }
      ]
    },
    {
      "cell_type": "code",
      "metadata": {
        "id": "zfM3tL3HI4yX",
        "outputId": "ce134314-1786-4e6b-e972-c97cd2506e64",
        "colab": {
          "base_uri": "https://localhost:8080/",
          "height": 53
        }
      },
      "source": [
        "# atenção com compartilhamento de memória em subarrays!!\n",
        "x = np.array([1, 2, 3])\n",
        "print(\"x antes:\", x)\n",
        "y = x[:2].copy()\n",
        "y[0] = -100  # alteração do valor em y altera o valor de x\n",
        "print(\"x depois:\", x)"
      ],
      "execution_count": null,
      "outputs": [
        {
          "output_type": "stream",
          "text": [
            "x antes: [1 2 3]\n",
            "x depois: [1 2 3]\n"
          ],
          "name": "stdout"
        }
      ]
    },
    {
      "cell_type": "markdown",
      "metadata": {
        "id": "emFS9rYEJlwa"
      },
      "source": [
        "### **Funções aritméticas: soma, subtração e divisão**"
      ]
    },
    {
      "cell_type": "code",
      "metadata": {
        "id": "cxCuJmuCJE_f",
        "outputId": "7266ef4c-0eb1-49ec-f7d6-4fa71baa8221",
        "colab": {
          "base_uri": "https://localhost:8080/",
          "height": 125
        }
      },
      "source": [
        "# criação de dois arrays x e y\n",
        "x = np.ones((2, 2))\n",
        "y = np.eye(2)\n",
        "print(\"x: \\n\", x)\n",
        "print(\"y: \\n\", y)"
      ],
      "execution_count": null,
      "outputs": [
        {
          "output_type": "stream",
          "text": [
            "x: \n",
            " [[1. 1.]\n",
            " [1. 1.]]\n",
            "y: \n",
            " [[1. 0.]\n",
            " [0. 1.]]\n"
          ],
          "name": "stdout"
        }
      ]
    },
    {
      "cell_type": "code",
      "metadata": {
        "id": "EWB48NHLJ3Pt"
      },
      "source": [
        "# soma\n",
        "print(\"soma de dois arrays:\\n\", x + y)\n",
        "print(\"soma com float/int:\\n\", x + 2.)  # broadcasting"
      ],
      "execution_count": null,
      "outputs": []
    },
    {
      "cell_type": "code",
      "metadata": {
        "id": "iqG4J9jjKEHu"
      },
      "source": [
        "# subtração\n",
        "print(\"subtração de dois arrays:\\n\", x - y)\n",
        "print(\"subtração com float/int:\\n\", x - 2)  # broadcasting"
      ],
      "execution_count": null,
      "outputs": []
    },
    {
      "cell_type": "code",
      "metadata": {
        "id": "napi10qVKdJi"
      },
      "source": [
        "# divisão\n",
        "print(\"divisão de dois arrays:\\n\", x / y)\n",
        "print(\"divisão com float/int:\\n\", x / 2)  # broadcasting"
      ],
      "execution_count": null,
      "outputs": []
    },
    {
      "cell_type": "code",
      "metadata": {
        "id": "gWqAQ9kfMzZU"
      },
      "source": [
        "# quando o broadcasting não funciona\n",
        "# np.array([1, 2, 3]) + np.array([1, 2])"
      ],
      "execution_count": null,
      "outputs": []
    },
    {
      "cell_type": "code",
      "metadata": {
        "id": "yTSOAIAdLpXb"
      },
      "source": [
        "# soma, subtração e divisão\n",
        "print(\"combinação de operações: \\n\", (x+y)/(x-2))"
      ],
      "execution_count": null,
      "outputs": []
    },
    {
      "cell_type": "markdown",
      "metadata": {
        "id": "dvkMMUaRMlsQ"
      },
      "source": [
        "### **Funções aritméticas: multiplicação**"
      ]
    },
    {
      "cell_type": "code",
      "metadata": {
        "id": "JUz-8PHIMeFh",
        "outputId": "81e82cba-5e51-412c-a828-b1fbfc2c8e11",
        "colab": {
          "base_uri": "https://localhost:8080/",
          "height": 125
        }
      },
      "source": [
        "# multiplicação elemento a elemento\n",
        "print(\"x: \\n\", x)\n",
        "print(\"y: \\n\", y)"
      ],
      "execution_count": null,
      "outputs": [
        {
          "output_type": "stream",
          "text": [
            "x: \n",
            " [[1. 1.]\n",
            " [1. 1.]]\n",
            "y: \n",
            " [[1. 0.]\n",
            " [0. 1.]]\n"
          ],
          "name": "stdout"
        }
      ]
    },
    {
      "cell_type": "code",
      "metadata": {
        "id": "mHOzJbLFNu5I",
        "outputId": "1f8b023d-08b2-4aac-c51f-c18a9ad0acaf",
        "colab": {
          "base_uri": "https://localhost:8080/",
          "height": 125
        }
      },
      "source": [
        "# multiplicação\n",
        "print(\"multiplicação de dois arrays:\\n\", x * y)\n",
        "print(\"multiplicação com float/int:\\n\", x * 2)  # broadcasting"
      ],
      "execution_count": null,
      "outputs": [
        {
          "output_type": "stream",
          "text": [
            "multiplicação de dois arrays:\n",
            " [[1. 0.]\n",
            " [0. 1.]]\n",
            "multiplicação com float/int:\n",
            " [[2. 2.]\n",
            " [2. 2.]]\n"
          ],
          "name": "stdout"
        }
      ]
    },
    {
      "cell_type": "code",
      "metadata": {
        "id": "ndmeNPMPN7Fn",
        "outputId": "b5de8b2c-cb29-4223-ea6b-b3136bc146ee",
        "colab": {
          "base_uri": "https://localhost:8080/",
          "height": 179
        }
      },
      "source": [
        "# multiplicação matricial\n",
        "print(\"multiplicação matricial (np.dot):\\n\", np.dot(x, y))\n",
        "print(\"multiplicação matricial (@):\\n\", x @ y)\n",
        "print(\"multiplicação matricial (.dot):\\n\", x.dot(y))"
      ],
      "execution_count": null,
      "outputs": [
        {
          "output_type": "stream",
          "text": [
            "multiplicação matricial (np.dot):\n",
            " [[1. 1.]\n",
            " [1. 1.]]\n",
            "multiplicação matricial (@):\n",
            " [[1. 1.]\n",
            " [1. 1.]]\n",
            "multiplicação matricial (.dot):\n",
            " [[1. 1.]\n",
            " [1. 1.]]\n"
          ],
          "name": "stdout"
        }
      ]
    },
    {
      "cell_type": "code",
      "metadata": {
        "id": "Bm7Bwx_XONkg",
        "outputId": "ec0c262c-7557-4e87-b349-feb06acdfc54",
        "colab": {
          "base_uri": "https://localhost:8080/",
          "height": 125
        }
      },
      "source": [
        "\"\"\" \n",
        "Exemplo:\n",
        "Solução de um sistema de equações:\n",
        "  1*a + 2*b = 7\n",
        "  3*a - 2*b = -11\n",
        "  solução análitica: (a, b) = (-1, 4)\n",
        "Matricialmente, este problema tem a seguinte forma:\n",
        "  Ax = c, onde:\n",
        "  - x = [a, b]\n",
        "  - A = [[1, 2], [3, -2]]\n",
        "  - c = [7, -11]\n",
        "  solução numérica: x = inv(A) @ c, \n",
        "\"\"\"\n",
        " \n",
        "# definição do problema\n",
        "A = np.array([[1, 2], [3, -2]])\n",
        "c = np.array([[7], [-11]])\n",
        "print(\"A: \\n\", A)\n",
        "print(\"c: \\n\", c)"
      ],
      "execution_count": null,
      "outputs": [
        {
          "output_type": "stream",
          "text": [
            "A: \n",
            " [[ 1  2]\n",
            " [ 3 -2]]\n",
            "c: \n",
            " [[  7]\n",
            " [-11]]\n"
          ],
          "name": "stdout"
        }
      ]
    },
    {
      "cell_type": "markdown",
      "metadata": {
        "id": "FHXwax4qzKL-"
      },
      "source": [
        "Sistema de equações:\n",
        "\n",
        "$$Ax=c,\\\\\\left[\\begin{array}{cc}1&2\\\\3&-2\\end{array}\\right]\\left[\\begin{array}{c}a\\\\b\\end{array}\\right] = \\left[\\begin{array}{c}7\\\\-11\\end{array}\\right].$$\n",
        "\n",
        "Solução:\n",
        "\n",
        "$$x=A^{-1}c.$$\n"
      ]
    },
    {
      "cell_type": "code",
      "metadata": {
        "id": "4kJ62UMOQTwp",
        "outputId": "90645b9e-a5ab-410c-b1ff-42b3b0562eee",
        "colab": {
          "base_uri": "https://localhost:8080/",
          "height": 35
        }
      },
      "source": [
        "# solução\n",
        "x = np.dot(np.linalg.inv(A), c)\n",
        "# x = np.linalg.inv(A) @ c\n",
        "print(\"(a, b):\", x.ravel())"
      ],
      "execution_count": null,
      "outputs": [
        {
          "output_type": "stream",
          "text": [
            "(a, b): [-1.  4.]\n"
          ],
          "name": "stdout"
        }
      ]
    },
    {
      "cell_type": "markdown",
      "metadata": {
        "id": "IQZaGV6jRRD5"
      },
      "source": [
        "### **Comparações**"
      ]
    },
    {
      "cell_type": "code",
      "metadata": {
        "id": "GJqFMWubQdRp",
        "outputId": "942c06f0-76ce-49e4-92f1-24fcfa522963",
        "colab": {
          "base_uri": "https://localhost:8080/",
          "height": 107
        }
      },
      "source": [
        "# criação dos arrays\n",
        "x = np.array([[1, 2], [3, 4]])\n",
        "y = np.array([1.5, 3.5])\n",
        "print(\"x: \\n\", x)\n",
        "print(\"y: \\n\", y)"
      ],
      "execution_count": null,
      "outputs": [
        {
          "output_type": "stream",
          "text": [
            "x: \n",
            " [[1 2]\n",
            " [3 4]]\n",
            "y: \n",
            " [1.5 3.5]\n"
          ],
          "name": "stdout"
        }
      ]
    },
    {
      "cell_type": "code",
      "metadata": {
        "id": "bJI8UlGSSo5i",
        "outputId": "5e3dc10b-3461-4de6-d969-6a55c27f4ea2",
        "colab": {
          "base_uri": "https://localhost:8080/",
          "height": 395
        }
      },
      "source": [
        "# comparações ponto a ponto\n",
        "print(\"Comparação de um array com um escalar (>): \\n\", x > 2)  \n",
        "print(\"Comparação de um array com um escalar (>=): \\n\", x >= 2)\n",
        "print(\"Comparação de um array com um escalar (<): \\n\", x < 2)  \n",
        "print(\"Comparação de um array com um escalar (<=): \\n\", x <= 2)\n",
        "print(\"Comparação entre arrays (==): \\n\", x == x)\n",
        "print(\"Comparação entre arrays (>): \\n\", x > x)\n",
        "print(\"Comparação entre arrays (>): \\n\", x > y)  # broadcasting"
      ],
      "execution_count": null,
      "outputs": [
        {
          "output_type": "stream",
          "text": [
            "Comparação de um array com um escalar (>): \n",
            " [[False False]\n",
            " [ True  True]]\n",
            "Comparação de um array com um escalar (>=): \n",
            " [[False  True]\n",
            " [ True  True]]\n",
            "Comparação de um array com um escalar (<): \n",
            " [[ True False]\n",
            " [False False]]\n",
            "Comparação de um array com um escalar (<=): \n",
            " [[ True  True]\n",
            " [False False]]\n",
            "Comparação entre arrays (==): \n",
            " [[ True  True]\n",
            " [ True  True]]\n",
            "Comparação entre arrays (>): \n",
            " [[False False]\n",
            " [False False]]\n",
            "Comparação entre arrays (>): \n",
            " [[False False]\n",
            " [ True  True]]\n"
          ],
          "name": "stdout"
        }
      ]
    },
    {
      "cell_type": "markdown",
      "metadata": {
        "id": "xbgWm1XGVdiq"
      },
      "source": [
        "### **Indexação booleana**"
      ]
    },
    {
      "cell_type": "code",
      "metadata": {
        "id": "cCq137a7Sr8s",
        "outputId": "0ba8f270-3a82-46f4-f9ab-1e58a3d65d24",
        "colab": {
          "base_uri": "https://localhost:8080/",
          "height": 89
        }
      },
      "source": [
        "# indexação booleana\n",
        "x = np.array([[1, 3, 7],\n",
        "              [4, 11, 21],\n",
        "              [42, 8, 9]])\n",
        "print(\"x:\\n\", x)"
      ],
      "execution_count": null,
      "outputs": [
        {
          "output_type": "stream",
          "text": [
            "x:\n",
            " [[ 1  3  7]\n",
            " [ 4 11 21]\n",
            " [42  8  9]]\n"
          ],
          "name": "stdout"
        }
      ]
    },
    {
      "cell_type": "code",
      "metadata": {
        "id": "IIBCawWNYtTR",
        "outputId": "d1a4b584-220b-47b7-de02-80608a7b61ce",
        "colab": {
          "base_uri": "https://localhost:8080/",
          "height": 125
        }
      },
      "source": [
        "# indexação boolena: retornar o número de elementos\n",
        "# maiores que k\n",
        "k = 10\n",
        "cond = x > k\n",
        "print(\"condição: \\n\", cond)\n",
        "print(f\"elementos maiores que {k}:\", x[cond])\n",
        "print(f\"números de elementos maiores que {k}:\", len(x[cond]))"
      ],
      "execution_count": null,
      "outputs": [
        {
          "output_type": "stream",
          "text": [
            "condição: \n",
            " [[False False False]\n",
            " [False  True  True]\n",
            " [ True False False]]\n",
            "elementos maiores que 10: [11 21 42]\n",
            "números de elementos maiores que 10: 3\n"
          ],
          "name": "stdout"
        }
      ]
    },
    {
      "cell_type": "code",
      "metadata": {
        "id": "Dgpjx5xnV1Nf",
        "outputId": "1187f933-00d2-431f-bfaa-e0988936c31c",
        "colab": {
          "base_uri": "https://localhost:8080/",
          "height": 107
        }
      },
      "source": [
        "# indexação boolena: extração dos números pares\n",
        "cond = x % 2 == 0  # números pares\n",
        "print(\"condição: \\n\", cond)\n",
        "print(\"números pares:\", x[cond])"
      ],
      "execution_count": null,
      "outputs": [
        {
          "output_type": "stream",
          "text": [
            "condição: \n",
            " [[False False False]\n",
            " [ True False False]\n",
            " [ True  True False]]\n",
            "números pares: [ 4 42  8]\n"
          ],
          "name": "stdout"
        }
      ]
    },
    {
      "cell_type": "code",
      "metadata": {
        "id": "l4xjwnpgWZNL",
        "outputId": "8294d70a-5596-40a0-f2c8-34c9cc158a9b",
        "colab": {
          "base_uri": "https://localhost:8080/",
          "height": 107
        }
      },
      "source": [
        "# indexação boolena: extração dos números ímpares\n",
        "cond = x % 2 == 1  # números pares\n",
        "print(\"condição: \\n\", cond)\n",
        "print(\"números pares:\", x[cond])"
      ],
      "execution_count": null,
      "outputs": [
        {
          "output_type": "stream",
          "text": [
            "condição: \n",
            " [[ True  True  True]\n",
            " [False  True  True]\n",
            " [False False  True]]\n",
            "números pares: [ 1  3  7 11 21  9]\n"
          ],
          "name": "stdout"
        }
      ]
    },
    {
      "cell_type": "markdown",
      "metadata": {
        "id": "oIfWCzfoaSzL"
      },
      "source": [
        "### **Outras operações úteis em numpy**"
      ]
    },
    {
      "cell_type": "code",
      "metadata": {
        "id": "77006yraaxVQ",
        "outputId": "ceb12360-1b7e-4306-9521-8af63efa67f5",
        "colab": {
          "base_uri": "https://localhost:8080/",
          "height": 89
        }
      },
      "source": [
        "# array\n",
        "x = np.array([[1, 3, 7],\n",
        "              [4, 11, 21],\n",
        "              [42, 8, 9]])\n",
        "print(\"x:\\n\", x)"
      ],
      "execution_count": null,
      "outputs": [
        {
          "output_type": "stream",
          "text": [
            "x:\n",
            " [[ 1  3  7]\n",
            " [ 4 11 21]\n",
            " [42  8  9]]\n"
          ],
          "name": "stdout"
        }
      ]
    },
    {
      "cell_type": "code",
      "metadata": {
        "id": "S0SOQ7U-bkB4"
      },
      "source": [
        "# reshape: transformar a matriz em um vetor coluna\n",
        "# (3, 3) vira (9, 1): 3*3 = 9*1 = 9\n",
        "print(\"transformação de em um vetor coluna: \\n\", x.reshape(9, 1))"
      ],
      "execution_count": null,
      "outputs": []
    },
    {
      "cell_type": "code",
      "metadata": {
        "id": "h6EWum1FbYiK"
      },
      "source": [
        "# transposição de matriz\n",
        "print(\"x transposta: \\n\", x.T)"
      ],
      "execution_count": null,
      "outputs": []
    },
    {
      "cell_type": "code",
      "metadata": {
        "id": "QG0LQUqzadSN"
      },
      "source": [
        "# np.sum: soma em um dado eixo, axis = {0: linha, 1: coluna}\n",
        "print(\"x:\\n\", x)\n",
        "print(\"soma de todos elementos de x:\", np.sum(x))\n",
        "print(\"soma de x ao longo das linhas:\", np.sum(x, axis=0))\n",
        "print(\"soma de x ao longo das colunas:\", np.sum(x, axis=1))"
      ],
      "execution_count": null,
      "outputs": []
    },
    {
      "cell_type": "code",
      "metadata": {
        "id": "h_thkEYScPbf"
      },
      "source": [
        "# np.mean: média em um dado eixo, axis = {0: linha, 1: coluna}\n",
        "print(\"x:\\n\", x)\n",
        "print(\"média de todos elementos de x:\", np.mean(x))\n",
        "print(\"média de x ao longo das linhas:\", np.mean(x, axis=0))\n",
        "print(\"média de x ao longo das colunas:\", np.mean(x, axis=1))"
      ],
      "execution_count": null,
      "outputs": []
    },
    {
      "cell_type": "code",
      "metadata": {
        "id": "hnDWq-cUcpVJ",
        "outputId": "66ec5961-6635-4a94-a51e-85924c24266f",
        "colab": {
          "base_uri": "https://localhost:8080/",
          "height": 125
        }
      },
      "source": [
        "# np.where, indentificação dos índices onde uma dada condição\n",
        "# é atendida. Uso conjunto com indexação booleana\n",
        "cond = x % 2 == 0  # números pares\n",
        "print(\"condição: \\n\", cond)\n",
        "i, j = np.where(cond) # índices x[i, j] = x[cond]\n",
        "print(\"índice i (linhas):\", i)\n",
        "print(\"índice j (colunas):\", j) "
      ],
      "execution_count": null,
      "outputs": [
        {
          "output_type": "stream",
          "text": [
            "condição: \n",
            " [[False False False]\n",
            " [ True False False]\n",
            " [ True  True False]]\n",
            "índice i (linhas): [1 2 2]\n",
            "índice j (colunas): [0 0 1]\n"
          ],
          "name": "stdout"
        }
      ]
    },
    {
      "cell_type": "code",
      "metadata": {
        "id": "oAW11bdbXWhL",
        "outputId": "242b91ac-e37e-48a8-fdf4-2f450a2c5229",
        "colab": {
          "base_uri": "https://localhost:8080/",
          "height": 233
        }
      },
      "source": [
        "# indexação booleana e slicing: selecionar as linhas\n",
        "# de x que possuem algum número par\n",
        "print(\"x:\\n\", x)\n",
        "cond = x % 2 == 0  # números pares\n",
        "print(\"condição: \\n\", cond)\n",
        "\n",
        "# # se houver alguma condição True na linha, a soma será > 0\n",
        "i_row = np.where(np.sum(cond, axis=1))[0]\n",
        "print(\"índice das linhas que possuem números pares:\", i_row)\n",
        "print(\"linhas que possuem número pares: \\n\", x[i_row, :])  \n"
      ],
      "execution_count": null,
      "outputs": [
        {
          "output_type": "stream",
          "text": [
            "x:\n",
            " [[ 1  3  7]\n",
            " [ 4 11 21]\n",
            " [42  8  9]]\n",
            "condição: \n",
            " [[False False False]\n",
            " [ True False False]\n",
            " [ True  True False]]\n",
            "índice das linhas que possuem números pares: [1 2]\n",
            "linhas que possuem número pares: \n",
            " [[ 4 11 21]\n",
            " [42  8  9]]\n"
          ],
          "name": "stdout"
        }
      ]
    },
    {
      "cell_type": "markdown",
      "metadata": {
        "id": "Jh3dR2mFfl9F"
      },
      "source": [
        "### **Regressão linear no numpy**"
      ]
    },
    {
      "cell_type": "code",
      "metadata": {
        "id": "uWgnDPcEat9K"
      },
      "source": [
        "# visualização de dados\n",
        "import matplotlib.pyplot as plt"
      ],
      "execution_count": null,
      "outputs": []
    },
    {
      "cell_type": "code",
      "metadata": {
        "id": "YNrcPD63YCKf"
      },
      "source": [
        "# dados\n",
        "x = [-1., -0.77777778, -0.55555556, -0.33333333, -0.11111111,\n",
        "     0.11111111, 0.33333333, 0.55555556, 0.77777778, 1.]\n",
        "y = [-1.13956201, -0.57177999, -0.21697033, 0.5425699, 0.49406657,\n",
        "     1.14972239, 1.64228553, 2.1749824, 2.64773614, 2.95684202]"
      ],
      "execution_count": null,
      "outputs": []
    },
    {
      "cell_type": "code",
      "metadata": {
        "id": "HlfXmBHDggCf",
        "outputId": "0465c4a2-1221-4236-ebe9-34a9e9aef871",
        "colab": {
          "base_uri": "https://localhost:8080/",
          "height": 334
        }
      },
      "source": [
        "# plot dos dados\n",
        "plt.figure(figsize=(10, 5))\n",
        "plt.plot(x, y, 'o', label='dados originais')\n",
        "plt.legend()\n",
        "plt.xlabel(\"x\")\n",
        "plt.ylabel(\"y\")\n",
        "plt.grid()\n",
        "plt.show()"
      ],
      "execution_count": null,
      "outputs": [
        {
          "output_type": "display_data",
          "data": {
            "image/png": "[encoded data removed]",
            "text/plain": [
              "<Figure size 720x360 with 1 Axes>"
            ]
          },
          "metadata": {
            "tags": [],
            "needs_background": "light"
          }
        }
      ]
    },
    {
      "cell_type": "markdown",
      "metadata": {
        "id": "LXMj1FbXELaj"
      },
      "source": [
        "Regressão linear:\n",
        "\n",
        "$$X\\beta=y,\\\\\\beta=\\left[\\begin{array}{c}a\\\\b\\end{array}\\right] .$$\n",
        "\n",
        "Solução via minimização do erro quadrático:\n",
        "\n",
        "$$\\beta=(X^TX)^{-1}X^Ty,$$\n",
        "onde $(X^TX)^{-1}X^T$ é a pseudo-inversa de $X$, facilmente calculada pelo método `np.linalg.pinv(X)`.\n"
      ]
    },
    {
      "cell_type": "code",
      "metadata": {
        "id": "W_2BzIoTgi2w",
        "outputId": "861a4532-9e76-40bd-d551-65c2d66f5f33",
        "colab": {
          "base_uri": "https://localhost:8080/",
          "height": 53
        }
      },
      "source": [
        "\"\"\"\n",
        "Iremos estimar uma função do tipo: y = a*x + b\n",
        "ou seja, devemos achar quais os valores de a e b\n",
        "que melhor representam os dados.\n",
        "\n",
        "Os valores reais de a e b são: (a, b): 2, 1\n",
        "\"\"\"\n",
        "# transformando para numpy e vetor coluna\n",
        "x, y = np.array(x).reshape(-1, 1), np.array(y).reshape(-1, 1)\n",
        "\n",
        "# adicionando bias: para estimar o termo b\n",
        "X = np.hstack((x, np.ones(x.shape)))\n",
        "\n",
        "# estimando a e b\n",
        "beta = np.linalg.pinv(X).dot(y)\n",
        "print(\"a estimado:\", beta[0][0])\n",
        "print(\"b estimado:\", beta[1][0])"
      ],
      "execution_count": null,
      "outputs": [
        {
          "output_type": "stream",
          "text": [
            "a estimado: 2.0541495120384856\n",
            "b estimado: 0.967989262\n"
          ],
          "name": "stdout"
        }
      ]
    },
    {
      "cell_type": "code",
      "metadata": {
        "id": "J5QlwxE7kADi",
        "outputId": "3642c920-1ce1-47f0-ce16-ac1a1f399623",
        "colab": {
          "base_uri": "https://localhost:8080/",
          "height": 350
        }
      },
      "source": [
        "# plot dos dados\n",
        "plt.figure(figsize=(10, 5))\n",
        "plt.plot(x, y, 'o', label='dados originais')\n",
        "plt.plot(x, X.dot(beta), label='regressão linear')\n",
        "plt.legend()\n",
        "plt.xlabel(\"x\")\n",
        "plt.ylabel(\"y\")\n",
        "plt.title(\"Regressão linear com numpy\")\n",
        "plt.grid()\n",
        "plt.show()"
      ],
      "execution_count": null,
      "outputs": [
        {
          "output_type": "display_data",
          "data": {
            "image/png": "[encoded data removed]",
            "text/plain": [
              "<Figure size 720x360 with 1 Axes>"
            ]
          },
          "metadata": {
            "tags": [],
            "needs_background": "light"
          }
        }
      ]
    },
    {
      "cell_type": "code",
      "metadata": {
        "id": "YTGu7ra9MpHO"
      },
      "source": [
        ""
      ],
      "execution_count": null,
      "outputs": []
    },
    {
      "cell_type": "markdown",
      "metadata": {
        "id": "6BocI3zPlRVh"
      },
      "source": [
        "## **Pandas**"
      ]
    },
    {
      "cell_type": "code",
      "metadata": {
        "id": "PXFWm35ZlOkO"
      },
      "source": [
        "# importando as bibliotecas\n",
        "import pandas as pd"
      ],
      "execution_count": null,
      "outputs": []
    },
    {
      "cell_type": "markdown",
      "metadata": {
        "id": "25Y-6lLcoJ6v"
      },
      "source": [
        "### **Leitura de dados**"
      ]
    },
    {
      "cell_type": "code",
      "metadata": {
        "id": "XJ54BBHRe1ae"
      },
      "source": [
        "pd.read_csv?"
      ],
      "execution_count": null,
      "outputs": []
    },
    {
      "cell_type": "code",
      "metadata": {
        "id": "9UqjkM2Jo_E9",
        "outputId": "92befff1-b1e8-4599-e9e3-ca49f3bea4b2",
        "colab": {
          "base_uri": "https://localhost:8080/",
          "height": 227
        }
      },
      "source": [
        "# leitura dos dados csv\n",
        "df = pd.read_csv(\"https://pycourse.s3.amazonaws.com/temperature.csv\")\n",
        "df"
      ],
      "execution_count": null,
      "outputs": [
        {
          "output_type": "execute_result",
          "data": {
            "text/html": [
              "<div>\n",
              "<style scoped>\n",
              "    .dataframe tbody tr th:only-of-type {\n",
              "        vertical-align: middle;\n",
              "    }\n",
              "\n",
              "    .dataframe tbody tr th {\n",
              "        vertical-align: top;\n",
              "    }\n",
              "\n",
              "    .dataframe thead th {\n",
              "        text-align: right;\n",
              "    }\n",
              "</style>\n",
              "<table border=\"1\" class=\"dataframe\">\n",
              "  <thead>\n",
              "    <tr style=\"text-align: right;\">\n",
              "      <th></th>\n",
              "      <th>date</th>\n",
              "      <th>temperatura</th>\n",
              "      <th>classification</th>\n",
              "    </tr>\n",
              "  </thead>\n",
              "  <tbody>\n",
              "    <tr>\n",
              "      <th>0</th>\n",
              "      <td>2020-01-01</td>\n",
              "      <td>29.1</td>\n",
              "      <td>quente</td>\n",
              "    </tr>\n",
              "    <tr>\n",
              "      <th>1</th>\n",
              "      <td>2020-02-01</td>\n",
              "      <td>31.2</td>\n",
              "      <td>muito quente</td>\n",
              "    </tr>\n",
              "    <tr>\n",
              "      <th>2</th>\n",
              "      <td>2020-03-01</td>\n",
              "      <td>28.5</td>\n",
              "      <td>quente</td>\n",
              "    </tr>\n",
              "    <tr>\n",
              "      <th>3</th>\n",
              "      <td>2020-04-01</td>\n",
              "      <td>28.0</td>\n",
              "      <td>quente</td>\n",
              "    </tr>\n",
              "    <tr>\n",
              "      <th>4</th>\n",
              "      <td>2020-05-01</td>\n",
              "      <td>24.0</td>\n",
              "      <td>confortavel</td>\n",
              "    </tr>\n",
              "    <tr>\n",
              "      <th>5</th>\n",
              "      <td>2020-06-01</td>\n",
              "      <td>20.0</td>\n",
              "      <td>frio</td>\n",
              "    </tr>\n",
              "  </tbody>\n",
              "</table>\n",
              "</div>"
            ],
            "text/plain": [
              "         date  temperatura classification\n",
              "0  2020-01-01         29.1         quente\n",
              "1  2020-02-01         31.2   muito quente\n",
              "2  2020-03-01         28.5         quente\n",
              "3  2020-04-01         28.0         quente\n",
              "4  2020-05-01         24.0    confortavel\n",
              "5  2020-06-01         20.0           frio"
            ]
          },
          "metadata": {
            "tags": []
          },
          "execution_count": 3
        }
      ]
    },
    {
      "cell_type": "code",
      "metadata": {
        "id": "ejKmUZpHaoQj"
      },
      "source": [
        "# leitura de planilhas excel\n",
        "# 2 abas (worksheets)\n",
        "\n",
        "# leitura do arquivo todo\n",
        "excel_file = pd.ExcelFile(\"https://pycourse.s3.amazonaws.com/temperature.xlsx\")"
      ],
      "execution_count": null,
      "outputs": []
    },
    {
      "cell_type": "code",
      "metadata": {
        "id": "R2dmextegAHe",
        "outputId": "51fcd741-ee01-44ee-ecde-98d819abcb82",
        "colab": {
          "base_uri": "https://localhost:8080/",
          "height": 34
        }
      },
      "source": [
        "type(excel_file)"
      ],
      "execution_count": null,
      "outputs": [
        {
          "output_type": "execute_result",
          "data": {
            "text/plain": [
              "pandas.io.excel._base.ExcelFile"
            ]
          },
          "metadata": {
            "tags": []
          },
          "execution_count": 5
        }
      ]
    },
    {
      "cell_type": "code",
      "metadata": {
        "id": "3pxoXVmjb2sJ",
        "outputId": "fc18dc74-a702-4f7e-8743-8114519ad059",
        "colab": {
          "base_uri": "https://localhost:8080/",
          "height": 235
        }
      },
      "source": [
        "# leitura da primeira aba (Sheet1)\n",
        "# dados numéricos com separador decimal = '.'\n",
        "df2 = pd.read_excel(excel_file, sheet_name='Sheet1')\n",
        "df2"
      ],
      "execution_count": null,
      "outputs": [
        {
          "output_type": "execute_result",
          "data": {
            "text/html": [
              "<div>\n",
              "<style scoped>\n",
              "    .dataframe tbody tr th:only-of-type {\n",
              "        vertical-align: middle;\n",
              "    }\n",
              "\n",
              "    .dataframe tbody tr th {\n",
              "        vertical-align: top;\n",
              "    }\n",
              "\n",
              "    .dataframe thead th {\n",
              "        text-align: right;\n",
              "    }\n",
              "</style>\n",
              "<table border=\"1\" class=\"dataframe\">\n",
              "  <thead>\n",
              "    <tr style=\"text-align: right;\">\n",
              "      <th></th>\n",
              "      <th>date</th>\n",
              "      <th>temperatura</th>\n",
              "      <th>classification</th>\n",
              "    </tr>\n",
              "  </thead>\n",
              "  <tbody>\n",
              "    <tr>\n",
              "      <th>0</th>\n",
              "      <td>2020-01-01</td>\n",
              "      <td>29.1</td>\n",
              "      <td>quente</td>\n",
              "    </tr>\n",
              "    <tr>\n",
              "      <th>1</th>\n",
              "      <td>2020-02-01</td>\n",
              "      <td>31.2</td>\n",
              "      <td>muito quente</td>\n",
              "    </tr>\n",
              "    <tr>\n",
              "      <th>2</th>\n",
              "      <td>2020-03-01</td>\n",
              "      <td>28.5</td>\n",
              "      <td>quente</td>\n",
              "    </tr>\n",
              "    <tr>\n",
              "      <th>3</th>\n",
              "      <td>2020-04-01</td>\n",
              "      <td>28.0</td>\n",
              "      <td>quente</td>\n",
              "    </tr>\n",
              "    <tr>\n",
              "      <th>4</th>\n",
              "      <td>2020-05-01</td>\n",
              "      <td>24.0</td>\n",
              "      <td>confortavel</td>\n",
              "    </tr>\n",
              "    <tr>\n",
              "      <th>5</th>\n",
              "      <td>2020-06-01</td>\n",
              "      <td>20.0</td>\n",
              "      <td>frio</td>\n",
              "    </tr>\n",
              "  </tbody>\n",
              "</table>\n",
              "</div>"
            ],
            "text/plain": [
              "        date  temperatura classification\n",
              "0 2020-01-01         29.1         quente\n",
              "1 2020-02-01         31.2   muito quente\n",
              "2 2020-03-01         28.5         quente\n",
              "3 2020-04-01         28.0         quente\n",
              "4 2020-05-01         24.0    confortavel\n",
              "5 2020-06-01         20.0           frio"
            ]
          },
          "metadata": {
            "tags": []
          },
          "execution_count": 183
        }
      ]
    },
    {
      "cell_type": "code",
      "metadata": {
        "id": "wwEFKFjtb4Lc",
        "outputId": "944c4e16-8cb5-400b-9c7f-38df1b552db7",
        "colab": {
          "base_uri": "https://localhost:8080/",
          "height": 227
        }
      },
      "source": [
        "# leitura da segunda aba (Sheet2)\n",
        "# dados numéricos com separador decimal = ','\n",
        "df3 = pd.read_excel(excel_file, sheet_name='Sheet2') \n",
        "df3['temperatura'] = df3['temperatura'].str.replace(',', '.').astype('float')\n",
        "df3"
      ],
      "execution_count": null,
      "outputs": [
        {
          "output_type": "execute_result",
          "data": {
            "text/html": [
              "<div>\n",
              "<style scoped>\n",
              "    .dataframe tbody tr th:only-of-type {\n",
              "        vertical-align: middle;\n",
              "    }\n",
              "\n",
              "    .dataframe tbody tr th {\n",
              "        vertical-align: top;\n",
              "    }\n",
              "\n",
              "    .dataframe thead th {\n",
              "        text-align: right;\n",
              "    }\n",
              "</style>\n",
              "<table border=\"1\" class=\"dataframe\">\n",
              "  <thead>\n",
              "    <tr style=\"text-align: right;\">\n",
              "      <th></th>\n",
              "      <th>date</th>\n",
              "      <th>temperatura</th>\n",
              "      <th>classification</th>\n",
              "    </tr>\n",
              "  </thead>\n",
              "  <tbody>\n",
              "    <tr>\n",
              "      <th>0</th>\n",
              "      <td>2020-01-01</td>\n",
              "      <td>29.1</td>\n",
              "      <td>quente</td>\n",
              "    </tr>\n",
              "    <tr>\n",
              "      <th>1</th>\n",
              "      <td>2020-02-01</td>\n",
              "      <td>31.2</td>\n",
              "      <td>muito quente</td>\n",
              "    </tr>\n",
              "    <tr>\n",
              "      <th>2</th>\n",
              "      <td>2020-03-01</td>\n",
              "      <td>28.5</td>\n",
              "      <td>quente</td>\n",
              "    </tr>\n",
              "    <tr>\n",
              "      <th>3</th>\n",
              "      <td>2020-04-01</td>\n",
              "      <td>28.0</td>\n",
              "      <td>quente</td>\n",
              "    </tr>\n",
              "    <tr>\n",
              "      <th>4</th>\n",
              "      <td>2020-05-01</td>\n",
              "      <td>24.0</td>\n",
              "      <td>confortavel</td>\n",
              "    </tr>\n",
              "    <tr>\n",
              "      <th>5</th>\n",
              "      <td>2020-06-01</td>\n",
              "      <td>20.0</td>\n",
              "      <td>frio</td>\n",
              "    </tr>\n",
              "  </tbody>\n",
              "</table>\n",
              "</div>"
            ],
            "text/plain": [
              "        date  temperatura classification\n",
              "0 2020-01-01         29.1         quente\n",
              "1 2020-02-01         31.2   muito quente\n",
              "2 2020-03-01         28.5         quente\n",
              "3 2020-04-01         28.0         quente\n",
              "4 2020-05-01         24.0    confortavel\n",
              "5 2020-06-01         20.0           frio"
            ]
          },
          "metadata": {
            "tags": []
          },
          "execution_count": 33
        }
      ]
    },
    {
      "cell_type": "code",
      "metadata": {
        "id": "MZpdPIEhpXc6",
        "outputId": "3c8a6e68-eae5-4ab2-9a35-6cc2b7305a62",
        "colab": {
          "base_uri": "https://localhost:8080/",
          "height": 142
        }
      },
      "source": [
        "# visualizando as primeiras n linhas\n",
        "n = 3\n",
        "df.head(n)"
      ],
      "execution_count": null,
      "outputs": [
        {
          "output_type": "execute_result",
          "data": {
            "text/html": [
              "<div>\n",
              "<style scoped>\n",
              "    .dataframe tbody tr th:only-of-type {\n",
              "        vertical-align: middle;\n",
              "    }\n",
              "\n",
              "    .dataframe tbody tr th {\n",
              "        vertical-align: top;\n",
              "    }\n",
              "\n",
              "    .dataframe thead th {\n",
              "        text-align: right;\n",
              "    }\n",
              "</style>\n",
              "<table border=\"1\" class=\"dataframe\">\n",
              "  <thead>\n",
              "    <tr style=\"text-align: right;\">\n",
              "      <th></th>\n",
              "      <th>date</th>\n",
              "      <th>temperatura</th>\n",
              "      <th>classification</th>\n",
              "    </tr>\n",
              "  </thead>\n",
              "  <tbody>\n",
              "    <tr>\n",
              "      <th>0</th>\n",
              "      <td>2020-01-01</td>\n",
              "      <td>29.1</td>\n",
              "      <td>quente</td>\n",
              "    </tr>\n",
              "    <tr>\n",
              "      <th>1</th>\n",
              "      <td>2020-02-01</td>\n",
              "      <td>31.2</td>\n",
              "      <td>muito quente</td>\n",
              "    </tr>\n",
              "    <tr>\n",
              "      <th>2</th>\n",
              "      <td>2020-03-01</td>\n",
              "      <td>28.5</td>\n",
              "      <td>quente</td>\n",
              "    </tr>\n",
              "  </tbody>\n",
              "</table>\n",
              "</div>"
            ],
            "text/plain": [
              "         date  temperatura classification\n",
              "0  2020-01-01         29.1         quente\n",
              "1  2020-02-01         31.2   muito quente\n",
              "2  2020-03-01         28.5         quente"
            ]
          },
          "metadata": {
            "tags": []
          },
          "execution_count": 187
        }
      ]
    },
    {
      "cell_type": "code",
      "metadata": {
        "id": "E5OOIZW_pt4m",
        "outputId": "bb6c5095-aeb2-465b-8bd0-092ae8e20e18",
        "colab": {
          "base_uri": "https://localhost:8080/",
          "height": 142
        }
      },
      "source": [
        "# visualizando as últimas n linhas\n",
        "n = 3\n",
        "df.tail(n)"
      ],
      "execution_count": null,
      "outputs": [
        {
          "output_type": "execute_result",
          "data": {
            "text/html": [
              "<div>\n",
              "<style scoped>\n",
              "    .dataframe tbody tr th:only-of-type {\n",
              "        vertical-align: middle;\n",
              "    }\n",
              "\n",
              "    .dataframe tbody tr th {\n",
              "        vertical-align: top;\n",
              "    }\n",
              "\n",
              "    .dataframe thead th {\n",
              "        text-align: right;\n",
              "    }\n",
              "</style>\n",
              "<table border=\"1\" class=\"dataframe\">\n",
              "  <thead>\n",
              "    <tr style=\"text-align: right;\">\n",
              "      <th></th>\n",
              "      <th>date</th>\n",
              "      <th>temperatura</th>\n",
              "      <th>classification</th>\n",
              "    </tr>\n",
              "  </thead>\n",
              "  <tbody>\n",
              "    <tr>\n",
              "      <th>3</th>\n",
              "      <td>2020-04-01</td>\n",
              "      <td>28.0</td>\n",
              "      <td>quente</td>\n",
              "    </tr>\n",
              "    <tr>\n",
              "      <th>4</th>\n",
              "      <td>2020-05-01</td>\n",
              "      <td>24.0</td>\n",
              "      <td>confortavel</td>\n",
              "    </tr>\n",
              "    <tr>\n",
              "      <th>5</th>\n",
              "      <td>2020-06-01</td>\n",
              "      <td>20.0</td>\n",
              "      <td>frio</td>\n",
              "    </tr>\n",
              "  </tbody>\n",
              "</table>\n",
              "</div>"
            ],
            "text/plain": [
              "         date  temperatura classification\n",
              "3  2020-04-01         28.0         quente\n",
              "4  2020-05-01         24.0    confortavel\n",
              "5  2020-06-01         20.0           frio"
            ]
          },
          "metadata": {
            "tags": []
          },
          "execution_count": 188
        }
      ]
    },
    {
      "cell_type": "code",
      "metadata": {
        "id": "W5ybJEyoqLzT",
        "outputId": "5cb18a0c-bac5-49ab-d8fa-2782583f9ea2",
        "colab": {
          "base_uri": "https://localhost:8080/",
          "height": 89
        }
      },
      "source": [
        "# dtypes\n",
        "df.dtypes"
      ],
      "execution_count": null,
      "outputs": [
        {
          "output_type": "execute_result",
          "data": {
            "text/plain": [
              "date               object\n",
              "temperatura       float64\n",
              "classification     object\n",
              "dtype: object"
            ]
          },
          "metadata": {
            "tags": []
          },
          "execution_count": 189
        }
      ]
    },
    {
      "cell_type": "code",
      "metadata": {
        "id": "1uMlDizuqRuj",
        "outputId": "513380e7-cd75-47d9-d6b3-d5fbad6fc228",
        "colab": {
          "base_uri": "https://localhost:8080/",
          "height": 297
        }
      },
      "source": [
        "# estatísticas básicas\n",
        "df.describe()"
      ],
      "execution_count": null,
      "outputs": [
        {
          "output_type": "execute_result",
          "data": {
            "text/html": [
              "<div>\n",
              "<style scoped>\n",
              "    .dataframe tbody tr th:only-of-type {\n",
              "        vertical-align: middle;\n",
              "    }\n",
              "\n",
              "    .dataframe tbody tr th {\n",
              "        vertical-align: top;\n",
              "    }\n",
              "\n",
              "    .dataframe thead th {\n",
              "        text-align: right;\n",
              "    }\n",
              "</style>\n",
              "<table border=\"1\" class=\"dataframe\">\n",
              "  <thead>\n",
              "    <tr style=\"text-align: right;\">\n",
              "      <th></th>\n",
              "      <th>temperatura</th>\n",
              "    </tr>\n",
              "  </thead>\n",
              "  <tbody>\n",
              "    <tr>\n",
              "      <th>count</th>\n",
              "      <td>6.000000</td>\n",
              "    </tr>\n",
              "    <tr>\n",
              "      <th>mean</th>\n",
              "      <td>26.800000</td>\n",
              "    </tr>\n",
              "    <tr>\n",
              "      <th>std</th>\n",
              "      <td>4.075782</td>\n",
              "    </tr>\n",
              "    <tr>\n",
              "      <th>min</th>\n",
              "      <td>20.000000</td>\n",
              "    </tr>\n",
              "    <tr>\n",
              "      <th>25%</th>\n",
              "      <td>25.000000</td>\n",
              "    </tr>\n",
              "    <tr>\n",
              "      <th>50%</th>\n",
              "      <td>28.250000</td>\n",
              "    </tr>\n",
              "    <tr>\n",
              "      <th>75%</th>\n",
              "      <td>28.950000</td>\n",
              "    </tr>\n",
              "    <tr>\n",
              "      <th>max</th>\n",
              "      <td>31.200000</td>\n",
              "    </tr>\n",
              "  </tbody>\n",
              "</table>\n",
              "</div>"
            ],
            "text/plain": [
              "       temperatura\n",
              "count     6.000000\n",
              "mean     26.800000\n",
              "std       4.075782\n",
              "min      20.000000\n",
              "25%      25.000000\n",
              "50%      28.250000\n",
              "75%      28.950000\n",
              "max      31.200000"
            ]
          },
          "metadata": {
            "tags": []
          },
          "execution_count": 193
        }
      ]
    },
    {
      "cell_type": "code",
      "metadata": {
        "id": "2lPQBYfhqi-G",
        "outputId": "5d923989-4fe9-4b97-f9f6-6d7e6473002f",
        "colab": {
          "base_uri": "https://localhost:8080/",
          "height": 197
        }
      },
      "source": [
        "# dataframe info\n",
        "df.info()"
      ],
      "execution_count": null,
      "outputs": [
        {
          "output_type": "stream",
          "text": [
            "<class 'pandas.core.frame.DataFrame'>\n",
            "RangeIndex: 6 entries, 0 to 5\n",
            "Data columns (total 3 columns):\n",
            " #   Column          Non-Null Count  Dtype  \n",
            "---  ------          --------------  -----  \n",
            " 0   date            6 non-null      object \n",
            " 1   temperatura     6 non-null      float64\n",
            " 2   classification  6 non-null      object \n",
            "dtypes: float64(1), object(2)\n",
            "memory usage: 272.0+ bytes\n"
          ],
          "name": "stdout"
        }
      ]
    },
    {
      "cell_type": "code",
      "metadata": {
        "id": "DLRY7u-LrTMI",
        "outputId": "f3e33828-b089-4a7e-da70-be15d029b53a",
        "colab": {
          "base_uri": "https://localhost:8080/",
          "height": 35
        }
      },
      "source": [
        "# nomes das colunas\n",
        "df.columns"
      ],
      "execution_count": null,
      "outputs": [
        {
          "output_type": "execute_result",
          "data": {
            "text/plain": [
              "Index(['date', 'temperatura', 'classification'], dtype='object')"
            ]
          },
          "metadata": {
            "tags": []
          },
          "execution_count": 199
        }
      ]
    },
    {
      "cell_type": "markdown",
      "metadata": {
        "id": "4gU2Pi7crNNq"
      },
      "source": [
        "### **Indexação**"
      ]
    },
    {
      "cell_type": "code",
      "metadata": {
        "id": "MYXjp9_ozlyo",
        "outputId": "1f31e87d-9eca-48ed-a267-d50d9a1ae9cc",
        "colab": {
          "base_uri": "https://localhost:8080/",
          "height": 204
        }
      },
      "source": [
        "df.head()"
      ],
      "execution_count": null,
      "outputs": [
        {
          "output_type": "execute_result",
          "data": {
            "text/html": [
              "<div>\n",
              "<style scoped>\n",
              "    .dataframe tbody tr th:only-of-type {\n",
              "        vertical-align: middle;\n",
              "    }\n",
              "\n",
              "    .dataframe tbody tr th {\n",
              "        vertical-align: top;\n",
              "    }\n",
              "\n",
              "    .dataframe thead th {\n",
              "        text-align: right;\n",
              "    }\n",
              "</style>\n",
              "<table border=\"1\" class=\"dataframe\">\n",
              "  <thead>\n",
              "    <tr style=\"text-align: right;\">\n",
              "      <th></th>\n",
              "      <th>date</th>\n",
              "      <th>temperatura</th>\n",
              "      <th>classification</th>\n",
              "    </tr>\n",
              "  </thead>\n",
              "  <tbody>\n",
              "    <tr>\n",
              "      <th>0</th>\n",
              "      <td>2020-01-01</td>\n",
              "      <td>29.1</td>\n",
              "      <td>quente</td>\n",
              "    </tr>\n",
              "    <tr>\n",
              "      <th>1</th>\n",
              "      <td>2020-02-01</td>\n",
              "      <td>31.2</td>\n",
              "      <td>muito quente</td>\n",
              "    </tr>\n",
              "    <tr>\n",
              "      <th>2</th>\n",
              "      <td>2020-03-01</td>\n",
              "      <td>28.5</td>\n",
              "      <td>quente</td>\n",
              "    </tr>\n",
              "    <tr>\n",
              "      <th>3</th>\n",
              "      <td>2020-04-01</td>\n",
              "      <td>28.0</td>\n",
              "      <td>quente</td>\n",
              "    </tr>\n",
              "    <tr>\n",
              "      <th>4</th>\n",
              "      <td>2020-05-01</td>\n",
              "      <td>24.0</td>\n",
              "      <td>confortavel</td>\n",
              "    </tr>\n",
              "  </tbody>\n",
              "</table>\n",
              "</div>"
            ],
            "text/plain": [
              "         date  temperatura classification\n",
              "0  2020-01-01         29.1         quente\n",
              "1  2020-02-01         31.2   muito quente\n",
              "2  2020-03-01         28.5         quente\n",
              "3  2020-04-01         28.0         quente\n",
              "4  2020-05-01         24.0    confortavel"
            ]
          },
          "metadata": {
            "tags": []
          },
          "execution_count": 7
        }
      ]
    },
    {
      "cell_type": "code",
      "metadata": {
        "id": "AFsKjAv9rPpS",
        "outputId": "3699ffce-ed56-439a-ce90-31a743f5a1d6",
        "colab": {
          "base_uri": "https://localhost:8080/",
          "height": 143
        }
      },
      "source": [
        "# seleção de uma coluna\n",
        "df['temperatura']"
      ],
      "execution_count": null,
      "outputs": [
        {
          "output_type": "execute_result",
          "data": {
            "text/plain": [
              "0    29.1\n",
              "1    31.2\n",
              "2    28.5\n",
              "3    28.0\n",
              "4    24.0\n",
              "5    20.0\n",
              "Name: temperatura, dtype: float64"
            ]
          },
          "metadata": {
            "tags": []
          },
          "execution_count": 10
        }
      ]
    },
    {
      "cell_type": "code",
      "metadata": {
        "id": "LyshmpFeroZn",
        "outputId": "e38d0a7d-d64e-4ab8-cc73-8cc302cb081b",
        "colab": {
          "base_uri": "https://localhost:8080/",
          "height": 35
        }
      },
      "source": [
        "# tipo\n",
        "type(df['temperatura'])"
      ],
      "execution_count": null,
      "outputs": [
        {
          "output_type": "execute_result",
          "data": {
            "text/plain": [
              "pandas.core.series.Series"
            ]
          },
          "metadata": {
            "tags": []
          },
          "execution_count": 11
        }
      ]
    },
    {
      "cell_type": "code",
      "metadata": {
        "id": "wNi1uHGyrv_J",
        "outputId": "f63052f3-0b4d-43e7-eda8-2e4dfdb983a0",
        "colab": {
          "base_uri": "https://localhost:8080/",
          "height": 235
        }
      },
      "source": [
        "# seleção de múltiplas colunas\n",
        "df[['date', 'classification', 'temperatura']]"
      ],
      "execution_count": null,
      "outputs": [
        {
          "output_type": "execute_result",
          "data": {
            "text/html": [
              "<div>\n",
              "<style scoped>\n",
              "    .dataframe tbody tr th:only-of-type {\n",
              "        vertical-align: middle;\n",
              "    }\n",
              "\n",
              "    .dataframe tbody tr th {\n",
              "        vertical-align: top;\n",
              "    }\n",
              "\n",
              "    .dataframe thead th {\n",
              "        text-align: right;\n",
              "    }\n",
              "</style>\n",
              "<table border=\"1\" class=\"dataframe\">\n",
              "  <thead>\n",
              "    <tr style=\"text-align: right;\">\n",
              "      <th></th>\n",
              "      <th>date</th>\n",
              "      <th>classification</th>\n",
              "      <th>temperatura</th>\n",
              "    </tr>\n",
              "  </thead>\n",
              "  <tbody>\n",
              "    <tr>\n",
              "      <th>0</th>\n",
              "      <td>2020-01-01</td>\n",
              "      <td>quente</td>\n",
              "      <td>29.1</td>\n",
              "    </tr>\n",
              "    <tr>\n",
              "      <th>1</th>\n",
              "      <td>2020-02-01</td>\n",
              "      <td>muito quente</td>\n",
              "      <td>31.2</td>\n",
              "    </tr>\n",
              "    <tr>\n",
              "      <th>2</th>\n",
              "      <td>2020-03-01</td>\n",
              "      <td>quente</td>\n",
              "      <td>28.5</td>\n",
              "    </tr>\n",
              "    <tr>\n",
              "      <th>3</th>\n",
              "      <td>2020-04-01</td>\n",
              "      <td>quente</td>\n",
              "      <td>28.0</td>\n",
              "    </tr>\n",
              "    <tr>\n",
              "      <th>4</th>\n",
              "      <td>2020-05-01</td>\n",
              "      <td>confortavel</td>\n",
              "      <td>24.0</td>\n",
              "    </tr>\n",
              "    <tr>\n",
              "      <th>5</th>\n",
              "      <td>2020-06-01</td>\n",
              "      <td>frio</td>\n",
              "      <td>20.0</td>\n",
              "    </tr>\n",
              "  </tbody>\n",
              "</table>\n",
              "</div>"
            ],
            "text/plain": [
              "         date classification  temperatura\n",
              "0  2020-01-01         quente         29.1\n",
              "1  2020-02-01   muito quente         31.2\n",
              "2  2020-03-01         quente         28.5\n",
              "3  2020-04-01         quente         28.0\n",
              "4  2020-05-01    confortavel         24.0\n",
              "5  2020-06-01           frio         20.0"
            ]
          },
          "metadata": {
            "tags": []
          },
          "execution_count": 14
        }
      ]
    },
    {
      "cell_type": "code",
      "metadata": {
        "id": "o793Y9Hxr9tR",
        "outputId": "1c556ba0-35a9-4680-a8db-14fad24ab291",
        "colab": {
          "base_uri": "https://localhost:8080/",
          "height": 35
        }
      },
      "source": [
        "# tipo\n",
        "type(df[['date', 'classification']])"
      ],
      "execution_count": null,
      "outputs": [
        {
          "output_type": "execute_result",
          "data": {
            "text/plain": [
              "pandas.core.frame.DataFrame"
            ]
          },
          "metadata": {
            "tags": []
          },
          "execution_count": 13
        }
      ]
    },
    {
      "cell_type": "code",
      "metadata": {
        "id": "Aak_N4UMuIpV"
      },
      "source": [
        "# iloc\n",
        "df.iloc?"
      ],
      "execution_count": null,
      "outputs": []
    },
    {
      "cell_type": "code",
      "metadata": {
        "id": "EhQdVkbmsGsU"
      },
      "source": [
        "# indexação por índice\n",
        "# selecionado todas as linhas e a coluna 1\n",
        "# coluna 1: temperatura\n",
        "a = df.iloc[:, 1]"
      ],
      "execution_count": null,
      "outputs": []
    },
    {
      "cell_type": "code",
      "metadata": {
        "id": "0FrYgFTpsKro",
        "outputId": "f40370c3-be89-4c52-af9e-be8785f86333",
        "colab": {
          "base_uri": "https://localhost:8080/",
          "height": 143
        }
      },
      "source": [
        "# indexação por nome\n",
        "# selecionado todas as linhas e a coluna 1\n",
        "df.loc[:, 'temperatura']"
      ],
      "execution_count": null,
      "outputs": [
        {
          "output_type": "execute_result",
          "data": {
            "text/plain": [
              "0    29.1\n",
              "1    31.2\n",
              "2    28.5\n",
              "3    28.0\n",
              "4    24.0\n",
              "5    20.0\n",
              "Name: temperatura, dtype: float64"
            ]
          },
          "metadata": {
            "tags": []
          },
          "execution_count": 17
        }
      ]
    },
    {
      "cell_type": "code",
      "metadata": {
        "id": "pV9onCPesS7h",
        "outputId": "b2c2178e-85a5-4754-c9ff-afffa57da0a5",
        "colab": {
          "base_uri": "https://localhost:8080/",
          "height": 235
        }
      },
      "source": [
        "# indexação por índice de múltiplas colunas\n",
        "df.iloc[:, 1:]"
      ],
      "execution_count": null,
      "outputs": [
        {
          "output_type": "execute_result",
          "data": {
            "text/html": [
              "<div>\n",
              "<style scoped>\n",
              "    .dataframe tbody tr th:only-of-type {\n",
              "        vertical-align: middle;\n",
              "    }\n",
              "\n",
              "    .dataframe tbody tr th {\n",
              "        vertical-align: top;\n",
              "    }\n",
              "\n",
              "    .dataframe thead th {\n",
              "        text-align: right;\n",
              "    }\n",
              "</style>\n",
              "<table border=\"1\" class=\"dataframe\">\n",
              "  <thead>\n",
              "    <tr style=\"text-align: right;\">\n",
              "      <th></th>\n",
              "      <th>temperatura</th>\n",
              "      <th>classification</th>\n",
              "    </tr>\n",
              "  </thead>\n",
              "  <tbody>\n",
              "    <tr>\n",
              "      <th>0</th>\n",
              "      <td>29.1</td>\n",
              "      <td>quente</td>\n",
              "    </tr>\n",
              "    <tr>\n",
              "      <th>1</th>\n",
              "      <td>31.2</td>\n",
              "      <td>muito quente</td>\n",
              "    </tr>\n",
              "    <tr>\n",
              "      <th>2</th>\n",
              "      <td>28.5</td>\n",
              "      <td>quente</td>\n",
              "    </tr>\n",
              "    <tr>\n",
              "      <th>3</th>\n",
              "      <td>28.0</td>\n",
              "      <td>quente</td>\n",
              "    </tr>\n",
              "    <tr>\n",
              "      <th>4</th>\n",
              "      <td>24.0</td>\n",
              "      <td>confortavel</td>\n",
              "    </tr>\n",
              "    <tr>\n",
              "      <th>5</th>\n",
              "      <td>20.0</td>\n",
              "      <td>frio</td>\n",
              "    </tr>\n",
              "  </tbody>\n",
              "</table>\n",
              "</div>"
            ],
            "text/plain": [
              "   temperatura classification\n",
              "0         29.1         quente\n",
              "1         31.2   muito quente\n",
              "2         28.5         quente\n",
              "3         28.0         quente\n",
              "4         24.0    confortavel\n",
              "5         20.0           frio"
            ]
          },
          "metadata": {
            "tags": []
          },
          "execution_count": 22
        }
      ]
    },
    {
      "cell_type": "code",
      "metadata": {
        "id": "eMC0RktesdLO",
        "outputId": "82dc2e27-37c9-438a-fec6-b27ec25d08c3",
        "colab": {
          "base_uri": "https://localhost:8080/",
          "height": 235
        }
      },
      "source": [
        "# indexação por nome de múltiplas colunas\n",
        "df.loc[:, ['temperatura', 'classification']]"
      ],
      "execution_count": null,
      "outputs": [
        {
          "output_type": "execute_result",
          "data": {
            "text/html": [
              "<div>\n",
              "<style scoped>\n",
              "    .dataframe tbody tr th:only-of-type {\n",
              "        vertical-align: middle;\n",
              "    }\n",
              "\n",
              "    .dataframe tbody tr th {\n",
              "        vertical-align: top;\n",
              "    }\n",
              "\n",
              "    .dataframe thead th {\n",
              "        text-align: right;\n",
              "    }\n",
              "</style>\n",
              "<table border=\"1\" class=\"dataframe\">\n",
              "  <thead>\n",
              "    <tr style=\"text-align: right;\">\n",
              "      <th></th>\n",
              "      <th>temperatura</th>\n",
              "      <th>classification</th>\n",
              "    </tr>\n",
              "  </thead>\n",
              "  <tbody>\n",
              "    <tr>\n",
              "      <th>0</th>\n",
              "      <td>29.1</td>\n",
              "      <td>quente</td>\n",
              "    </tr>\n",
              "    <tr>\n",
              "      <th>1</th>\n",
              "      <td>31.2</td>\n",
              "      <td>muito quente</td>\n",
              "    </tr>\n",
              "    <tr>\n",
              "      <th>2</th>\n",
              "      <td>28.5</td>\n",
              "      <td>quente</td>\n",
              "    </tr>\n",
              "    <tr>\n",
              "      <th>3</th>\n",
              "      <td>28.0</td>\n",
              "      <td>quente</td>\n",
              "    </tr>\n",
              "    <tr>\n",
              "      <th>4</th>\n",
              "      <td>24.0</td>\n",
              "      <td>confortavel</td>\n",
              "    </tr>\n",
              "    <tr>\n",
              "      <th>5</th>\n",
              "      <td>20.0</td>\n",
              "      <td>frio</td>\n",
              "    </tr>\n",
              "  </tbody>\n",
              "</table>\n",
              "</div>"
            ],
            "text/plain": [
              "   temperatura classification\n",
              "0         29.1         quente\n",
              "1         31.2   muito quente\n",
              "2         28.5         quente\n",
              "3         28.0         quente\n",
              "4         24.0    confortavel\n",
              "5         20.0           frio"
            ]
          },
          "metadata": {
            "tags": []
          },
          "execution_count": 21
        }
      ]
    },
    {
      "cell_type": "code",
      "metadata": {
        "id": "Mw0tAQCFsm17",
        "outputId": "7ee1460a-c3af-4563-921b-2ca2e6788c97",
        "colab": {
          "base_uri": "https://localhost:8080/",
          "height": 235
        }
      },
      "source": [
        "# indexação por nome de múltiplas colunas\n",
        "df.loc[:, 'temperatura':]"
      ],
      "execution_count": null,
      "outputs": [
        {
          "output_type": "execute_result",
          "data": {
            "text/html": [
              "<div>\n",
              "<style scoped>\n",
              "    .dataframe tbody tr th:only-of-type {\n",
              "        vertical-align: middle;\n",
              "    }\n",
              "\n",
              "    .dataframe tbody tr th {\n",
              "        vertical-align: top;\n",
              "    }\n",
              "\n",
              "    .dataframe thead th {\n",
              "        text-align: right;\n",
              "    }\n",
              "</style>\n",
              "<table border=\"1\" class=\"dataframe\">\n",
              "  <thead>\n",
              "    <tr style=\"text-align: right;\">\n",
              "      <th></th>\n",
              "      <th>temperatura</th>\n",
              "      <th>classification</th>\n",
              "    </tr>\n",
              "  </thead>\n",
              "  <tbody>\n",
              "    <tr>\n",
              "      <th>0</th>\n",
              "      <td>29.1</td>\n",
              "      <td>quente</td>\n",
              "    </tr>\n",
              "    <tr>\n",
              "      <th>1</th>\n",
              "      <td>31.2</td>\n",
              "      <td>muito quente</td>\n",
              "    </tr>\n",
              "    <tr>\n",
              "      <th>2</th>\n",
              "      <td>28.5</td>\n",
              "      <td>quente</td>\n",
              "    </tr>\n",
              "    <tr>\n",
              "      <th>3</th>\n",
              "      <td>28.0</td>\n",
              "      <td>quente</td>\n",
              "    </tr>\n",
              "    <tr>\n",
              "      <th>4</th>\n",
              "      <td>24.0</td>\n",
              "      <td>confortavel</td>\n",
              "    </tr>\n",
              "    <tr>\n",
              "      <th>5</th>\n",
              "      <td>20.0</td>\n",
              "      <td>frio</td>\n",
              "    </tr>\n",
              "  </tbody>\n",
              "</table>\n",
              "</div>"
            ],
            "text/plain": [
              "   temperatura classification\n",
              "0         29.1         quente\n",
              "1         31.2   muito quente\n",
              "2         28.5         quente\n",
              "3         28.0         quente\n",
              "4         24.0    confortavel\n",
              "5         20.0           frio"
            ]
          },
          "metadata": {
            "tags": []
          },
          "execution_count": 23
        }
      ]
    },
    {
      "cell_type": "markdown",
      "metadata": {
        "id": "D5RHAvSdsvws"
      },
      "source": [
        "### **Indexação booleana**"
      ]
    },
    {
      "cell_type": "code",
      "metadata": {
        "id": "2cWyNMvu6ydj",
        "outputId": "182937b6-4e28-48ba-83c5-bb83d8a4c95f",
        "colab": {
          "base_uri": "https://localhost:8080/",
          "height": 235
        }
      },
      "source": [
        "df"
      ],
      "execution_count": null,
      "outputs": [
        {
          "output_type": "execute_result",
          "data": {
            "text/html": [
              "<div>\n",
              "<style scoped>\n",
              "    .dataframe tbody tr th:only-of-type {\n",
              "        vertical-align: middle;\n",
              "    }\n",
              "\n",
              "    .dataframe tbody tr th {\n",
              "        vertical-align: top;\n",
              "    }\n",
              "\n",
              "    .dataframe thead th {\n",
              "        text-align: right;\n",
              "    }\n",
              "</style>\n",
              "<table border=\"1\" class=\"dataframe\">\n",
              "  <thead>\n",
              "    <tr style=\"text-align: right;\">\n",
              "      <th></th>\n",
              "      <th>date</th>\n",
              "      <th>temperatura</th>\n",
              "      <th>classification</th>\n",
              "    </tr>\n",
              "  </thead>\n",
              "  <tbody>\n",
              "    <tr>\n",
              "      <th>0</th>\n",
              "      <td>2020-01-01</td>\n",
              "      <td>29.1</td>\n",
              "      <td>quente</td>\n",
              "    </tr>\n",
              "    <tr>\n",
              "      <th>1</th>\n",
              "      <td>2020-02-01</td>\n",
              "      <td>31.2</td>\n",
              "      <td>muito quente</td>\n",
              "    </tr>\n",
              "    <tr>\n",
              "      <th>2</th>\n",
              "      <td>2020-03-01</td>\n",
              "      <td>28.5</td>\n",
              "      <td>quente</td>\n",
              "    </tr>\n",
              "    <tr>\n",
              "      <th>3</th>\n",
              "      <td>2020-04-01</td>\n",
              "      <td>28.0</td>\n",
              "      <td>quente</td>\n",
              "    </tr>\n",
              "    <tr>\n",
              "      <th>4</th>\n",
              "      <td>2020-05-01</td>\n",
              "      <td>24.0</td>\n",
              "      <td>confortavel</td>\n",
              "    </tr>\n",
              "    <tr>\n",
              "      <th>5</th>\n",
              "      <td>2020-06-01</td>\n",
              "      <td>20.0</td>\n",
              "      <td>frio</td>\n",
              "    </tr>\n",
              "  </tbody>\n",
              "</table>\n",
              "</div>"
            ],
            "text/plain": [
              "         date  temperatura classification\n",
              "0  2020-01-01         29.1         quente\n",
              "1  2020-02-01         31.2   muito quente\n",
              "2  2020-03-01         28.5         quente\n",
              "3  2020-04-01         28.0         quente\n",
              "4  2020-05-01         24.0    confortavel\n",
              "5  2020-06-01         20.0           frio"
            ]
          },
          "metadata": {
            "tags": []
          },
          "execution_count": 36
        }
      ]
    },
    {
      "cell_type": "code",
      "metadata": {
        "id": "xQj5l5_Ht5yt",
        "outputId": "baacd3fb-de2f-41fe-c17e-636f52a891ba",
        "colab": {
          "base_uri": "https://localhost:8080/",
          "height": 89
        }
      },
      "source": [
        "# dtype\n",
        "df.dtypes"
      ],
      "execution_count": null,
      "outputs": [
        {
          "output_type": "execute_result",
          "data": {
            "text/plain": [
              "date               object\n",
              "temperatura       float64\n",
              "classification     object\n",
              "dtype: object"
            ]
          },
          "metadata": {
            "tags": []
          },
          "execution_count": 37
        }
      ]
    },
    {
      "cell_type": "code",
      "metadata": {
        "id": "A5u4E73Ut0nq",
        "outputId": "52343bb1-8f85-4a1f-9a33-6be14b2b3a21",
        "colab": {
          "base_uri": "https://localhost:8080/",
          "height": 89
        }
      },
      "source": [
        "# transformando o tipo da coluna date para datetime\n",
        "df['date'] = pd.to_datetime(df['date'])\n",
        "df.dtypes"
      ],
      "execution_count": null,
      "outputs": [
        {
          "output_type": "execute_result",
          "data": {
            "text/plain": [
              "date              datetime64[ns]\n",
              "temperatura              float64\n",
              "classification            object\n",
              "dtype: object"
            ]
          },
          "metadata": {
            "tags": []
          },
          "execution_count": 155
        }
      ]
    },
    {
      "cell_type": "code",
      "metadata": {
        "id": "Cy-Yg0WJt_ir"
      },
      "source": [
        "# setando o índice\n",
        "df = df.set_index('date')"
      ],
      "execution_count": null,
      "outputs": []
    },
    {
      "cell_type": "code",
      "metadata": {
        "id": "JAS-zBkvuCo0",
        "outputId": "7ef67d7b-3a32-4a9d-a897-99b778789744",
        "colab": {
          "base_uri": "https://localhost:8080/",
          "height": 266
        }
      },
      "source": [
        "# visualizando o índice \n",
        "df"
      ],
      "execution_count": null,
      "outputs": [
        {
          "output_type": "execute_result",
          "data": {
            "text/html": [
              "<div>\n",
              "<style scoped>\n",
              "    .dataframe tbody tr th:only-of-type {\n",
              "        vertical-align: middle;\n",
              "    }\n",
              "\n",
              "    .dataframe tbody tr th {\n",
              "        vertical-align: top;\n",
              "    }\n",
              "\n",
              "    .dataframe thead th {\n",
              "        text-align: right;\n",
              "    }\n",
              "</style>\n",
              "<table border=\"1\" class=\"dataframe\">\n",
              "  <thead>\n",
              "    <tr style=\"text-align: right;\">\n",
              "      <th></th>\n",
              "      <th>temperatura</th>\n",
              "      <th>classification</th>\n",
              "    </tr>\n",
              "    <tr>\n",
              "      <th>date</th>\n",
              "      <th></th>\n",
              "      <th></th>\n",
              "    </tr>\n",
              "  </thead>\n",
              "  <tbody>\n",
              "    <tr>\n",
              "      <th>2020-01-01</th>\n",
              "      <td>29.1</td>\n",
              "      <td>quente</td>\n",
              "    </tr>\n",
              "    <tr>\n",
              "      <th>2020-02-01</th>\n",
              "      <td>31.2</td>\n",
              "      <td>muito quente</td>\n",
              "    </tr>\n",
              "    <tr>\n",
              "      <th>2020-03-01</th>\n",
              "      <td>28.5</td>\n",
              "      <td>quente</td>\n",
              "    </tr>\n",
              "    <tr>\n",
              "      <th>2020-04-01</th>\n",
              "      <td>28.0</td>\n",
              "      <td>quente</td>\n",
              "    </tr>\n",
              "    <tr>\n",
              "      <th>2020-05-01</th>\n",
              "      <td>24.0</td>\n",
              "      <td>confortavel</td>\n",
              "    </tr>\n",
              "    <tr>\n",
              "      <th>2020-06-01</th>\n",
              "      <td>20.0</td>\n",
              "      <td>frio</td>\n",
              "    </tr>\n",
              "  </tbody>\n",
              "</table>\n",
              "</div>"
            ],
            "text/plain": [
              "            temperatura classification\n",
              "date                                  \n",
              "2020-01-01         29.1         quente\n",
              "2020-02-01         31.2   muito quente\n",
              "2020-03-01         28.5         quente\n",
              "2020-04-01         28.0         quente\n",
              "2020-05-01         24.0    confortavel\n",
              "2020-06-01         20.0           frio"
            ]
          },
          "metadata": {
            "tags": []
          },
          "execution_count": 40
        }
      ]
    },
    {
      "cell_type": "code",
      "metadata": {
        "id": "dMkmDHk4ujTz",
        "outputId": "eee77d35-80ec-47fe-ac92-51e4b7d3e5d0",
        "colab": {
          "base_uri": "https://localhost:8080/",
          "height": 235
        }
      },
      "source": [
        "# 5 primeiras linas\n",
        "df.head()"
      ],
      "execution_count": null,
      "outputs": [
        {
          "output_type": "execute_result",
          "data": {
            "text/html": [
              "<div>\n",
              "<style scoped>\n",
              "    .dataframe tbody tr th:only-of-type {\n",
              "        vertical-align: middle;\n",
              "    }\n",
              "\n",
              "    .dataframe tbody tr th {\n",
              "        vertical-align: top;\n",
              "    }\n",
              "\n",
              "    .dataframe thead th {\n",
              "        text-align: right;\n",
              "    }\n",
              "</style>\n",
              "<table border=\"1\" class=\"dataframe\">\n",
              "  <thead>\n",
              "    <tr style=\"text-align: right;\">\n",
              "      <th></th>\n",
              "      <th>temperatura</th>\n",
              "      <th>classification</th>\n",
              "    </tr>\n",
              "    <tr>\n",
              "      <th>date</th>\n",
              "      <th></th>\n",
              "      <th></th>\n",
              "    </tr>\n",
              "  </thead>\n",
              "  <tbody>\n",
              "    <tr>\n",
              "      <th>2020-01-01</th>\n",
              "      <td>29.1</td>\n",
              "      <td>quente</td>\n",
              "    </tr>\n",
              "    <tr>\n",
              "      <th>2020-02-01</th>\n",
              "      <td>31.2</td>\n",
              "      <td>muito quente</td>\n",
              "    </tr>\n",
              "    <tr>\n",
              "      <th>2020-03-01</th>\n",
              "      <td>28.5</td>\n",
              "      <td>quente</td>\n",
              "    </tr>\n",
              "    <tr>\n",
              "      <th>2020-04-01</th>\n",
              "      <td>28.0</td>\n",
              "      <td>quente</td>\n",
              "    </tr>\n",
              "    <tr>\n",
              "      <th>2020-05-01</th>\n",
              "      <td>24.0</td>\n",
              "      <td>confortavel</td>\n",
              "    </tr>\n",
              "  </tbody>\n",
              "</table>\n",
              "</div>"
            ],
            "text/plain": [
              "            temperatura classification\n",
              "date                                  \n",
              "2020-01-01         29.1         quente\n",
              "2020-02-01         31.2   muito quente\n",
              "2020-03-01         28.5         quente\n",
              "2020-04-01         28.0         quente\n",
              "2020-05-01         24.0    confortavel"
            ]
          },
          "metadata": {
            "tags": []
          },
          "execution_count": 44
        }
      ]
    },
    {
      "cell_type": "code",
      "metadata": {
        "id": "oZqnYBJEuyvi",
        "outputId": "45ff174a-7749-4084-98d1-196199e7ac42",
        "colab": {
          "base_uri": "https://localhost:8080/",
          "height": 204
        }
      },
      "source": [
        "# indexação booleana\n",
        "# seleção de exemplos acima de 25 graus\n",
        "cond = df['temperatura'] >= 25\n",
        "df[cond]"
      ],
      "execution_count": null,
      "outputs": [
        {
          "output_type": "execute_result",
          "data": {
            "text/html": [
              "<div>\n",
              "<style scoped>\n",
              "    .dataframe tbody tr th:only-of-type {\n",
              "        vertical-align: middle;\n",
              "    }\n",
              "\n",
              "    .dataframe tbody tr th {\n",
              "        vertical-align: top;\n",
              "    }\n",
              "\n",
              "    .dataframe thead th {\n",
              "        text-align: right;\n",
              "    }\n",
              "</style>\n",
              "<table border=\"1\" class=\"dataframe\">\n",
              "  <thead>\n",
              "    <tr style=\"text-align: right;\">\n",
              "      <th></th>\n",
              "      <th>temperatura</th>\n",
              "      <th>classification</th>\n",
              "    </tr>\n",
              "    <tr>\n",
              "      <th>date</th>\n",
              "      <th></th>\n",
              "      <th></th>\n",
              "    </tr>\n",
              "  </thead>\n",
              "  <tbody>\n",
              "    <tr>\n",
              "      <th>2020-01-01</th>\n",
              "      <td>29.1</td>\n",
              "      <td>quente</td>\n",
              "    </tr>\n",
              "    <tr>\n",
              "      <th>2020-02-01</th>\n",
              "      <td>31.2</td>\n",
              "      <td>muito quente</td>\n",
              "    </tr>\n",
              "    <tr>\n",
              "      <th>2020-03-01</th>\n",
              "      <td>28.5</td>\n",
              "      <td>quente</td>\n",
              "    </tr>\n",
              "    <tr>\n",
              "      <th>2020-04-01</th>\n",
              "      <td>28.0</td>\n",
              "      <td>quente</td>\n",
              "    </tr>\n",
              "  </tbody>\n",
              "</table>\n",
              "</div>"
            ],
            "text/plain": [
              "            temperatura classification\n",
              "date                                  \n",
              "2020-01-01         29.1         quente\n",
              "2020-02-01         31.2   muito quente\n",
              "2020-03-01         28.5         quente\n",
              "2020-04-01         28.0         quente"
            ]
          },
          "metadata": {
            "tags": []
          },
          "execution_count": 48
        }
      ]
    },
    {
      "cell_type": "code",
      "metadata": {
        "id": "mhoVwQLJu2wP",
        "outputId": "88a40388-99d7-4ae1-8745-8829ff6b18c4",
        "colab": {
          "base_uri": "https://localhost:8080/",
          "height": 173
        }
      },
      "source": [
        "# indexação booleana considerando datetime\n",
        "# seleção de entradas até Março de 2020\n",
        "cond = df.index <= '2020-03-01'\n",
        "df[cond]"
      ],
      "execution_count": null,
      "outputs": [
        {
          "output_type": "execute_result",
          "data": {
            "text/html": [
              "<div>\n",
              "<style scoped>\n",
              "    .dataframe tbody tr th:only-of-type {\n",
              "        vertical-align: middle;\n",
              "    }\n",
              "\n",
              "    .dataframe tbody tr th {\n",
              "        vertical-align: top;\n",
              "    }\n",
              "\n",
              "    .dataframe thead th {\n",
              "        text-align: right;\n",
              "    }\n",
              "</style>\n",
              "<table border=\"1\" class=\"dataframe\">\n",
              "  <thead>\n",
              "    <tr style=\"text-align: right;\">\n",
              "      <th></th>\n",
              "      <th>temperatura</th>\n",
              "      <th>classification</th>\n",
              "    </tr>\n",
              "    <tr>\n",
              "      <th>date</th>\n",
              "      <th></th>\n",
              "      <th></th>\n",
              "    </tr>\n",
              "  </thead>\n",
              "  <tbody>\n",
              "    <tr>\n",
              "      <th>2020-01-01</th>\n",
              "      <td>29.1</td>\n",
              "      <td>quente</td>\n",
              "    </tr>\n",
              "    <tr>\n",
              "      <th>2020-02-01</th>\n",
              "      <td>31.2</td>\n",
              "      <td>muito quente</td>\n",
              "    </tr>\n",
              "    <tr>\n",
              "      <th>2020-03-01</th>\n",
              "      <td>28.5</td>\n",
              "      <td>quente</td>\n",
              "    </tr>\n",
              "  </tbody>\n",
              "</table>\n",
              "</div>"
            ],
            "text/plain": [
              "            temperatura classification\n",
              "date                                  \n",
              "2020-01-01         29.1         quente\n",
              "2020-02-01         31.2   muito quente\n",
              "2020-03-01         28.5         quente"
            ]
          },
          "metadata": {
            "tags": []
          },
          "execution_count": 51
        }
      ]
    },
    {
      "cell_type": "code",
      "metadata": {
        "id": "bLqqKCCDu6bu",
        "outputId": "629955f5-1e9c-4ab5-9e6d-ab92df22349c",
        "colab": {
          "base_uri": "https://localhost:8080/",
          "height": 173
        }
      },
      "source": [
        "# indexação booleana considerando datetime\n",
        "# seleção de entradas até Março de 2020 e \n",
        "# slice na coluna classification\n",
        "df.loc[df.index <= '2020-03-01', ['classification']]"
      ],
      "execution_count": null,
      "outputs": [
        {
          "output_type": "execute_result",
          "data": {
            "text/html": [
              "<div>\n",
              "<style scoped>\n",
              "    .dataframe tbody tr th:only-of-type {\n",
              "        vertical-align: middle;\n",
              "    }\n",
              "\n",
              "    .dataframe tbody tr th {\n",
              "        vertical-align: top;\n",
              "    }\n",
              "\n",
              "    .dataframe thead th {\n",
              "        text-align: right;\n",
              "    }\n",
              "</style>\n",
              "<table border=\"1\" class=\"dataframe\">\n",
              "  <thead>\n",
              "    <tr style=\"text-align: right;\">\n",
              "      <th></th>\n",
              "      <th>classification</th>\n",
              "    </tr>\n",
              "    <tr>\n",
              "      <th>date</th>\n",
              "      <th></th>\n",
              "    </tr>\n",
              "  </thead>\n",
              "  <tbody>\n",
              "    <tr>\n",
              "      <th>2020-01-01</th>\n",
              "      <td>quente</td>\n",
              "    </tr>\n",
              "    <tr>\n",
              "      <th>2020-02-01</th>\n",
              "      <td>muito quente</td>\n",
              "    </tr>\n",
              "    <tr>\n",
              "      <th>2020-03-01</th>\n",
              "      <td>quente</td>\n",
              "    </tr>\n",
              "  </tbody>\n",
              "</table>\n",
              "</div>"
            ],
            "text/plain": [
              "           classification\n",
              "date                     \n",
              "2020-01-01         quente\n",
              "2020-02-01   muito quente\n",
              "2020-03-01         quente"
            ]
          },
          "metadata": {
            "tags": []
          },
          "execution_count": 52
        }
      ]
    },
    {
      "cell_type": "code",
      "metadata": {
        "id": "PB3ZZ-qLu84Z",
        "outputId": "1b1faa2d-5e7e-4352-bd8a-fe521a41cac1",
        "colab": {
          "base_uri": "https://localhost:8080/",
          "height": 173
        }
      },
      "source": [
        "# indexação booleana considerando datetime\n",
        "# seleção de entradas até Março de 2020 e \n",
        "# slice na coluna classification\n",
        "df.iloc[df.index <= '2020-03-01', [-1]]"
      ],
      "execution_count": null,
      "outputs": [
        {
          "output_type": "execute_result",
          "data": {
            "text/html": [
              "<div>\n",
              "<style scoped>\n",
              "    .dataframe tbody tr th:only-of-type {\n",
              "        vertical-align: middle;\n",
              "    }\n",
              "\n",
              "    .dataframe tbody tr th {\n",
              "        vertical-align: top;\n",
              "    }\n",
              "\n",
              "    .dataframe thead th {\n",
              "        text-align: right;\n",
              "    }\n",
              "</style>\n",
              "<table border=\"1\" class=\"dataframe\">\n",
              "  <thead>\n",
              "    <tr style=\"text-align: right;\">\n",
              "      <th></th>\n",
              "      <th>classification</th>\n",
              "    </tr>\n",
              "    <tr>\n",
              "      <th>date</th>\n",
              "      <th></th>\n",
              "    </tr>\n",
              "  </thead>\n",
              "  <tbody>\n",
              "    <tr>\n",
              "      <th>2020-01-01</th>\n",
              "      <td>quente</td>\n",
              "    </tr>\n",
              "    <tr>\n",
              "      <th>2020-02-01</th>\n",
              "      <td>muito quente</td>\n",
              "    </tr>\n",
              "    <tr>\n",
              "      <th>2020-03-01</th>\n",
              "      <td>quente</td>\n",
              "    </tr>\n",
              "  </tbody>\n",
              "</table>\n",
              "</div>"
            ],
            "text/plain": [
              "           classification\n",
              "date                     \n",
              "2020-01-01         quente\n",
              "2020-02-01   muito quente\n",
              "2020-03-01         quente"
            ]
          },
          "metadata": {
            "tags": []
          },
          "execution_count": 53
        }
      ]
    },
    {
      "cell_type": "markdown",
      "metadata": {
        "id": "0sJc-R3uvEwU"
      },
      "source": [
        "### **Ordenação**"
      ]
    },
    {
      "cell_type": "code",
      "metadata": {
        "id": "Q7FqE0WNvKGd",
        "outputId": "a332bc3b-f81f-47c2-bd7a-1ba7f1367bdb",
        "colab": {
          "base_uri": "https://localhost:8080/",
          "height": 266
        }
      },
      "source": [
        "# df.sort_values\n",
        "df"
      ],
      "execution_count": null,
      "outputs": [
        {
          "output_type": "execute_result",
          "data": {
            "text/html": [
              "<div>\n",
              "<style scoped>\n",
              "    .dataframe tbody tr th:only-of-type {\n",
              "        vertical-align: middle;\n",
              "    }\n",
              "\n",
              "    .dataframe tbody tr th {\n",
              "        vertical-align: top;\n",
              "    }\n",
              "\n",
              "    .dataframe thead th {\n",
              "        text-align: right;\n",
              "    }\n",
              "</style>\n",
              "<table border=\"1\" class=\"dataframe\">\n",
              "  <thead>\n",
              "    <tr style=\"text-align: right;\">\n",
              "      <th></th>\n",
              "      <th>temperatura</th>\n",
              "      <th>classification</th>\n",
              "    </tr>\n",
              "    <tr>\n",
              "      <th>date</th>\n",
              "      <th></th>\n",
              "      <th></th>\n",
              "    </tr>\n",
              "  </thead>\n",
              "  <tbody>\n",
              "    <tr>\n",
              "      <th>2020-01-01</th>\n",
              "      <td>29.1</td>\n",
              "      <td>quente</td>\n",
              "    </tr>\n",
              "    <tr>\n",
              "      <th>2020-02-01</th>\n",
              "      <td>31.2</td>\n",
              "      <td>muito quente</td>\n",
              "    </tr>\n",
              "    <tr>\n",
              "      <th>2020-03-01</th>\n",
              "      <td>28.5</td>\n",
              "      <td>quente</td>\n",
              "    </tr>\n",
              "    <tr>\n",
              "      <th>2020-04-01</th>\n",
              "      <td>28.0</td>\n",
              "      <td>quente</td>\n",
              "    </tr>\n",
              "    <tr>\n",
              "      <th>2020-05-01</th>\n",
              "      <td>24.0</td>\n",
              "      <td>confortavel</td>\n",
              "    </tr>\n",
              "    <tr>\n",
              "      <th>2020-06-01</th>\n",
              "      <td>20.0</td>\n",
              "      <td>frio</td>\n",
              "    </tr>\n",
              "  </tbody>\n",
              "</table>\n",
              "</div>"
            ],
            "text/plain": [
              "            temperatura classification\n",
              "date                                  \n",
              "2020-01-01         29.1         quente\n",
              "2020-02-01         31.2   muito quente\n",
              "2020-03-01         28.5         quente\n",
              "2020-04-01         28.0         quente\n",
              "2020-05-01         24.0    confortavel\n",
              "2020-06-01         20.0           frio"
            ]
          },
          "metadata": {
            "tags": []
          },
          "execution_count": 21
        }
      ]
    },
    {
      "cell_type": "code",
      "metadata": {
        "id": "gUdLqE_PvigB",
        "outputId": "068625af-6672-4397-bae8-b1e668458d6b",
        "colab": {
          "base_uri": "https://localhost:8080/",
          "height": 266
        }
      },
      "source": [
        "# ordenação crescente por uma coluna\n",
        "df.sort_values(by='temperatura')"
      ],
      "execution_count": null,
      "outputs": [
        {
          "output_type": "execute_result",
          "data": {
            "text/html": [
              "<div>\n",
              "<style scoped>\n",
              "    .dataframe tbody tr th:only-of-type {\n",
              "        vertical-align: middle;\n",
              "    }\n",
              "\n",
              "    .dataframe tbody tr th {\n",
              "        vertical-align: top;\n",
              "    }\n",
              "\n",
              "    .dataframe thead th {\n",
              "        text-align: right;\n",
              "    }\n",
              "</style>\n",
              "<table border=\"1\" class=\"dataframe\">\n",
              "  <thead>\n",
              "    <tr style=\"text-align: right;\">\n",
              "      <th></th>\n",
              "      <th>temperatura</th>\n",
              "      <th>classification</th>\n",
              "    </tr>\n",
              "    <tr>\n",
              "      <th>date</th>\n",
              "      <th></th>\n",
              "      <th></th>\n",
              "    </tr>\n",
              "  </thead>\n",
              "  <tbody>\n",
              "    <tr>\n",
              "      <th>2020-06-01</th>\n",
              "      <td>20.0</td>\n",
              "      <td>frio</td>\n",
              "    </tr>\n",
              "    <tr>\n",
              "      <th>2020-05-01</th>\n",
              "      <td>24.0</td>\n",
              "      <td>confortavel</td>\n",
              "    </tr>\n",
              "    <tr>\n",
              "      <th>2020-04-01</th>\n",
              "      <td>28.0</td>\n",
              "      <td>quente</td>\n",
              "    </tr>\n",
              "    <tr>\n",
              "      <th>2020-03-01</th>\n",
              "      <td>28.5</td>\n",
              "      <td>quente</td>\n",
              "    </tr>\n",
              "    <tr>\n",
              "      <th>2020-01-01</th>\n",
              "      <td>29.1</td>\n",
              "      <td>quente</td>\n",
              "    </tr>\n",
              "    <tr>\n",
              "      <th>2020-02-01</th>\n",
              "      <td>31.2</td>\n",
              "      <td>muito quente</td>\n",
              "    </tr>\n",
              "  </tbody>\n",
              "</table>\n",
              "</div>"
            ],
            "text/plain": [
              "            temperatura classification\n",
              "date                                  \n",
              "2020-06-01         20.0           frio\n",
              "2020-05-01         24.0    confortavel\n",
              "2020-04-01         28.0         quente\n",
              "2020-03-01         28.5         quente\n",
              "2020-01-01         29.1         quente\n",
              "2020-02-01         31.2   muito quente"
            ]
          },
          "metadata": {
            "tags": []
          },
          "execution_count": 22
        }
      ]
    },
    {
      "cell_type": "code",
      "metadata": {
        "id": "6HOyiWOvQ_VB",
        "outputId": "66e6fd9a-b66a-4fb0-b08a-9a418d8dea97",
        "colab": {
          "base_uri": "https://localhost:8080/",
          "height": 266
        }
      },
      "source": [
        "# ordenação crescente por uma coluna\n",
        "df.sort_values(by='classification')"
      ],
      "execution_count": null,
      "outputs": [
        {
          "output_type": "execute_result",
          "data": {
            "text/html": [
              "<div>\n",
              "<style scoped>\n",
              "    .dataframe tbody tr th:only-of-type {\n",
              "        vertical-align: middle;\n",
              "    }\n",
              "\n",
              "    .dataframe tbody tr th {\n",
              "        vertical-align: top;\n",
              "    }\n",
              "\n",
              "    .dataframe thead th {\n",
              "        text-align: right;\n",
              "    }\n",
              "</style>\n",
              "<table border=\"1\" class=\"dataframe\">\n",
              "  <thead>\n",
              "    <tr style=\"text-align: right;\">\n",
              "      <th></th>\n",
              "      <th>temperatura</th>\n",
              "      <th>classification</th>\n",
              "    </tr>\n",
              "    <tr>\n",
              "      <th>date</th>\n",
              "      <th></th>\n",
              "      <th></th>\n",
              "    </tr>\n",
              "  </thead>\n",
              "  <tbody>\n",
              "    <tr>\n",
              "      <th>2020-05-01</th>\n",
              "      <td>24.0</td>\n",
              "      <td>confortavel</td>\n",
              "    </tr>\n",
              "    <tr>\n",
              "      <th>2020-06-01</th>\n",
              "      <td>20.0</td>\n",
              "      <td>frio</td>\n",
              "    </tr>\n",
              "    <tr>\n",
              "      <th>2020-02-01</th>\n",
              "      <td>31.2</td>\n",
              "      <td>muito quente</td>\n",
              "    </tr>\n",
              "    <tr>\n",
              "      <th>2020-01-01</th>\n",
              "      <td>29.1</td>\n",
              "      <td>quente</td>\n",
              "    </tr>\n",
              "    <tr>\n",
              "      <th>2020-03-01</th>\n",
              "      <td>28.5</td>\n",
              "      <td>quente</td>\n",
              "    </tr>\n",
              "    <tr>\n",
              "      <th>2020-04-01</th>\n",
              "      <td>28.0</td>\n",
              "      <td>quente</td>\n",
              "    </tr>\n",
              "  </tbody>\n",
              "</table>\n",
              "</div>"
            ],
            "text/plain": [
              "            temperatura classification\n",
              "date                                  \n",
              "2020-05-01         24.0    confortavel\n",
              "2020-06-01         20.0           frio\n",
              "2020-02-01         31.2   muito quente\n",
              "2020-01-01         29.1         quente\n",
              "2020-03-01         28.5         quente\n",
              "2020-04-01         28.0         quente"
            ]
          },
          "metadata": {
            "tags": []
          },
          "execution_count": 23
        }
      ]
    },
    {
      "cell_type": "code",
      "metadata": {
        "id": "Xxy50lOsQ3Fq",
        "outputId": "b32c6179-94aa-416c-9826-adfcb2a50c72",
        "colab": {
          "base_uri": "https://localhost:8080/",
          "height": 266
        }
      },
      "source": [
        "# ordenação crescente por mais de uma coluna\n",
        "df.sort_values(by=['classification', 'temperatura'])"
      ],
      "execution_count": null,
      "outputs": [
        {
          "output_type": "execute_result",
          "data": {
            "text/html": [
              "<div>\n",
              "<style scoped>\n",
              "    .dataframe tbody tr th:only-of-type {\n",
              "        vertical-align: middle;\n",
              "    }\n",
              "\n",
              "    .dataframe tbody tr th {\n",
              "        vertical-align: top;\n",
              "    }\n",
              "\n",
              "    .dataframe thead th {\n",
              "        text-align: right;\n",
              "    }\n",
              "</style>\n",
              "<table border=\"1\" class=\"dataframe\">\n",
              "  <thead>\n",
              "    <tr style=\"text-align: right;\">\n",
              "      <th></th>\n",
              "      <th>temperatura</th>\n",
              "      <th>classification</th>\n",
              "    </tr>\n",
              "    <tr>\n",
              "      <th>date</th>\n",
              "      <th></th>\n",
              "      <th></th>\n",
              "    </tr>\n",
              "  </thead>\n",
              "  <tbody>\n",
              "    <tr>\n",
              "      <th>2020-05-01</th>\n",
              "      <td>24.0</td>\n",
              "      <td>confortavel</td>\n",
              "    </tr>\n",
              "    <tr>\n",
              "      <th>2020-06-01</th>\n",
              "      <td>20.0</td>\n",
              "      <td>frio</td>\n",
              "    </tr>\n",
              "    <tr>\n",
              "      <th>2020-02-01</th>\n",
              "      <td>31.2</td>\n",
              "      <td>muito quente</td>\n",
              "    </tr>\n",
              "    <tr>\n",
              "      <th>2020-04-01</th>\n",
              "      <td>28.0</td>\n",
              "      <td>quente</td>\n",
              "    </tr>\n",
              "    <tr>\n",
              "      <th>2020-03-01</th>\n",
              "      <td>28.5</td>\n",
              "      <td>quente</td>\n",
              "    </tr>\n",
              "    <tr>\n",
              "      <th>2020-01-01</th>\n",
              "      <td>29.1</td>\n",
              "      <td>quente</td>\n",
              "    </tr>\n",
              "  </tbody>\n",
              "</table>\n",
              "</div>"
            ],
            "text/plain": [
              "            temperatura classification\n",
              "date                                  \n",
              "2020-05-01         24.0    confortavel\n",
              "2020-06-01         20.0           frio\n",
              "2020-02-01         31.2   muito quente\n",
              "2020-04-01         28.0         quente\n",
              "2020-03-01         28.5         quente\n",
              "2020-01-01         29.1         quente"
            ]
          },
          "metadata": {
            "tags": []
          },
          "execution_count": 24
        }
      ]
    },
    {
      "cell_type": "code",
      "metadata": {
        "id": "P7gLEKNEvpfb",
        "outputId": "092b7117-90b6-4d74-f03b-3783736d5866",
        "colab": {
          "base_uri": "https://localhost:8080/",
          "height": 266
        }
      },
      "source": [
        "# ordenação decrescente por uma coluna\n",
        "df.sort_values(by=['classification', 'temperatura'], ascending=False)"
      ],
      "execution_count": null,
      "outputs": [
        {
          "output_type": "execute_result",
          "data": {
            "text/html": [
              "<div>\n",
              "<style scoped>\n",
              "    .dataframe tbody tr th:only-of-type {\n",
              "        vertical-align: middle;\n",
              "    }\n",
              "\n",
              "    .dataframe tbody tr th {\n",
              "        vertical-align: top;\n",
              "    }\n",
              "\n",
              "    .dataframe thead th {\n",
              "        text-align: right;\n",
              "    }\n",
              "</style>\n",
              "<table border=\"1\" class=\"dataframe\">\n",
              "  <thead>\n",
              "    <tr style=\"text-align: right;\">\n",
              "      <th></th>\n",
              "      <th>temperatura</th>\n",
              "      <th>classification</th>\n",
              "    </tr>\n",
              "    <tr>\n",
              "      <th>date</th>\n",
              "      <th></th>\n",
              "      <th></th>\n",
              "    </tr>\n",
              "  </thead>\n",
              "  <tbody>\n",
              "    <tr>\n",
              "      <th>2020-01-01</th>\n",
              "      <td>29.1</td>\n",
              "      <td>quente</td>\n",
              "    </tr>\n",
              "    <tr>\n",
              "      <th>2020-03-01</th>\n",
              "      <td>28.5</td>\n",
              "      <td>quente</td>\n",
              "    </tr>\n",
              "    <tr>\n",
              "      <th>2020-04-01</th>\n",
              "      <td>28.0</td>\n",
              "      <td>quente</td>\n",
              "    </tr>\n",
              "    <tr>\n",
              "      <th>2020-02-01</th>\n",
              "      <td>31.2</td>\n",
              "      <td>muito quente</td>\n",
              "    </tr>\n",
              "    <tr>\n",
              "      <th>2020-06-01</th>\n",
              "      <td>20.0</td>\n",
              "      <td>frio</td>\n",
              "    </tr>\n",
              "    <tr>\n",
              "      <th>2020-05-01</th>\n",
              "      <td>24.0</td>\n",
              "      <td>confortavel</td>\n",
              "    </tr>\n",
              "  </tbody>\n",
              "</table>\n",
              "</div>"
            ],
            "text/plain": [
              "            temperatura classification\n",
              "date                                  \n",
              "2020-01-01         29.1         quente\n",
              "2020-03-01         28.5         quente\n",
              "2020-04-01         28.0         quente\n",
              "2020-02-01         31.2   muito quente\n",
              "2020-06-01         20.0           frio\n",
              "2020-05-01         24.0    confortavel"
            ]
          },
          "metadata": {
            "tags": []
          },
          "execution_count": 26
        }
      ]
    },
    {
      "cell_type": "code",
      "metadata": {
        "id": "xQz2ONYJvyv-",
        "outputId": "2b0546c2-301d-4fa1-a9ad-d8fb358706ef",
        "colab": {
          "base_uri": "https://localhost:8080/",
          "height": 266
        }
      },
      "source": [
        "# ordenação crescente pelo índice\n",
        "df.sort_index()"
      ],
      "execution_count": null,
      "outputs": [
        {
          "output_type": "execute_result",
          "data": {
            "text/html": [
              "<div>\n",
              "<style scoped>\n",
              "    .dataframe tbody tr th:only-of-type {\n",
              "        vertical-align: middle;\n",
              "    }\n",
              "\n",
              "    .dataframe tbody tr th {\n",
              "        vertical-align: top;\n",
              "    }\n",
              "\n",
              "    .dataframe thead th {\n",
              "        text-align: right;\n",
              "    }\n",
              "</style>\n",
              "<table border=\"1\" class=\"dataframe\">\n",
              "  <thead>\n",
              "    <tr style=\"text-align: right;\">\n",
              "      <th></th>\n",
              "      <th>temperatura</th>\n",
              "      <th>classification</th>\n",
              "    </tr>\n",
              "    <tr>\n",
              "      <th>date</th>\n",
              "      <th></th>\n",
              "      <th></th>\n",
              "    </tr>\n",
              "  </thead>\n",
              "  <tbody>\n",
              "    <tr>\n",
              "      <th>2020-01-01</th>\n",
              "      <td>29.1</td>\n",
              "      <td>quente</td>\n",
              "    </tr>\n",
              "    <tr>\n",
              "      <th>2020-02-01</th>\n",
              "      <td>31.2</td>\n",
              "      <td>muito quente</td>\n",
              "    </tr>\n",
              "    <tr>\n",
              "      <th>2020-03-01</th>\n",
              "      <td>28.5</td>\n",
              "      <td>quente</td>\n",
              "    </tr>\n",
              "    <tr>\n",
              "      <th>2020-04-01</th>\n",
              "      <td>28.0</td>\n",
              "      <td>quente</td>\n",
              "    </tr>\n",
              "    <tr>\n",
              "      <th>2020-05-01</th>\n",
              "      <td>24.0</td>\n",
              "      <td>confortavel</td>\n",
              "    </tr>\n",
              "    <tr>\n",
              "      <th>2020-06-01</th>\n",
              "      <td>20.0</td>\n",
              "      <td>frio</td>\n",
              "    </tr>\n",
              "  </tbody>\n",
              "</table>\n",
              "</div>"
            ],
            "text/plain": [
              "            temperatura classification\n",
              "date                                  \n",
              "2020-01-01         29.1         quente\n",
              "2020-02-01         31.2   muito quente\n",
              "2020-03-01         28.5         quente\n",
              "2020-04-01         28.0         quente\n",
              "2020-05-01         24.0    confortavel\n",
              "2020-06-01         20.0           frio"
            ]
          },
          "metadata": {
            "tags": []
          },
          "execution_count": 27
        }
      ]
    },
    {
      "cell_type": "code",
      "metadata": {
        "id": "NXSBvENCv3PW",
        "outputId": "07727121-fc19-41b0-f1d5-b8d4004f523a",
        "colab": {
          "base_uri": "https://localhost:8080/",
          "height": 266
        }
      },
      "source": [
        "# ordenação decrescente pelo índice\n",
        "df.sort_index(ascending=False)"
      ],
      "execution_count": null,
      "outputs": [
        {
          "output_type": "execute_result",
          "data": {
            "text/html": [
              "<div>\n",
              "<style scoped>\n",
              "    .dataframe tbody tr th:only-of-type {\n",
              "        vertical-align: middle;\n",
              "    }\n",
              "\n",
              "    .dataframe tbody tr th {\n",
              "        vertical-align: top;\n",
              "    }\n",
              "\n",
              "    .dataframe thead th {\n",
              "        text-align: right;\n",
              "    }\n",
              "</style>\n",
              "<table border=\"1\" class=\"dataframe\">\n",
              "  <thead>\n",
              "    <tr style=\"text-align: right;\">\n",
              "      <th></th>\n",
              "      <th>temperatura</th>\n",
              "      <th>classification</th>\n",
              "    </tr>\n",
              "    <tr>\n",
              "      <th>date</th>\n",
              "      <th></th>\n",
              "      <th></th>\n",
              "    </tr>\n",
              "  </thead>\n",
              "  <tbody>\n",
              "    <tr>\n",
              "      <th>2020-06-01</th>\n",
              "      <td>20.0</td>\n",
              "      <td>frio</td>\n",
              "    </tr>\n",
              "    <tr>\n",
              "      <th>2020-05-01</th>\n",
              "      <td>24.0</td>\n",
              "      <td>confortavel</td>\n",
              "    </tr>\n",
              "    <tr>\n",
              "      <th>2020-04-01</th>\n",
              "      <td>28.0</td>\n",
              "      <td>quente</td>\n",
              "    </tr>\n",
              "    <tr>\n",
              "      <th>2020-03-01</th>\n",
              "      <td>28.5</td>\n",
              "      <td>quente</td>\n",
              "    </tr>\n",
              "    <tr>\n",
              "      <th>2020-02-01</th>\n",
              "      <td>31.2</td>\n",
              "      <td>muito quente</td>\n",
              "    </tr>\n",
              "    <tr>\n",
              "      <th>2020-01-01</th>\n",
              "      <td>29.1</td>\n",
              "      <td>quente</td>\n",
              "    </tr>\n",
              "  </tbody>\n",
              "</table>\n",
              "</div>"
            ],
            "text/plain": [
              "            temperatura classification\n",
              "date                                  \n",
              "2020-06-01         20.0           frio\n",
              "2020-05-01         24.0    confortavel\n",
              "2020-04-01         28.0         quente\n",
              "2020-03-01         28.5         quente\n",
              "2020-02-01         31.2   muito quente\n",
              "2020-01-01         29.1         quente"
            ]
          },
          "metadata": {
            "tags": []
          },
          "execution_count": 28
        }
      ]
    },
    {
      "cell_type": "markdown",
      "metadata": {
        "id": "sjlWCwS_ycmt"
      },
      "source": [
        "### **Visualização**"
      ]
    },
    {
      "cell_type": "code",
      "metadata": {
        "id": "Kc4SHEckVTzo",
        "outputId": "86cf981d-e595-49f8-a6f0-6f543b1ee9ec",
        "colab": {
          "base_uri": "https://localhost:8080/",
          "height": 291
        }
      },
      "source": [
        "# plot de linhas\n",
        "df.plot();"
      ],
      "execution_count": null,
      "outputs": [
        {
          "output_type": "display_data",
          "data": {
            "image/png": "[encoded data removed]",
            "text/plain": [
              "<Figure size 432x288 with 1 Axes>"
            ]
          },
          "metadata": {
            "tags": [],
            "needs_background": "light"
          }
        }
      ]
    },
    {
      "cell_type": "code",
      "metadata": {
        "id": "7f134FdaX1ws",
        "outputId": "80923d4d-c614-496e-a29e-ce4c4650c73b",
        "colab": {
          "base_uri": "https://localhost:8080/",
          "height": 345
        }
      },
      "source": [
        "# plot de linhas: tamanho\n",
        "df.plot(figsize=(10, 5));"
      ],
      "execution_count": null,
      "outputs": [
        {
          "output_type": "display_data",
          "data": {
            "image/png": "[encoded data removed]",
            "text/plain": [
              "<Figure size 720x360 with 1 Axes>"
            ]
          },
          "metadata": {
            "tags": [],
            "needs_background": "light"
          }
        }
      ]
    },
    {
      "cell_type": "code",
      "metadata": {
        "id": "KW7H1RMCYCgC",
        "outputId": "d25f0150-6a9e-42b2-a60c-278fcbeecd61",
        "colab": {
          "base_uri": "https://localhost:8080/",
          "height": 345
        }
      },
      "source": [
        "# plot de linhas: grid\n",
        "df.plot(figsize=(10, 5), grid=True);"
      ],
      "execution_count": null,
      "outputs": [
        {
          "output_type": "display_data",
          "data": {
            "image/png": "[encoded data removed]",
            "text/plain": [
              "<Figure size 720x360 with 1 Axes>"
            ]
          },
          "metadata": {
            "tags": [],
            "needs_background": "light"
          }
        }
      ]
    },
    {
      "cell_type": "code",
      "metadata": {
        "id": "8zUMF1OvygdZ",
        "outputId": "3e4e53e4-9c85-46b1-cbfe-8b84e4238111",
        "colab": {
          "base_uri": "https://localhost:8080/",
          "height": 345
        }
      },
      "source": [
        "# plot de linhas: style\n",
        "df.plot(style='-o', figsize=(10, 5), grid=True);\n",
        "# df.plot(style='--', figsize=(10, 5), grid=True);\n",
        "# df.plot(style='-.', figsize=(10, 5), grid=True);"
      ],
      "execution_count": null,
      "outputs": [
        {
          "output_type": "display_data",
          "data": {
            "image/png": "[encoded data removed]",
            "text/plain": [
              "<Figure size 720x360 with 1 Axes>"
            ]
          },
          "metadata": {
            "tags": [],
            "needs_background": "light"
          }
        }
      ]
    },
    {
      "cell_type": "code",
      "metadata": {
        "id": "-vMPaxaLYSkK",
        "outputId": "a8a423d7-7523-438c-8216-e88ae000fcee",
        "colab": {
          "base_uri": "https://localhost:8080/",
          "height": 345
        }
      },
      "source": [
        "# plot de linhas: linewidth\n",
        "df.plot(style='-o', linewidth=2, figsize=(10, 5), grid=True);"
      ],
      "execution_count": null,
      "outputs": [
        {
          "output_type": "display_data",
          "data": {
            "image/png": "[encoded data removed]",
            "text/plain": [
              "<Figure size 720x360 with 1 Axes>"
            ]
          },
          "metadata": {
            "tags": [],
            "needs_background": "light"
          }
        }
      ]
    },
    {
      "cell_type": "code",
      "metadata": {
        "id": "kONqALFXY9oZ",
        "outputId": "eb7aa2b7-8f28-4e43-a48d-9235fb4dfd65",
        "colab": {
          "base_uri": "https://localhost:8080/",
          "height": 345
        }
      },
      "source": [
        "# plot de linhas: color\n",
        "df.plot(style='-o', linewidth=2.5, color='red', figsize=(10, 5), grid=True);"
      ],
      "execution_count": null,
      "outputs": [
        {
          "output_type": "display_data",
          "data": {
            "image/png": "[encoded data removed]",
            "text/plain": [
              "<Figure size 720x360 with 1 Axes>"
            ]
          },
          "metadata": {
            "tags": [],
            "needs_background": "light"
          }
        }
      ]
    },
    {
      "cell_type": "code",
      "metadata": {
        "id": "eIgIZnZ2Ye_x",
        "outputId": "3e04e3fb-8b02-49d1-eb2a-b8a8326921c0",
        "colab": {
          "base_uri": "https://localhost:8080/",
          "height": 345
        }
      },
      "source": [
        "# plot de linhas: color\n",
        "df.plot(style='-o', linewidth=2.5, color='#822fb5', figsize=(10, 5), grid=True);"
      ],
      "execution_count": null,
      "outputs": [
        {
          "output_type": "display_data",
          "data": {
            "image/png": "[encoded data removed]",
            "text/plain": [
              "<Figure size 720x360 with 1 Axes>"
            ]
          },
          "metadata": {
            "tags": [],
            "needs_background": "light"
          }
        }
      ]
    },
    {
      "cell_type": "code",
      "metadata": {
        "id": "Zk6vTv8HdRmz",
        "outputId": "4db06723-1473-460c-ee64-fde0f0790ced",
        "colab": {
          "base_uri": "https://localhost:8080/",
          "height": 266
        }
      },
      "source": [
        "df"
      ],
      "execution_count": null,
      "outputs": [
        {
          "output_type": "execute_result",
          "data": {
            "text/html": [
              "<div>\n",
              "<style scoped>\n",
              "    .dataframe tbody tr th:only-of-type {\n",
              "        vertical-align: middle;\n",
              "    }\n",
              "\n",
              "    .dataframe tbody tr th {\n",
              "        vertical-align: top;\n",
              "    }\n",
              "\n",
              "    .dataframe thead th {\n",
              "        text-align: right;\n",
              "    }\n",
              "</style>\n",
              "<table border=\"1\" class=\"dataframe\">\n",
              "  <thead>\n",
              "    <tr style=\"text-align: right;\">\n",
              "      <th></th>\n",
              "      <th>temperatura</th>\n",
              "      <th>classification</th>\n",
              "    </tr>\n",
              "    <tr>\n",
              "      <th>date</th>\n",
              "      <th></th>\n",
              "      <th></th>\n",
              "    </tr>\n",
              "  </thead>\n",
              "  <tbody>\n",
              "    <tr>\n",
              "      <th>2020-01-01</th>\n",
              "      <td>29.1</td>\n",
              "      <td>quente</td>\n",
              "    </tr>\n",
              "    <tr>\n",
              "      <th>2020-02-01</th>\n",
              "      <td>31.2</td>\n",
              "      <td>muito quente</td>\n",
              "    </tr>\n",
              "    <tr>\n",
              "      <th>2020-03-01</th>\n",
              "      <td>28.5</td>\n",
              "      <td>quente</td>\n",
              "    </tr>\n",
              "    <tr>\n",
              "      <th>2020-04-01</th>\n",
              "      <td>28.0</td>\n",
              "      <td>quente</td>\n",
              "    </tr>\n",
              "    <tr>\n",
              "      <th>2020-05-01</th>\n",
              "      <td>24.0</td>\n",
              "      <td>confortavel</td>\n",
              "    </tr>\n",
              "    <tr>\n",
              "      <th>2020-06-01</th>\n",
              "      <td>20.0</td>\n",
              "      <td>frio</td>\n",
              "    </tr>\n",
              "  </tbody>\n",
              "</table>\n",
              "</div>"
            ],
            "text/plain": [
              "            temperatura classification\n",
              "date                                  \n",
              "2020-01-01         29.1         quente\n",
              "2020-02-01         31.2   muito quente\n",
              "2020-03-01         28.5         quente\n",
              "2020-04-01         28.0         quente\n",
              "2020-05-01         24.0    confortavel\n",
              "2020-06-01         20.0           frio"
            ]
          },
          "metadata": {
            "tags": []
          },
          "execution_count": 90
        }
      ]
    },
    {
      "cell_type": "code",
      "metadata": {
        "id": "vGohI5T50tBf",
        "outputId": "40bb317b-fd13-4ead-c662-8778545ce68e",
        "colab": {
          "base_uri": "https://localhost:8080/",
          "height": 320
        }
      },
      "source": [
        "# plot de barras\n",
        "df['classification'].value_counts().plot.bar(figsize=(10, 5),\n",
        "                                             rot=0);"
      ],
      "execution_count": null,
      "outputs": [
        {
          "output_type": "display_data",
          "data": {
            "image/png": "[encoded data removed]",
            "text/plain": [
              "<Figure size 720x360 with 1 Axes>"
            ]
          },
          "metadata": {
            "tags": [],
            "needs_background": "light"
          }
        }
      ]
    },
    {
      "cell_type": "code",
      "metadata": {
        "id": "gsz3n6CTy1W-",
        "outputId": "7db6cf9d-66b6-43ad-be60-33ba83133bea",
        "colab": {
          "base_uri": "https://localhost:8080/",
          "height": 385
        }
      },
      "source": [
        "# plot de barras\n",
        "df.plot(kind='bar', figsize=(10, 5), rot=30);"
      ],
      "execution_count": null,
      "outputs": [
        {
          "output_type": "display_data",
          "data": {
            "image/png": "[encoded data removed]",
            "text/plain": [
              "<Figure size 720x360 with 1 Axes>"
            ]
          },
          "metadata": {
            "tags": [],
            "needs_background": "light"
          }
        }
      ]
    },
    {
      "cell_type": "code",
      "metadata": {
        "id": "1T12zZNW03AS",
        "outputId": "d3ddca96-5d35-4452-cbce-7d7dfeb345c3",
        "colab": {
          "base_uri": "https://localhost:8080/",
          "height": 411
        }
      },
      "source": [
        "# pie plot\n",
        "df['classification'].value_counts().plot.pie(autopct='%1.1f%%',\n",
        "                                             shadow=True,\n",
        "                                             figsize=(10, 7));"
      ],
      "execution_count": null,
      "outputs": [
        {
          "output_type": "display_data",
          "data": {
            "image/png": "[encoded data removed]",
            "text/plain": [
              "<Figure size 720x504 with 1 Axes>"
            ]
          },
          "metadata": {
            "tags": []
          }
        }
      ]
    },
    {
      "cell_type": "markdown",
      "metadata": {
        "id": "aZUFrYst7YWb"
      },
      "source": [
        "### **Outras operações úteis no pandas**"
      ]
    },
    {
      "cell_type": "code",
      "metadata": {
        "id": "w05p6hO17wTE",
        "outputId": "c0f9996a-58ac-4824-881a-3a9624340cbc",
        "colab": {
          "base_uri": "https://localhost:8080/",
          "height": 235
        }
      },
      "source": [
        "# dataframe\n",
        "df.head(6)"
      ],
      "execution_count": null,
      "outputs": [
        {
          "output_type": "execute_result",
          "data": {
            "text/html": [
              "<div>\n",
              "<style scoped>\n",
              "    .dataframe tbody tr th:only-of-type {\n",
              "        vertical-align: middle;\n",
              "    }\n",
              "\n",
              "    .dataframe tbody tr th {\n",
              "        vertical-align: top;\n",
              "    }\n",
              "\n",
              "    .dataframe thead th {\n",
              "        text-align: right;\n",
              "    }\n",
              "</style>\n",
              "<table border=\"1\" class=\"dataframe\">\n",
              "  <thead>\n",
              "    <tr style=\"text-align: right;\">\n",
              "      <th></th>\n",
              "      <th>date</th>\n",
              "      <th>temperatura</th>\n",
              "      <th>classification</th>\n",
              "    </tr>\n",
              "  </thead>\n",
              "  <tbody>\n",
              "    <tr>\n",
              "      <th>0</th>\n",
              "      <td>2020-01-01</td>\n",
              "      <td>29.1</td>\n",
              "      <td>quente</td>\n",
              "    </tr>\n",
              "    <tr>\n",
              "      <th>1</th>\n",
              "      <td>2020-02-01</td>\n",
              "      <td>31.2</td>\n",
              "      <td>muito quente</td>\n",
              "    </tr>\n",
              "    <tr>\n",
              "      <th>2</th>\n",
              "      <td>2020-03-01</td>\n",
              "      <td>28.5</td>\n",
              "      <td>quente</td>\n",
              "    </tr>\n",
              "    <tr>\n",
              "      <th>3</th>\n",
              "      <td>2020-04-01</td>\n",
              "      <td>28.0</td>\n",
              "      <td>quente</td>\n",
              "    </tr>\n",
              "    <tr>\n",
              "      <th>4</th>\n",
              "      <td>2020-05-01</td>\n",
              "      <td>24.0</td>\n",
              "      <td>confortavel</td>\n",
              "    </tr>\n",
              "    <tr>\n",
              "      <th>5</th>\n",
              "      <td>2020-06-01</td>\n",
              "      <td>20.0</td>\n",
              "      <td>frio</td>\n",
              "    </tr>\n",
              "  </tbody>\n",
              "</table>\n",
              "</div>"
            ],
            "text/plain": [
              "         date  temperatura classification\n",
              "0  2020-01-01         29.1         quente\n",
              "1  2020-02-01         31.2   muito quente\n",
              "2  2020-03-01         28.5         quente\n",
              "3  2020-04-01         28.0         quente\n",
              "4  2020-05-01         24.0    confortavel\n",
              "5  2020-06-01         20.0           frio"
            ]
          },
          "metadata": {
            "tags": []
          },
          "execution_count": 135
        }
      ]
    },
    {
      "cell_type": "code",
      "metadata": {
        "id": "eSULlalQ79M7",
        "outputId": "5a6457dc-5025-46dc-84d5-13fd86d127db",
        "colab": {
          "base_uri": "https://localhost:8080/",
          "height": 35
        }
      },
      "source": [
        "# groupby: agrupamento por valores únicos de uma ou mais colunas\n",
        "df.groupby(by='classification')"
      ],
      "execution_count": null,
      "outputs": [
        {
          "output_type": "execute_result",
          "data": {
            "text/plain": [
              "<pandas.core.groupby.generic.DataFrameGroupBy object at 0x7fad0045fd68>"
            ]
          },
          "metadata": {
            "tags": []
          },
          "execution_count": 136
        }
      ]
    },
    {
      "cell_type": "code",
      "metadata": {
        "id": "ZNq-dHV57d3m",
        "outputId": "1a4d5f46-8894-49ad-a389-69f383c1c7ea",
        "colab": {
          "base_uri": "https://localhost:8080/",
          "height": 204
        }
      },
      "source": [
        "# groupby: agrupamento por valores únicos de uma ou mais colunas\n",
        "df.groupby(by='classification').mean()"
      ],
      "execution_count": null,
      "outputs": [
        {
          "output_type": "execute_result",
          "data": {
            "text/html": [
              "<div>\n",
              "<style scoped>\n",
              "    .dataframe tbody tr th:only-of-type {\n",
              "        vertical-align: middle;\n",
              "    }\n",
              "\n",
              "    .dataframe tbody tr th {\n",
              "        vertical-align: top;\n",
              "    }\n",
              "\n",
              "    .dataframe thead th {\n",
              "        text-align: right;\n",
              "    }\n",
              "</style>\n",
              "<table border=\"1\" class=\"dataframe\">\n",
              "  <thead>\n",
              "    <tr style=\"text-align: right;\">\n",
              "      <th></th>\n",
              "      <th>temperatura</th>\n",
              "    </tr>\n",
              "    <tr>\n",
              "      <th>classification</th>\n",
              "      <th></th>\n",
              "    </tr>\n",
              "  </thead>\n",
              "  <tbody>\n",
              "    <tr>\n",
              "      <th>confortavel</th>\n",
              "      <td>24.000000</td>\n",
              "    </tr>\n",
              "    <tr>\n",
              "      <th>frio</th>\n",
              "      <td>20.000000</td>\n",
              "    </tr>\n",
              "    <tr>\n",
              "      <th>muito quente</th>\n",
              "      <td>31.200000</td>\n",
              "    </tr>\n",
              "    <tr>\n",
              "      <th>quente</th>\n",
              "      <td>28.533333</td>\n",
              "    </tr>\n",
              "  </tbody>\n",
              "</table>\n",
              "</div>"
            ],
            "text/plain": [
              "                temperatura\n",
              "classification             \n",
              "confortavel       24.000000\n",
              "frio              20.000000\n",
              "muito quente      31.200000\n",
              "quente            28.533333"
            ]
          },
          "metadata": {
            "tags": []
          },
          "execution_count": 137
        }
      ]
    },
    {
      "cell_type": "code",
      "metadata": {
        "id": "pLwXeO2F73id",
        "outputId": "82a9a7ee-5833-4103-e79a-6812bc0dce42",
        "colab": {
          "base_uri": "https://localhost:8080/",
          "height": 204
        }
      },
      "source": [
        "# groupby: agrupamento por valores únicos de uma ou mais colunas\n",
        "df.groupby(by='classification').sum()"
      ],
      "execution_count": null,
      "outputs": [
        {
          "output_type": "execute_result",
          "data": {
            "text/html": [
              "<div>\n",
              "<style scoped>\n",
              "    .dataframe tbody tr th:only-of-type {\n",
              "        vertical-align: middle;\n",
              "    }\n",
              "\n",
              "    .dataframe tbody tr th {\n",
              "        vertical-align: top;\n",
              "    }\n",
              "\n",
              "    .dataframe thead th {\n",
              "        text-align: right;\n",
              "    }\n",
              "</style>\n",
              "<table border=\"1\" class=\"dataframe\">\n",
              "  <thead>\n",
              "    <tr style=\"text-align: right;\">\n",
              "      <th></th>\n",
              "      <th>temperatura</th>\n",
              "    </tr>\n",
              "    <tr>\n",
              "      <th>classification</th>\n",
              "      <th></th>\n",
              "    </tr>\n",
              "  </thead>\n",
              "  <tbody>\n",
              "    <tr>\n",
              "      <th>confortavel</th>\n",
              "      <td>24.0</td>\n",
              "    </tr>\n",
              "    <tr>\n",
              "      <th>frio</th>\n",
              "      <td>20.0</td>\n",
              "    </tr>\n",
              "    <tr>\n",
              "      <th>muito quente</th>\n",
              "      <td>31.2</td>\n",
              "    </tr>\n",
              "    <tr>\n",
              "      <th>quente</th>\n",
              "      <td>85.6</td>\n",
              "    </tr>\n",
              "  </tbody>\n",
              "</table>\n",
              "</div>"
            ],
            "text/plain": [
              "                temperatura\n",
              "classification             \n",
              "confortavel            24.0\n",
              "frio                   20.0\n",
              "muito quente           31.2\n",
              "quente                 85.6"
            ]
          },
          "metadata": {
            "tags": []
          },
          "execution_count": 138
        }
      ]
    },
    {
      "cell_type": "code",
      "metadata": {
        "id": "wkqq85JF8pb3",
        "outputId": "12dfa693-044e-491c-a808-83147b51e5cc",
        "colab": {
          "base_uri": "https://localhost:8080/",
          "height": 235
        }
      },
      "source": [
        "# drop: remoção de uma coluna\n",
        "df.drop('temperatura', axis=1)"
      ],
      "execution_count": null,
      "outputs": [
        {
          "output_type": "execute_result",
          "data": {
            "text/html": [
              "<div>\n",
              "<style scoped>\n",
              "    .dataframe tbody tr th:only-of-type {\n",
              "        vertical-align: middle;\n",
              "    }\n",
              "\n",
              "    .dataframe tbody tr th {\n",
              "        vertical-align: top;\n",
              "    }\n",
              "\n",
              "    .dataframe thead th {\n",
              "        text-align: right;\n",
              "    }\n",
              "</style>\n",
              "<table border=\"1\" class=\"dataframe\">\n",
              "  <thead>\n",
              "    <tr style=\"text-align: right;\">\n",
              "      <th></th>\n",
              "      <th>date</th>\n",
              "      <th>classification</th>\n",
              "    </tr>\n",
              "  </thead>\n",
              "  <tbody>\n",
              "    <tr>\n",
              "      <th>0</th>\n",
              "      <td>2020-01-01</td>\n",
              "      <td>quente</td>\n",
              "    </tr>\n",
              "    <tr>\n",
              "      <th>1</th>\n",
              "      <td>2020-02-01</td>\n",
              "      <td>muito quente</td>\n",
              "    </tr>\n",
              "    <tr>\n",
              "      <th>2</th>\n",
              "      <td>2020-03-01</td>\n",
              "      <td>quente</td>\n",
              "    </tr>\n",
              "    <tr>\n",
              "      <th>3</th>\n",
              "      <td>2020-04-01</td>\n",
              "      <td>quente</td>\n",
              "    </tr>\n",
              "    <tr>\n",
              "      <th>4</th>\n",
              "      <td>2020-05-01</td>\n",
              "      <td>confortavel</td>\n",
              "    </tr>\n",
              "    <tr>\n",
              "      <th>5</th>\n",
              "      <td>2020-06-01</td>\n",
              "      <td>frio</td>\n",
              "    </tr>\n",
              "  </tbody>\n",
              "</table>\n",
              "</div>"
            ],
            "text/plain": [
              "         date classification\n",
              "0  2020-01-01         quente\n",
              "1  2020-02-01   muito quente\n",
              "2  2020-03-01         quente\n",
              "3  2020-04-01         quente\n",
              "4  2020-05-01    confortavel\n",
              "5  2020-06-01           frio"
            ]
          },
          "metadata": {
            "tags": []
          },
          "execution_count": 139
        }
      ]
    },
    {
      "cell_type": "code",
      "metadata": {
        "id": "KXQ_dikvnAff",
        "outputId": "20b6c896-a662-4500-8ac0-8444e473fed0",
        "colab": {
          "base_uri": "https://localhost:8080/",
          "height": 235
        }
      },
      "source": [
        "df"
      ],
      "execution_count": null,
      "outputs": [
        {
          "output_type": "execute_result",
          "data": {
            "text/html": [
              "<div>\n",
              "<style scoped>\n",
              "    .dataframe tbody tr th:only-of-type {\n",
              "        vertical-align: middle;\n",
              "    }\n",
              "\n",
              "    .dataframe tbody tr th {\n",
              "        vertical-align: top;\n",
              "    }\n",
              "\n",
              "    .dataframe thead th {\n",
              "        text-align: right;\n",
              "    }\n",
              "</style>\n",
              "<table border=\"1\" class=\"dataframe\">\n",
              "  <thead>\n",
              "    <tr style=\"text-align: right;\">\n",
              "      <th></th>\n",
              "      <th>date</th>\n",
              "      <th>temperatura</th>\n",
              "      <th>classification</th>\n",
              "    </tr>\n",
              "  </thead>\n",
              "  <tbody>\n",
              "    <tr>\n",
              "      <th>0</th>\n",
              "      <td>2020-01-01</td>\n",
              "      <td>29.1</td>\n",
              "      <td>quente</td>\n",
              "    </tr>\n",
              "    <tr>\n",
              "      <th>1</th>\n",
              "      <td>2020-02-01</td>\n",
              "      <td>31.2</td>\n",
              "      <td>muito quente</td>\n",
              "    </tr>\n",
              "    <tr>\n",
              "      <th>2</th>\n",
              "      <td>2020-03-01</td>\n",
              "      <td>28.5</td>\n",
              "      <td>quente</td>\n",
              "    </tr>\n",
              "    <tr>\n",
              "      <th>3</th>\n",
              "      <td>2020-04-01</td>\n",
              "      <td>28.0</td>\n",
              "      <td>quente</td>\n",
              "    </tr>\n",
              "    <tr>\n",
              "      <th>4</th>\n",
              "      <td>2020-05-01</td>\n",
              "      <td>24.0</td>\n",
              "      <td>confortavel</td>\n",
              "    </tr>\n",
              "    <tr>\n",
              "      <th>5</th>\n",
              "      <td>2020-06-01</td>\n",
              "      <td>20.0</td>\n",
              "      <td>frio</td>\n",
              "    </tr>\n",
              "  </tbody>\n",
              "</table>\n",
              "</div>"
            ],
            "text/plain": [
              "         date  temperatura classification\n",
              "0  2020-01-01         29.1         quente\n",
              "1  2020-02-01         31.2   muito quente\n",
              "2  2020-03-01         28.5         quente\n",
              "3  2020-04-01         28.0         quente\n",
              "4  2020-05-01         24.0    confortavel\n",
              "5  2020-06-01         20.0           frio"
            ]
          },
          "metadata": {
            "tags": []
          },
          "execution_count": 140
        }
      ]
    },
    {
      "cell_type": "code",
      "metadata": {
        "id": "olsUSu1w9FKQ"
      },
      "source": [
        "# cópia de um dataframe: evita compartilhamento de memória\n",
        "# sem copy(), operações inplace em df2 também alteram df\n",
        "# df2 = df.copy() \n",
        "df2 = df"
      ],
      "execution_count": null,
      "outputs": []
    },
    {
      "cell_type": "code",
      "metadata": {
        "id": "dBsx7tjb80WA"
      },
      "source": [
        "# argumento inplace\n",
        "# inplace=True aplica a transformação no próprio objeto\n",
        "df3 = df2.drop(\"temperatura\", axis=1)"
      ],
      "execution_count": null,
      "outputs": []
    },
    {
      "cell_type": "code",
      "metadata": {
        "id": "zmYjdq0B9WFi",
        "outputId": "1bea5368-953a-42e2-b878-8ccaea51298a",
        "colab": {
          "base_uri": "https://localhost:8080/",
          "height": 204
        }
      },
      "source": [
        "# sem inplace, df2 continua o mesmo\n",
        "df3.head()"
      ],
      "execution_count": null,
      "outputs": [
        {
          "output_type": "execute_result",
          "data": {
            "text/html": [
              "<div>\n",
              "<style scoped>\n",
              "    .dataframe tbody tr th:only-of-type {\n",
              "        vertical-align: middle;\n",
              "    }\n",
              "\n",
              "    .dataframe tbody tr th {\n",
              "        vertical-align: top;\n",
              "    }\n",
              "\n",
              "    .dataframe thead th {\n",
              "        text-align: right;\n",
              "    }\n",
              "</style>\n",
              "<table border=\"1\" class=\"dataframe\">\n",
              "  <thead>\n",
              "    <tr style=\"text-align: right;\">\n",
              "      <th></th>\n",
              "      <th>date</th>\n",
              "      <th>classification</th>\n",
              "    </tr>\n",
              "  </thead>\n",
              "  <tbody>\n",
              "    <tr>\n",
              "      <th>0</th>\n",
              "      <td>2020-01-01</td>\n",
              "      <td>quente</td>\n",
              "    </tr>\n",
              "    <tr>\n",
              "      <th>1</th>\n",
              "      <td>2020-02-01</td>\n",
              "      <td>muito quente</td>\n",
              "    </tr>\n",
              "    <tr>\n",
              "      <th>2</th>\n",
              "      <td>2020-03-01</td>\n",
              "      <td>quente</td>\n",
              "    </tr>\n",
              "    <tr>\n",
              "      <th>3</th>\n",
              "      <td>2020-04-01</td>\n",
              "      <td>quente</td>\n",
              "    </tr>\n",
              "    <tr>\n",
              "      <th>4</th>\n",
              "      <td>2020-05-01</td>\n",
              "      <td>confortavel</td>\n",
              "    </tr>\n",
              "  </tbody>\n",
              "</table>\n",
              "</div>"
            ],
            "text/plain": [
              "         date classification\n",
              "0  2020-01-01         quente\n",
              "1  2020-02-01   muito quente\n",
              "2  2020-03-01         quente\n",
              "3  2020-04-01         quente\n",
              "4  2020-05-01    confortavel"
            ]
          },
          "metadata": {
            "tags": []
          },
          "execution_count": 145
        }
      ]
    },
    {
      "cell_type": "code",
      "metadata": {
        "id": "XHAEEuei9jsY"
      },
      "source": [
        "# argumento inplace\n",
        "# inplace=True aplica a transformação no próprio objeto\n",
        "df2.drop(\"temperatura\", axis=1, inplace=True)"
      ],
      "execution_count": null,
      "outputs": []
    },
    {
      "cell_type": "code",
      "metadata": {
        "id": "U2_TboJ89oBA",
        "outputId": "c4d7cce5-95cc-4b7a-930e-2f6b4a700874",
        "colab": {
          "base_uri": "https://localhost:8080/",
          "height": 204
        }
      },
      "source": [
        "# com inplace, df2 é alterado\n",
        "df2.head()"
      ],
      "execution_count": null,
      "outputs": [
        {
          "output_type": "execute_result",
          "data": {
            "text/html": [
              "<div>\n",
              "<style scoped>\n",
              "    .dataframe tbody tr th:only-of-type {\n",
              "        vertical-align: middle;\n",
              "    }\n",
              "\n",
              "    .dataframe tbody tr th {\n",
              "        vertical-align: top;\n",
              "    }\n",
              "\n",
              "    .dataframe thead th {\n",
              "        text-align: right;\n",
              "    }\n",
              "</style>\n",
              "<table border=\"1\" class=\"dataframe\">\n",
              "  <thead>\n",
              "    <tr style=\"text-align: right;\">\n",
              "      <th></th>\n",
              "      <th>date</th>\n",
              "      <th>classification</th>\n",
              "    </tr>\n",
              "  </thead>\n",
              "  <tbody>\n",
              "    <tr>\n",
              "      <th>0</th>\n",
              "      <td>2020-01-01</td>\n",
              "      <td>quente</td>\n",
              "    </tr>\n",
              "    <tr>\n",
              "      <th>1</th>\n",
              "      <td>2020-02-01</td>\n",
              "      <td>muito quente</td>\n",
              "    </tr>\n",
              "    <tr>\n",
              "      <th>2</th>\n",
              "      <td>2020-03-01</td>\n",
              "      <td>quente</td>\n",
              "    </tr>\n",
              "    <tr>\n",
              "      <th>3</th>\n",
              "      <td>2020-04-01</td>\n",
              "      <td>quente</td>\n",
              "    </tr>\n",
              "    <tr>\n",
              "      <th>4</th>\n",
              "      <td>2020-05-01</td>\n",
              "      <td>confortavel</td>\n",
              "    </tr>\n",
              "  </tbody>\n",
              "</table>\n",
              "</div>"
            ],
            "text/plain": [
              "         date classification\n",
              "0  2020-01-01         quente\n",
              "1  2020-02-01   muito quente\n",
              "2  2020-03-01         quente\n",
              "3  2020-04-01         quente\n",
              "4  2020-05-01    confortavel"
            ]
          },
          "metadata": {
            "tags": []
          },
          "execution_count": 151
        }
      ]
    },
    {
      "cell_type": "code",
      "metadata": {
        "id": "bG2efm6khpMS",
        "outputId": "66805ee1-db96-4050-b71f-eff80004ec72",
        "colab": {
          "base_uri": "https://localhost:8080/",
          "height": 204
        }
      },
      "source": [
        "# df\n",
        "df.head()"
      ],
      "execution_count": null,
      "outputs": [
        {
          "output_type": "execute_result",
          "data": {
            "text/html": [
              "<div>\n",
              "<style scoped>\n",
              "    .dataframe tbody tr th:only-of-type {\n",
              "        vertical-align: middle;\n",
              "    }\n",
              "\n",
              "    .dataframe tbody tr th {\n",
              "        vertical-align: top;\n",
              "    }\n",
              "\n",
              "    .dataframe thead th {\n",
              "        text-align: right;\n",
              "    }\n",
              "</style>\n",
              "<table border=\"1\" class=\"dataframe\">\n",
              "  <thead>\n",
              "    <tr style=\"text-align: right;\">\n",
              "      <th></th>\n",
              "      <th>date</th>\n",
              "      <th>classification</th>\n",
              "    </tr>\n",
              "  </thead>\n",
              "  <tbody>\n",
              "    <tr>\n",
              "      <th>0</th>\n",
              "      <td>2020-01-01</td>\n",
              "      <td>quente</td>\n",
              "    </tr>\n",
              "    <tr>\n",
              "      <th>1</th>\n",
              "      <td>2020-02-01</td>\n",
              "      <td>muito quente</td>\n",
              "    </tr>\n",
              "    <tr>\n",
              "      <th>2</th>\n",
              "      <td>2020-03-01</td>\n",
              "      <td>quente</td>\n",
              "    </tr>\n",
              "    <tr>\n",
              "      <th>3</th>\n",
              "      <td>2020-04-01</td>\n",
              "      <td>quente</td>\n",
              "    </tr>\n",
              "    <tr>\n",
              "      <th>4</th>\n",
              "      <td>2020-05-01</td>\n",
              "      <td>confortavel</td>\n",
              "    </tr>\n",
              "  </tbody>\n",
              "</table>\n",
              "</div>"
            ],
            "text/plain": [
              "         date classification\n",
              "0  2020-01-01         quente\n",
              "1  2020-02-01   muito quente\n",
              "2  2020-03-01         quente\n",
              "3  2020-04-01         quente\n",
              "4  2020-05-01    confortavel"
            ]
          },
          "metadata": {
            "tags": []
          },
          "execution_count": 152
        }
      ]
    },
    {
      "cell_type": "markdown",
      "metadata": {
        "id": "J8PmXTv0nnG9"
      },
      "source": [
        "## **Scikit-learn**"
      ]
    },
    {
      "cell_type": "markdown",
      "metadata": {
        "id": "_5O28yN93phC"
      },
      "source": [
        "### **Classificação no scikit-learn**"
      ]
    },
    {
      "cell_type": "code",
      "metadata": {
        "id": "TdYlunqkpXMP",
        "outputId": "f66b885b-9a47-45c4-bbd2-e87a70e6683f",
        "colab": {
          "base_uri": "https://localhost:8080/",
          "height": 266
        }
      },
      "source": [
        "df"
      ],
      "execution_count": null,
      "outputs": [
        {
          "output_type": "execute_result",
          "data": {
            "text/html": [
              "<div>\n",
              "<style scoped>\n",
              "    .dataframe tbody tr th:only-of-type {\n",
              "        vertical-align: middle;\n",
              "    }\n",
              "\n",
              "    .dataframe tbody tr th {\n",
              "        vertical-align: top;\n",
              "    }\n",
              "\n",
              "    .dataframe thead th {\n",
              "        text-align: right;\n",
              "    }\n",
              "</style>\n",
              "<table border=\"1\" class=\"dataframe\">\n",
              "  <thead>\n",
              "    <tr style=\"text-align: right;\">\n",
              "      <th></th>\n",
              "      <th>temperatura</th>\n",
              "      <th>classification</th>\n",
              "    </tr>\n",
              "    <tr>\n",
              "      <th>date</th>\n",
              "      <th></th>\n",
              "      <th></th>\n",
              "    </tr>\n",
              "  </thead>\n",
              "  <tbody>\n",
              "    <tr>\n",
              "      <th>2020-01-01</th>\n",
              "      <td>29.1</td>\n",
              "      <td>quente</td>\n",
              "    </tr>\n",
              "    <tr>\n",
              "      <th>2020-02-01</th>\n",
              "      <td>31.2</td>\n",
              "      <td>muito quente</td>\n",
              "    </tr>\n",
              "    <tr>\n",
              "      <th>2020-03-01</th>\n",
              "      <td>28.5</td>\n",
              "      <td>quente</td>\n",
              "    </tr>\n",
              "    <tr>\n",
              "      <th>2020-04-01</th>\n",
              "      <td>28.0</td>\n",
              "      <td>quente</td>\n",
              "    </tr>\n",
              "    <tr>\n",
              "      <th>2020-05-01</th>\n",
              "      <td>24.0</td>\n",
              "      <td>confortavel</td>\n",
              "    </tr>\n",
              "    <tr>\n",
              "      <th>2020-06-01</th>\n",
              "      <td>20.0</td>\n",
              "      <td>frio</td>\n",
              "    </tr>\n",
              "  </tbody>\n",
              "</table>\n",
              "</div>"
            ],
            "text/plain": [
              "            temperatura classification\n",
              "date                                  \n",
              "2020-01-01         29.1         quente\n",
              "2020-02-01         31.2   muito quente\n",
              "2020-03-01         28.5         quente\n",
              "2020-04-01         28.0         quente\n",
              "2020-05-01         24.0    confortavel\n",
              "2020-06-01         20.0           frio"
            ]
          },
          "metadata": {
            "tags": []
          },
          "execution_count": 197
        }
      ]
    },
    {
      "cell_type": "code",
      "metadata": {
        "id": "THBZz9mJw6u8",
        "outputId": "e255192b-70d9-40cd-f534-bd1a0bb893d0",
        "colab": {
          "base_uri": "https://localhost:8080/",
          "height": 269
        }
      },
      "source": [
        "# extração de x e y\n",
        "x, y = df[['temperatura']].values, df[['classification']].values\n",
        "print(\"x:\\n\", x)\n",
        "print(\"y:\\n\", y)"
      ],
      "execution_count": null,
      "outputs": [
        {
          "output_type": "stream",
          "text": [
            "x:\n",
            " [[29.1]\n",
            " [31.2]\n",
            " [28.5]\n",
            " [28. ]\n",
            " [24. ]\n",
            " [20. ]]\n",
            "y:\n",
            " [['quente']\n",
            " ['muito quente']\n",
            " ['quente']\n",
            " ['quente']\n",
            " ['confortavel']\n",
            " ['frio']]\n"
          ],
          "name": "stdout"
        }
      ]
    },
    {
      "cell_type": "code",
      "metadata": {
        "id": "R_lQuLB33tyK"
      },
      "source": [
        "# pré-processamento\n",
        "from sklearn.preprocessing import LabelEncoder"
      ],
      "execution_count": null,
      "outputs": []
    },
    {
      "cell_type": "code",
      "metadata": {
        "id": "xa8-1KSfpxaI"
      },
      "source": [
        "LabelEncoder?"
      ],
      "execution_count": null,
      "outputs": []
    },
    {
      "cell_type": "code",
      "metadata": {
        "id": "Wyaba5xK3vye",
        "outputId": "2a8e9140-5083-44cf-9b60-168021639e05",
        "colab": {
          "base_uri": "https://localhost:8080/",
          "height": 53
        }
      },
      "source": [
        "# conversão de y para valores numéricos\n",
        "le = LabelEncoder()  # label enconder\n",
        "y = le.fit_transform(y.ravel())\n",
        "print(\"y:\\n\", y)"
      ],
      "execution_count": null,
      "outputs": [
        {
          "output_type": "stream",
          "text": [
            "y:\n",
            " [3 2 3 3 0 1]\n"
          ],
          "name": "stdout"
        }
      ]
    },
    {
      "cell_type": "code",
      "metadata": {
        "id": "Ko6_zxRZ3xYW"
      },
      "source": [
        "# modelo\n",
        "from sklearn.linear_model import LogisticRegression"
      ],
      "execution_count": null,
      "outputs": []
    },
    {
      "cell_type": "code",
      "metadata": {
        "id": "06xNwo0d4CGy",
        "outputId": "c3f6cd5c-e8c8-4379-a72c-6075a0fa2fa8",
        "colab": {
          "base_uri": "https://localhost:8080/",
          "height": 107
        }
      },
      "source": [
        "# classificador\n",
        "clf = LogisticRegression()\n",
        "clf.fit(x, y)"
      ],
      "execution_count": null,
      "outputs": [
        {
          "output_type": "execute_result",
          "data": {
            "text/plain": [
              "LogisticRegression(C=1.0, class_weight=None, dual=False, fit_intercept=True,\n",
              "                   intercept_scaling=1, l1_ratio=None, max_iter=100,\n",
              "                   multi_class='auto', n_jobs=None, penalty='l2',\n",
              "                   random_state=None, solver='lbfgs', tol=0.0001, verbose=0,\n",
              "                   warm_start=False)"
            ]
          },
          "metadata": {
            "tags": []
          },
          "execution_count": 203
        }
      ]
    },
    {
      "cell_type": "code",
      "metadata": {
        "id": "ixg2gews4Fn5"
      },
      "source": [
        "# gerando 100 valores de temperatura\n",
        "# linearmente espaçados entre 0 e 45\n",
        "# predição em novos valores de temperatura\n",
        "x_test = np.linspace(start=0., stop=45., num=100).reshape(-1, 1)\n",
        "\n",
        "# predição desses valores\n",
        "y_pred = clf.predict(x_test)"
      ],
      "execution_count": null,
      "outputs": []
    },
    {
      "cell_type": "code",
      "metadata": {
        "id": "Frtax63f4Kkl",
        "outputId": "148871af-3c06-4fef-b930-9d30765a6664",
        "colab": {
          "base_uri": "https://localhost:8080/",
          "height": 71
        }
      },
      "source": [
        "print(y_pred)"
      ],
      "execution_count": null,
      "outputs": [
        {
          "output_type": "stream",
          "text": [
            "[1 1 1 1 1 1 1 1 1 1 1 1 1 1 1 1 1 1 1 1 1 1 1 1 1 1 1 1 1 1 1 1 1 1 1 1 1\n",
            " 1 1 1 1 1 1 1 1 1 1 1 1 1 0 0 0 0 0 0 3 3 3 3 3 3 3 3 3 3 3 3 2 2 2 2 2 2\n",
            " 2 2 2 2 2 2 2 2 2 2 2 2 2 2 2 2 2 2 2 2 2 2 2 2 2 2]\n"
          ],
          "name": "stdout"
        }
      ]
    },
    {
      "cell_type": "code",
      "metadata": {
        "id": "icEpsEJi4HaX"
      },
      "source": [
        "# conversão de y_pred para os valores originais\n",
        "y_pred = le.inverse_transform(y_pred)\n",
        "# print(y_pred)"
      ],
      "execution_count": null,
      "outputs": []
    },
    {
      "cell_type": "code",
      "metadata": {
        "id": "MzxLJVPR4JxM"
      },
      "source": [
        "# output\n",
        "output = {'new_temp': x_test.ravel(),\n",
        "         'new_class': y_pred.ravel()}\n",
        "output = pd.DataFrame(output)"
      ],
      "execution_count": null,
      "outputs": []
    },
    {
      "cell_type": "code",
      "metadata": {
        "id": "KLRJrXql4_47",
        "outputId": "f86445d3-8eb6-47df-f1b6-2e5d89cd85a5",
        "colab": {
          "base_uri": "https://localhost:8080/",
          "height": 204
        }
      },
      "source": [
        "output.tail()"
      ],
      "execution_count": null,
      "outputs": [
        {
          "output_type": "execute_result",
          "data": {
            "text/html": [
              "<div>\n",
              "<style scoped>\n",
              "    .dataframe tbody tr th:only-of-type {\n",
              "        vertical-align: middle;\n",
              "    }\n",
              "\n",
              "    .dataframe tbody tr th {\n",
              "        vertical-align: top;\n",
              "    }\n",
              "\n",
              "    .dataframe thead th {\n",
              "        text-align: right;\n",
              "    }\n",
              "</style>\n",
              "<table border=\"1\" class=\"dataframe\">\n",
              "  <thead>\n",
              "    <tr style=\"text-align: right;\">\n",
              "      <th></th>\n",
              "      <th>new_temp</th>\n",
              "      <th>new_class</th>\n",
              "    </tr>\n",
              "  </thead>\n",
              "  <tbody>\n",
              "    <tr>\n",
              "      <th>95</th>\n",
              "      <td>43.181818</td>\n",
              "      <td>muito quente</td>\n",
              "    </tr>\n",
              "    <tr>\n",
              "      <th>96</th>\n",
              "      <td>43.636364</td>\n",
              "      <td>muito quente</td>\n",
              "    </tr>\n",
              "    <tr>\n",
              "      <th>97</th>\n",
              "      <td>44.090909</td>\n",
              "      <td>muito quente</td>\n",
              "    </tr>\n",
              "    <tr>\n",
              "      <th>98</th>\n",
              "      <td>44.545455</td>\n",
              "      <td>muito quente</td>\n",
              "    </tr>\n",
              "    <tr>\n",
              "      <th>99</th>\n",
              "      <td>45.000000</td>\n",
              "      <td>muito quente</td>\n",
              "    </tr>\n",
              "  </tbody>\n",
              "</table>\n",
              "</div>"
            ],
            "text/plain": [
              "     new_temp     new_class\n",
              "95  43.181818  muito quente\n",
              "96  43.636364  muito quente\n",
              "97  44.090909  muito quente\n",
              "98  44.545455  muito quente\n",
              "99  45.000000  muito quente"
            ]
          },
          "metadata": {
            "tags": []
          },
          "execution_count": 211
        }
      ]
    },
    {
      "cell_type": "code",
      "metadata": {
        "id": "xG8FuGy24MgQ",
        "outputId": "3768c986-4830-4c8c-d19c-af9f63bbad16",
        "colab": {
          "base_uri": "https://localhost:8080/",
          "height": 179
        }
      },
      "source": [
        "# estatisticas\n",
        "output.info()"
      ],
      "execution_count": null,
      "outputs": [
        {
          "output_type": "stream",
          "text": [
            "<class 'pandas.core.frame.DataFrame'>\n",
            "RangeIndex: 100 entries, 0 to 99\n",
            "Data columns (total 2 columns):\n",
            " #   Column     Non-Null Count  Dtype  \n",
            "---  ------     --------------  -----  \n",
            " 0   new_temp   100 non-null    float64\n",
            " 1   new_class  100 non-null    object \n",
            "dtypes: float64(1), object(1)\n",
            "memory usage: 1.7+ KB\n"
          ],
          "name": "stdout"
        }
      ]
    },
    {
      "cell_type": "code",
      "metadata": {
        "id": "ZqxmxUom4N6w",
        "outputId": "751a0c63-bbd1-4ed0-e895-0e400fae14b9",
        "colab": {
          "base_uri": "https://localhost:8080/",
          "height": 297
        }
      },
      "source": [
        "# estatisticas\n",
        "output.describe()"
      ],
      "execution_count": null,
      "outputs": [
        {
          "output_type": "execute_result",
          "data": {
            "text/html": [
              "<div>\n",
              "<style scoped>\n",
              "    .dataframe tbody tr th:only-of-type {\n",
              "        vertical-align: middle;\n",
              "    }\n",
              "\n",
              "    .dataframe tbody tr th {\n",
              "        vertical-align: top;\n",
              "    }\n",
              "\n",
              "    .dataframe thead th {\n",
              "        text-align: right;\n",
              "    }\n",
              "</style>\n",
              "<table border=\"1\" class=\"dataframe\">\n",
              "  <thead>\n",
              "    <tr style=\"text-align: right;\">\n",
              "      <th></th>\n",
              "      <th>new_temp</th>\n",
              "    </tr>\n",
              "  </thead>\n",
              "  <tbody>\n",
              "    <tr>\n",
              "      <th>count</th>\n",
              "      <td>100.000000</td>\n",
              "    </tr>\n",
              "    <tr>\n",
              "      <th>mean</th>\n",
              "      <td>22.500000</td>\n",
              "    </tr>\n",
              "    <tr>\n",
              "      <th>std</th>\n",
              "      <td>13.187042</td>\n",
              "    </tr>\n",
              "    <tr>\n",
              "      <th>min</th>\n",
              "      <td>0.000000</td>\n",
              "    </tr>\n",
              "    <tr>\n",
              "      <th>25%</th>\n",
              "      <td>11.250000</td>\n",
              "    </tr>\n",
              "    <tr>\n",
              "      <th>50%</th>\n",
              "      <td>22.500000</td>\n",
              "    </tr>\n",
              "    <tr>\n",
              "      <th>75%</th>\n",
              "      <td>33.750000</td>\n",
              "    </tr>\n",
              "    <tr>\n",
              "      <th>max</th>\n",
              "      <td>45.000000</td>\n",
              "    </tr>\n",
              "  </tbody>\n",
              "</table>\n",
              "</div>"
            ],
            "text/plain": [
              "         new_temp\n",
              "count  100.000000\n",
              "mean    22.500000\n",
              "std     13.187042\n",
              "min      0.000000\n",
              "25%     11.250000\n",
              "50%     22.500000\n",
              "75%     33.750000\n",
              "max     45.000000"
            ]
          },
          "metadata": {
            "tags": []
          },
          "execution_count": 213
        }
      ]
    },
    {
      "cell_type": "code",
      "metadata": {
        "id": "VgHAbbTP4PJs",
        "outputId": "ffc0bc9b-db6c-43fa-e2f5-ffb88dd72cf4",
        "colab": {
          "base_uri": "https://localhost:8080/",
          "height": 336
        }
      },
      "source": [
        "# contagem de valores gerados\n",
        "output['new_class'].value_counts().plot.bar(figsize=(10, 5),\n",
        "                                            rot=0,\n",
        "                                            title=\"# de novos valores gerados\");"
      ],
      "execution_count": null,
      "outputs": [
        {
          "output_type": "display_data",
          "data": {
            "image/png": "[encoded data removed]",
            "text/plain": [
              "<Figure size 720x360 with 1 Axes>"
            ]
          },
          "metadata": {
            "tags": [],
            "needs_background": "light"
          }
        }
      ]
    },
    {
      "cell_type": "code",
      "metadata": {
        "id": "UWK6GzV04RpY",
        "outputId": "4f170539-b7dd-4a2f-c175-e30af25ff594",
        "colab": {
          "base_uri": "https://localhost:8080/",
          "height": 362
        }
      },
      "source": [
        "# distribuição do output produzido\n",
        "# conseguimos inferir a classificação novas temperaturas\n",
        "# a partir de um dataset com 6 exemplos\n",
        "output.boxplot(by='new_class', figsize=(10, 5));"
      ],
      "execution_count": null,
      "outputs": [
        {
          "output_type": "display_data",
          "data": {
            "image/png": "[encoded data removed]",
            "text/plain": [
              "<Figure size 720x360 with 1 Axes>"
            ]
          },
          "metadata": {
            "tags": [],
            "needs_background": "light"
          }
        }
      ]
    },
    {
      "cell_type": "code",
      "metadata": {
        "id": "KlNss4v9qlw-"
      },
      "source": [
        "# sistema automático\n",
        "def classify_temp():\n",
        "  \"\"\"Classifica o input do usuário.\"\"\"\n",
        "\n",
        "  ask = True\n",
        "  while ask:\n",
        "    # input de temperatura\n",
        "    temp = input(\"Insira a temperatura (graus Celsius): \")\n",
        "\n",
        "    # transformar para numpy array\n",
        "    temp = np.array(float(temp)).reshape(-1, 1)\n",
        "    \n",
        "    # realiza classificação\n",
        "    class_temp = clf.predict(temp)\n",
        "\n",
        "    # transformação inversa para retornar a string original\n",
        "    class_temp =  le.inverse_transform(class_temp)\n",
        "\n",
        "    # classificação\n",
        "    print(f\"A classificação da temperatura {temp.ravel()[0]} é:\", class_temp[0])\n",
        "\n",
        "    # perguntar\n",
        "    ask = input(\"Nova classificação (y/n): \") == 'y'"
      ],
      "execution_count": null,
      "outputs": []
    },
    {
      "cell_type": "code",
      "metadata": {
        "id": "YqHRWOfqrFyH",
        "outputId": "87b1bd9b-7eaa-4476-985d-b5358a6caf96",
        "colab": {
          "base_uri": "https://localhost:8080/",
          "height": 233
        }
      },
      "source": [
        "# rodando programa \n",
        "classify_temp()"
      ],
      "execution_count": null,
      "outputs": [
        {
          "output_type": "stream",
          "text": [
            "Insira a temperatura (graus Celsius): 5\n",
            "A classificação da temperatura 5.0 é: frio\n",
            "Nova classificação (y/n): y\n",
            "Insira a temperatura (graus Celsius): 22.5\n",
            "A classificação da temperatura 22.5 é: confortavel\n",
            "Nova classificação (y/n): y\n",
            "Insira a temperatura (graus Celsius): 27.111148\n",
            "A classificação da temperatura 27.111148 é: quente\n",
            "Nova classificação (y/n): y\n",
            "Insira a temperatura (graus Celsius): 55\n",
            "A classificação da temperatura 55.0 é: muito quente\n",
            "Nova classificação (y/n): n\n"
          ],
          "name": "stdout"
        }
      ]
    },
    {
      "cell_type": "markdown",
      "metadata": {
        "id": "zXYRe1uZ4Y3M"
      },
      "source": [
        "### **Regressão linear no scikit-learn - I**\n",
        "\n"
      ]
    },
    {
      "cell_type": "code",
      "metadata": {
        "id": "nVuf6gNN4THE"
      },
      "source": [
        "# dados do segundo capítulo\n",
        "x = [-1., -0.77777778, -0.55555556, -0.33333333, -0.11111111,\n",
        "     0.11111111, 0.33333333, 0.55555556, 0.77777778, 1.]\n",
        "y = [-1.13956201, -0.57177999, -0.21697033, 0.5425699, 0.49406657,\n",
        "     1.14972239, 1.64228553, 2.1749824, 2.64773614, 2.95684202]"
      ],
      "execution_count": null,
      "outputs": []
    },
    {
      "cell_type": "code",
      "metadata": {
        "id": "ExzD2e7e5qCl",
        "outputId": "34a9123d-b253-445f-eb17-7ec824ab2208",
        "colab": {
          "base_uri": "https://localhost:8080/",
          "height": 334
        }
      },
      "source": [
        "# plot dos dados\n",
        "plt.figure(figsize=(10, 5))\n",
        "plt.plot(x, y, 'o', label='dados originais')\n",
        "plt.legend()\n",
        "plt.xlabel(\"x\")\n",
        "plt.ylabel(\"y\")\n",
        "plt.grid()\n",
        "plt.show()"
      ],
      "execution_count": null,
      "outputs": [
        {
          "output_type": "display_data",
          "data": {
            "image/png": "[encoded data removed]",
            "text/plain": [
              "<Figure size 720x360 with 1 Axes>"
            ]
          },
          "metadata": {
            "tags": [],
            "needs_background": "light"
          }
        }
      ]
    },
    {
      "cell_type": "code",
      "metadata": {
        "id": "ANMu9pMX5SEN"
      },
      "source": [
        "# transformando em numpy array\n",
        "x, y = np.array(x).reshape(-1, 1), np.array(y).reshape(-1, 1)"
      ],
      "execution_count": null,
      "outputs": []
    },
    {
      "cell_type": "code",
      "metadata": {
        "id": "tVwybFtM44gR"
      },
      "source": [
        "# modelo\n",
        "from sklearn.linear_model import LinearRegression"
      ],
      "execution_count": null,
      "outputs": []
    },
    {
      "cell_type": "code",
      "metadata": {
        "id": "ZyZzrOhd5MiM",
        "outputId": "48254fbc-086f-4590-911a-f06969a7470d",
        "colab": {
          "base_uri": "https://localhost:8080/",
          "height": 35
        }
      },
      "source": [
        "# treinando o modelo: y = a*x + b, valores reais (a, b) = (2, 1)\n",
        "reg = LinearRegression()\n",
        "reg.fit(x, y)"
      ],
      "execution_count": null,
      "outputs": [
        {
          "output_type": "execute_result",
          "data": {
            "text/plain": [
              "LinearRegression(copy_X=True, fit_intercept=True, n_jobs=None, normalize=False)"
            ]
          },
          "metadata": {
            "tags": []
          },
          "execution_count": 222
        }
      ]
    },
    {
      "cell_type": "code",
      "metadata": {
        "id": "lCukYdH_53eF",
        "outputId": "508fe503-09eb-43b2-b3e0-d4bb61bf2426",
        "colab": {
          "base_uri": "https://localhost:8080/",
          "height": 53
        }
      },
      "source": [
        "# coeficientes a, b estimados:\n",
        "# valores estimados usando o numpy diretamente\n",
        "# a estimado no numpy: 2.05414951\n",
        "# b estimado no numpy: 0.96798926\n",
        "print(\"a estimado:\", reg.coef_.ravel()[0])\n",
        "print(\"b estimado:\", reg.intercept_[0])"
      ],
      "execution_count": null,
      "outputs": [
        {
          "output_type": "stream",
          "text": [
            "a estimado: 2.0541495120384856\n",
            "b estimado: 0.967989262\n"
          ],
          "name": "stdout"
        }
      ]
    },
    {
      "cell_type": "code",
      "metadata": {
        "id": "y3PoSALG5vIV"
      },
      "source": [
        "# predição do modelo\n",
        "y_pred = reg.predict(x)"
      ],
      "execution_count": null,
      "outputs": []
    },
    {
      "cell_type": "code",
      "metadata": {
        "id": "Hgkubn3D6ocw",
        "outputId": "8e6a6f2c-397b-4af4-d6d5-c28ff6840674",
        "colab": {
          "base_uri": "https://localhost:8080/",
          "height": 35
        }
      },
      "source": [
        "# score do modelo\n",
        "score = reg.score(x, y)\n",
        "print(\"score:\", score)"
      ],
      "execution_count": null,
      "outputs": [
        {
          "output_type": "stream",
          "text": [
            "score: 0.9911602676388084\n"
          ],
          "name": "stdout"
        }
      ]
    },
    {
      "cell_type": "code",
      "metadata": {
        "id": "Jwca7UQA5QYO",
        "outputId": "960d0237-9d2b-4d76-e360-7800d2650047",
        "colab": {
          "base_uri": "https://localhost:8080/",
          "height": 350
        }
      },
      "source": [
        "# plot dos dados\n",
        "plt.figure(figsize=(10, 5))\n",
        "plt.plot(x, y, 'o', label='dados originais')\n",
        "plt.plot(x, y_pred, label='regressão linear (R2: {:.3f})'.format(score))\n",
        "plt.legend()\n",
        "plt.xlabel(\"x\")\n",
        "plt.ylabel(\"y\")\n",
        "plt.title(\"Regressão linear no scikit-learn\")\n",
        "plt.grid()\n",
        "plt.show()"
      ],
      "execution_count": null,
      "outputs": [
        {
          "output_type": "display_data",
          "data": {
            "image/png": "[encoded data removed]",
            "text/plain": [
              "<Figure size 720x360 with 1 Axes>"
            ]
          },
          "metadata": {
            "tags": [],
            "needs_background": "light"
          }
        }
      ]
    },
    {
      "cell_type": "markdown",
      "metadata": {
        "id": "ECTpxDdC-6Bs"
      },
      "source": [
        "### **Regressão linear no scikit-learn - II**\n"
      ]
    },
    {
      "cell_type": "code",
      "metadata": {
        "id": "_CqpevpU50t7",
        "outputId": "bc1c1ea5-99cc-453b-b9cb-a0ef20b3e4b6",
        "colab": {
          "base_uri": "https://localhost:8080/",
          "height": 350
        }
      },
      "source": [
        "# plot dos dados\n",
        "plt.figure(figsize=(10, 5))\n",
        "plt.plot(x, y, 'o', label='dados originais')\n",
        "plt.plot(x, y_pred, label='regressão linear (R2: {:.4f})'.format(score))\n",
        "plt.hlines(y=y.mean(), xmin=x.min(), xmax=x.max(), linestyle='dashed',\n",
        "           label='Modelo de referência do $R^2$')\n",
        "plt.legend()\n",
        "plt.xlabel(\"x\")\n",
        "plt.ylabel(\"y\")\n",
        "plt.title(\"Regressão linear no scikit-learn\")\n",
        "plt.grid()\n",
        "plt.show()"
      ],
      "execution_count": null,
      "outputs": [
        {
          "output_type": "display_data",
          "data": {
            "image/png": "[encoded data removed]",
            "text/plain": [
              "<Figure size 720x360 with 1 Axes>"
            ]
          },
          "metadata": {
            "tags": [],
            "needs_background": "light"
          }
        }
      ]
    },
    {
      "cell_type": "markdown",
      "metadata": {
        "id": "mOxmlPL7Lj7A"
      },
      "source": [
        "O erro quadrático médio de um modelo de regressão é dado por:\n",
        "\n",
        "$$MSE_{reg} = \\frac{1}{n}\\sum_{i=1}^{n} (y_i - \\hat{y}_i)^2.$$\n",
        "\n",
        "O coeficiente de determinação $R^2$ representa o quão melhor um modelo é em relação a um modelo de referência que prevê sempre a média dos pontos, ou seja, o MSE do modelo de referência é dado por:\n",
        "\n",
        "$$MSE_{ref} = \\frac{1}{n}\\sum_{i=1}^{n} (y_i - \\bar{y})^2,$$\n",
        "\n",
        "onde $\\bar{y}$ representa a média do vetor $y$.\n",
        "\n",
        "Sendo assim:\n",
        "\n",
        "$$R^2 = 1 - \\frac{MSE_{reg}}{MSE_{ref}}$$"
      ]
    },
    {
      "cell_type": "code",
      "metadata": {
        "id": "7Wg8zsdmLitv"
      },
      "source": [
        "# função para cálculo do MSE\n",
        "def mse(y_true, y_pred, is_ref = False):\n",
        "\n",
        "  # mse modelo\n",
        "  if is_ref:\n",
        "    mse = ((y_true - y_true.mean())**2).mean()\n",
        "  else:\n",
        "    mse = ((y_true - y_pred)**2).mean()\n",
        "\n",
        "  return mse"
      ],
      "execution_count": null,
      "outputs": []
    },
    {
      "cell_type": "code",
      "metadata": {
        "id": "oLm3PiVe_CND"
      },
      "source": [
        "# função para cálculo do coeficiente de determinação R2\n",
        "def r2(mse_reg, mse_ref):\n",
        "  return 1 - mse_reg/mse_ref"
      ],
      "execution_count": null,
      "outputs": []
    },
    {
      "cell_type": "code",
      "metadata": {
        "id": "eLE-CsnrOXgs",
        "outputId": "b7729d00-d29d-4e5d-c949-cc527dca15ff",
        "colab": {
          "base_uri": "https://localhost:8080/",
          "height": 89
        }
      },
      "source": [
        "# visualizando y e y_pred\n",
        "print(\"y_true:\", y.ravel())\n",
        "print(\"y_pred:\", y_pred.ravel())"
      ],
      "execution_count": null,
      "outputs": [
        {
          "output_type": "stream",
          "text": [
            "y_true: [-1.13956201 -0.57177999 -0.21697033  0.5425699   0.49406657  1.14972239\n",
            "  1.64228553  2.1749824   2.64773614  2.95684202]\n",
            "y_pred: [-1.08616025 -0.62968259 -0.17320492  0.28327276  0.73975043  1.19622809\n",
            "  1.65270576  2.10918344  2.56566111  3.02213877]\n"
          ],
          "name": "stdout"
        }
      ]
    },
    {
      "cell_type": "code",
      "metadata": {
        "id": "5kSqL55IOH7J",
        "outputId": "3645343e-e197-45e1-b2f9-5100bf9c25dd",
        "colab": {
          "base_uri": "https://localhost:8080/",
          "height": 53
        }
      },
      "source": [
        "# calculando o mse dos modelos\n",
        "mse_reg = mse(y_true=y, y_pred=y_pred)\n",
        "print(\"MSE do modelo de regressão:\", mse_reg)\n",
        "mse_ref = mse(y_true=y, y_pred=y_pred, is_ref=True)\n",
        "print(\"MSE do modelo de referência:\", mse_ref)"
      ],
      "execution_count": null,
      "outputs": [
        {
          "output_type": "stream",
          "text": [
            "MSE do modelo de regressão: 0.015331627377597712\n",
            "MSE do modelo de referência: 1.734399498892871\n"
          ],
          "name": "stdout"
        }
      ]
    },
    {
      "cell_type": "code",
      "metadata": {
        "id": "rqB6OLfFOx_M",
        "outputId": "6483780c-9189-405f-c39b-1badced80a75",
        "colab": {
          "base_uri": "https://localhost:8080/",
          "height": 35
        }
      },
      "source": [
        "# calculando o R2 score\n",
        "r2_score = r2(mse_reg=mse_reg, mse_ref=mse_ref)\n",
        "print(\"Coeficiente R2 do modelo implementado (calculado):\", r2_score)"
      ],
      "execution_count": null,
      "outputs": [
        {
          "output_type": "stream",
          "text": [
            "Coeficiente R2 do modelo implementado (calculado): 0.9911602676388085\n"
          ],
          "name": "stdout"
        }
      ]
    },
    {
      "cell_type": "code",
      "metadata": {
        "id": "_oX5Ef7IPM6C",
        "outputId": "5508a75f-b1ec-435b-a910-1053b548c14f",
        "colab": {
          "base_uri": "https://localhost:8080/",
          "height": 35
        }
      },
      "source": [
        "# score retornado pelo scikit-learn\n",
        "r2_score_skl = reg.score(x, y)\n",
        "print(\"Coeficiente R2 do modelo implementado (scikit-learn):\", r2_score_skl)"
      ],
      "execution_count": null,
      "outputs": [
        {
          "output_type": "stream",
          "text": [
            "Coeficiente R2 do modelo implementado (scikit-learn): 0.9911602676388084\n"
          ],
          "name": "stdout"
        }
      ]
    },
    {
      "cell_type": "code",
      "metadata": {
        "id": "jKKAUuKsPvTb"
      },
      "source": [
        ""
      ],
      "execution_count": null,
      "outputs": []
    }
  ]
}
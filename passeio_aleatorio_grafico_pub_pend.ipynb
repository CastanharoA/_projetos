{
  "nbformat": 4,
  "nbformat_minor": 0,
  "metadata": {
    "colab": {
      "provenance": [],
      "authorship_tag": "ABX9TyMNwtRhoEV4yelV6qCXcBCk",
      "include_colab_link": true
    },
    "kernelspec": {
      "name": "python3",
      "display_name": "Python 3"
    },
    "language_info": {
      "name": "python"
    }
  },
  "cells": [
    {
      "cell_type": "markdown",
      "metadata": {
        "id": "view-in-github",
        "colab_type": "text"
      },
      "source": [
        "<a href=\"https://colab.research.google.com/github/CastanharoA/_projetos/blob/master/passeio_aleatorio_grafico_pub_pend.ipynb\" target=\"_parent\"><img src=\"https://colab.research.google.com/assets/colab-badge.svg\" alt=\"Open In Colab\"/></a>"
      ]
    },
    {
      "cell_type": "code",
      "execution_count": null,
      "metadata": {
        "id": "4oLCprlIzyY2"
      },
      "outputs": [],
      "source": [
        "import pandas as pd\n",
        "import pandas_datareader.data as web\n",
        "import numpy as np\n",
        "import matplotlib.pyplot as plt\n",
        "\n",
        "# Baixando as cotações do Yahoo Finance para o Índice Bovespa para ITUB4 nos últimos 5 anos\n",
        "ibov_itub4 = web.get_data_yahoo('ITUB4.SA', start='2018-10-01', end='2023-10-01')\n",
        "\n",
        "# Suposições\n",
        "returns = ibov_itub4['Close'].pct_change()\n",
        "mu = returns.mean()  # Média dos retornos\n",
        "sigma = returns.std()  # Desvio padrão dos retornos\n",
        "\n",
        "print(\"Média dos retornos (μ):\", mu)\n",
        "print(\"Desvio padrão dos retornos (σ):\", sigma)\n",
        "\n",
        "# Número de dias a serem simulados\n",
        "num_days = len(ibov_itub4)\n",
        "\n",
        "# Simulação do passeio aleatório\n",
        "simulated_returns = np.random.normal(0, 1, num_days) * sigma  # Gerar os retornos simulados\n",
        "simulated_prices = [ibov_itub4['Close'].iloc[0]]  # Valor inicial do preço real\n",
        "\n",
        "for i in range(num_days):\n",
        "    new_price = simulated_prices[-1] * (1 + simulated_returns[i])\n",
        "    simulated_prices.append(new_price)\n",
        "\n",
        "# Criar um DataFrame com os dados simulados\n",
        "simulated_data = pd.DataFrame({\n",
        "    'Date': ibov_itub4.index,\n",
        "    'Simulated_Close': simulated_prices[1:]  # Excluir o primeiro preço, pois é o preço real\n",
        "})\n",
        "simulated_data.set_index('Date', inplace=True)\n",
        "\n",
        "# Plotar os dados reais e simulados\n",
        "plt.figure(figsize=(12, 6))\n",
        "plt.plot(ibov_itub4.index, ibov_itub4['Close'], label='Real ITUB4 Close', color='blue')\n",
        "plt.plot(simulated_data.index, simulated_data['Simulated_Close'], label='Simulated Close', color='orange', linestyle='--')\n",
        "plt.xlabel('Data')\n",
        "plt.ylabel('Preço')\n",
        "plt.title('Dados Reais vs. Simulação de Passeio Aleatório para ITUB4')\n",
        "plt.legend()\n",
        "plt.grid(True)\n",
        "plt.show()\n"
      ]
    },
    {
      "cell_type": "markdown",
      "source": [],
      "metadata": {
        "id": "0HISn9R80vyb"
      }
    },
    {
      "cell_type": "markdown",
      "source": [],
      "metadata": {
        "id": "yadZUCHA1CSE"
      }
    },
    {
      "cell_type": "markdown",
      "source": [
        "import pandas as pd\n",
        "import pandas_datareader.data as web\n",
        "import numpy as np\n",
        "import matplotlib.pyplot as plt\n",
        "\n",
        "# Baixando as cotações do Yahoo Finance para o Índice Bovespa para ITUB4 nos últimos 5 anos\n",
        "ibov_itub4 = web.get_data_yahoo('ITUB4.SA', start='2018-10-01', end='2023-10-01')\n",
        "\n",
        "# Suposições\n",
        "returns = ibov_itub4['Close'].pct_change()\n",
        "mu = returns.mean()  # Média dos retornos\n",
        "sigma = returns.std()  # Desvio padrão dos retornos\n",
        "\n",
        "print(\"Média dos retornos (μ):\", mu)\n",
        "print(\"Desvio padrão dos retornos (σ):\", sigma)\n",
        "\n",
        "# Número de dias a serem simulados\n",
        "num_days = len(ibov_itub4)\n",
        "\n",
        "# Simulação do passeio aleatório\n",
        "simulated_returns = np.random.normal(0, 1, num_days) * sigma  # Gerar os retornos simulados\n",
        "simulated_prices = [ibov_itub4['Close'].iloc[0]]  # Valor inicial do preço real\n",
        "\n",
        "for i in range(num_days):\n",
        "    new_price = simulated_prices[-1] * (1 + simulated_returns[i])\n",
        "    simulated_prices.append(new_price)\n",
        "\n",
        "# Criar um DataFrame com os dados simulados\n",
        "simulated_data = pd.DataFrame({\n",
        "    'Date': ibov_itub4.index,\n",
        "    'Simulated_Close': simulated_prices[1:]  # Excluir o primeiro preço, pois é o preço real\n",
        "})\n",
        "simulated_data.set_index('Date', inplace=True)\n",
        "\n",
        "# Plotar os dados reais e simulados\n",
        "plt.figure(figsize=(12, 6))\n",
        "plt.plot(ibov_itub4.index, ibov_itub4['Close'], label='Real ITUB4 Close', color='blue')\n",
        "plt.plot(simulated_data.index, simulated_data['Simulated_Close'], label='Simulated Close', color='orange', linestyle='--')\n",
        "plt.xlabel('Data')\n",
        "plt.ylabel('Preço')\n",
        "plt.title('Dados Reais vs. Simulação de Passeio Aleatório para ITUB4')\n",
        "plt.legend()\n",
        "plt.grid(True)\n",
        "plt.show()\n"
      ],
      "metadata": {
        "id": "dejc5Ssr1Ija"
      }
    },
    {
      "cell_type": "markdown",
      "source": [],
      "metadata": {
        "id": "l-5I3nCozzgR"
      }
    },
    {
      "cell_type": "markdown",
      "source": [
        "\n",
        "O código realiza a seguinte sequência de ações:\n",
        "\n",
        "1. Baixa os dados reais de preços de ações do Índice Bovespa para a ação ITUB4 do Yahoo Finance no período de 5 anos (de 2018-10-01 a 2023-10-01).\n",
        "\n",
        "2. Calcula a média dos retornos (μ) e o desvio padrão dos retornos (σ) com base nos retornos reais da ação ITUB4. Esses valores são usados como suposições para a simulação.\n",
        "\n",
        "3. Gera retornos simulados com base em uma distribuição normal padrão, onde a média é zero e o desvio padrão é σ. Esses retornos simulados representam os retornos hipotéticos da ação.\n",
        "\n",
        "4. Calcula os preços simulados a partir dos retornos simulados usando um processo de passeio aleatório. Os preços simulados são iniciados a partir do preço real inicial.\n",
        "\n",
        "5. Cria um DataFrame com os dados simulados, incluindo a data e os preços simulados.\n",
        "\n",
        "6. Plota um gráfico que compara os preços reais (linha azul) com os preços simulados (linha laranja tracejada).\n",
        "\n",
        "A razão para haver duas linhas no gráfico (uma azul e uma laranja) é que o objetivo do gráfico é comparar os preços reais (linha azul) com os preços simulados (linha laranja). A linha azul representa os preços reais da ação ITUB4, enquanto a linha laranja representa os preços simulados com base nas suposições feitas.\n",
        "\n",
        "Essa comparação ajuda a visualizar como os preços simulados se comportariam em relação aos preços reais, dadas as suposições sobre os retornos e o processo de passeio aleatório. É uma maneira de ilustrar como a volatilidade dos retornos pode afetar os preços ao longo do tempo, permitindo que a volatilidade varie com base no desvio padrão σ.\n",
        "\n",
        "Em resumo, as duas linhas são usadas para comparar o mundo real (linha azul) com uma simulação hipotética (linha laranja) com base nas suposições feitas."
      ],
      "metadata": {
        "id": "uCj6e0_61TRH"
      }
    },
    {
      "cell_type": "markdown",
      "source": [
        " Bovespa para ITUB4 nos últimos 5 anos\n",
        "ibov_itub4 = web.get_data_yahoo('ITUB4.SA', start='2018-10-01', end='2023-10-01') e  com os seguintes conseitos   : Exemplificando uma suposição de preços de ativos financeiros, onde Pt representa o preço da ação no tempo, μ a média dos retornos, Pt−1 é o preço da ação em um tempo anterior (tempo t-1), é o desvio padrão dos retorno, εt é um de erro que segue a distribuição normal padrão N(0, 1) e é independente ao longo do tempo: Pt = μ + Pt−1 + σ εt e A suposição realista que  rt = σtεt, onde εt ∼ N(0, 1)\"modela os retornos como o produto entre o desvio padrão instantâneo σt e um termo de erro εt que segue uma distribuição normal padrão. Isso permite que a volatilidade dos retornos varie ao longo do tempo, não aceita uma volatilidade constante.em python"
      ],
      "metadata": {
        "id": "bum8X_G_1WC3"
      }
    },
    {
      "cell_type": "code",
      "source": [
        "usao no tcc pag 28"
      ],
      "metadata": {
        "id": "fpPyfdfy1dwa"
      },
      "execution_count": null,
      "outputs": []
    },
    {
      "cell_type": "code",
      "source": [
        "import pandas as pd\n",
        "import pandas_datareader.data as web\n",
        "import numpy as np\n",
        "import matplotlib.pyplot as plt\n",
        "\n",
        "# Baixando as cotações do Yahoo Finance para o Índice Bovespa para ITUB4 nos últimos 5 anos\n",
        "ibov_itub4 = web.get_data_yahoo('ITUB4.SA', start='2018-10-01', end='2023-10-01')\n",
        "\n",
        "# Suposições\n",
        "returns = ibov_itub4['Close'].pct_change()\n",
        "mu = returns.mean()  # Média dos retornos\n",
        "sigma = returns.std()  # Desvio padrão dos retornos\n",
        "\n",
        "print(\"Média dos retornos (μ):\", mu)\n",
        "print(\"Desvio padrão dos retornos (σ):\", sigma)\n",
        "\n",
        "# Número de dias a serem simulados\n",
        "num_days = len(ibov_itub4)\n",
        "\n",
        "# Simulação do passeio aleatório\n",
        "simulated_returns = np.random.normal(0, 1, num_days) * sigma  # Gerar os retornos simulados\n",
        "simulated_prices = [ibov_itub4['Close'].iloc[0]]  # Valor inicial do preço real\n",
        "\n",
        "for i in range(num_days):\n",
        "    new_price = simulated_prices[-1] * (1 + simulated_returns[i])\n",
        "    simulated_prices.append(new_price)\n",
        "\n",
        "# Criar um DataFrame com os dados simulados\n",
        "simulated_data = pd.DataFrame({\n",
        "    'Date': ibov_itub4.index,\n",
        "    'Simulated_Close': simulated_prices[1:]  # Excluir o primeiro preço, pois é o preço real\n",
        "})\n",
        "simulated_data.set_index('Date', inplace=True)\n",
        "\n",
        "# Plotar os dados reais e simulados\n",
        "plt.figure(figsize=(12, 6))\n",
        "plt.plot(ibov_itub4.index, ibov_itub4['Close'], label='Real ITUB4 Close', color='blue')\n",
        "plt.plot(simulated_data.index, simulated_data['Simulated_Close'], label='Simulated Close', color='orange', linestyle='--')\n",
        "plt.xlabel('Data')\n",
        "plt.ylabel('Preço')\n",
        "plt.title('Dados Reais vs. Simulação de Passeio Aleatório para ITUB4')\n",
        "plt.legend()\n",
        "plt.grid(True)\n",
        "plt.show()"
      ],
      "metadata": {
        "id": "UW4A1LCp1shL"
      },
      "execution_count": null,
      "outputs": []
    }
  ]
}